{
 "cells": [
  {
   "cell_type": "markdown",
   "metadata": {},
   "source": [
    "# Curso de Python: Semuni UnB 2021"
   ]
  },
  {
   "cell_type": "markdown",
   "metadata": {},
   "source": [
    "O curso vai ter 5 dias de duração. Cada dia vai ter 1 hora e meia de exposição e meia hora para revisão e para responder perguntas no youtube. "
   ]
  },
  {
   "cell_type": "markdown",
   "metadata": {},
   "source": [
    "Os 5 dias vão ser assim:\n",
    "\n",
    "* **DIA 1.** Introdução. O que é programação? Por que programar? Linguagens de Programação. Por que escolher o Python? História do Python. Onde Python é utilizado? Instalando o Python. O que são Ambientes de Desenvolvimento Integrados? Sublime, Visual Studio, PyCharm, IDLE,  Atom. Anaconda. Spyder. Jupyter Notebook e Google Colab. Exemplo de código. Input e Print. _Tarefa de Casa._ \n",
    "\n",
    "\n",
    "* **DIA 2.** Variáveis e tipos de dados no Python. Strings. Inteiros e Floats. Listas, Tuplas, Conjuntos e Dicionários. Conversão. Booleanos. Condicionais. Loops. Erros no código. _Tarefa de Casa._ \n",
    "\n",
    "\n",
    "* **DIA 3.** Funções. Por que usar funções? Parâmetros de entrada e de saída. Parâmetros predefinidos, *args e *kwargs.  _Tarefa de Casa_.\n",
    "\n",
    "\n",
    "* **DIA 4.** Classes e Objetos. Métodos. Classes definidas pelo Python. Classes definidas pelo usuário. Herança. Programação orientada a objetos. _Tarefa de Casa._\n",
    "\n",
    "\n",
    "* **DIA 5.** Usando bibliotecas externas. Numpy. Plotando gráficos com o matplotlib. Bibliotecas e Frameworks. Próximos passos. Projetos, Github!  _Tarefa de Casa_."
   ]
  },
  {
   "cell_type": "markdown",
   "metadata": {},
   "source": [
    "---"
   ]
  },
  {
   "cell_type": "markdown",
   "metadata": {},
   "source": [
    "---"
   ]
  },
  {
   "cell_type": "markdown",
   "metadata": {},
   "source": [
    "---"
   ]
  },
  {
   "cell_type": "markdown",
   "metadata": {},
   "source": [
    "# Curso de Python: Dia 1 (Apresentação, Introdução, Input, Print)"
   ]
  },
  {
   "cell_type": "markdown",
   "metadata": {},
   "source": [
    "## Apresentação"
   ]
  },
  {
   "cell_type": "markdown",
   "metadata": {},
   "source": [
    "Apresentação de slides. "
   ]
  },
  {
   "cell_type": "markdown",
   "metadata": {},
   "source": [
    "Linguagens de Programação:"
   ]
  },
  {
   "cell_type": "markdown",
   "metadata": {},
   "source": [
    "* <b>Front-End:</b> HTML, CSS, JavaScript\n",
    "\n",
    "* <b>Back-End:</b> Python, C, C++, C#, Ruby, Java, PHP\n",
    "\n",
    "* <b>Linguagens utilizadas na computação científica:</b> Fortran, C, C++, Matlab, Octave, Julia, Python, R"
   ]
  },
  {
   "cell_type": "markdown",
   "metadata": {},
   "source": [
    "Por que escolher o Python? Python é \n",
    "\n",
    "* open source\n",
    "\n",
    "* gratuito \n",
    "\n",
    "* Linguagem Interpretada.\n",
    "\n",
    "* GPL: General Purpose Language.\n",
    "\n",
    "* fácil de aprender (excelente para iniciantes)\n",
    "\n",
    "* códigos mais curtos e melhores de entender\n",
    "\n",
    "* existem muitas bibliotecas e frameworks disponíveis\n",
    "\n",
    "* muito utilizado por grandes empresas (Google, Instagram, Amazon, Spotify, Youtube). \n",
    "\n",
    "* muito utilizado também no meio científico (numpy, scipy, pandas, astropy)  \n",
    "\n",
    "* conversa muito bem com outras linguagens (C, C++ e Fortran)"
   ]
  },
  {
   "cell_type": "markdown",
   "metadata": {},
   "source": [
    "Principais desvantagens:\n",
    "\n",
    "* lenta\n",
    "* consome mais memória do que algumas outras linguagens\n",
    "* não é muito boa no desenvolvimento de aplicativos de celular"
   ]
  },
  {
   "cell_type": "markdown",
   "metadata": {},
   "source": [
    "A boa notícia é que temos muitas formas de acelerar um código em python. Vamos ver isso depois. "
   ]
  },
  {
   "cell_type": "markdown",
   "metadata": {},
   "source": [
    "O que dá pra fazer com Python:\n",
    "\n",
    "* Scripts (códigos, roteiros, programas) para automatizar tarefas do dia a dia. Mover arquivos, criar arquivos, ler e-mails. Rotinas de otimizações.\n",
    "* Desenvolvimento para desktop. Aplicativos do computador. Programas com interface para o usuário (usando PyQt, Tkinter, PySimpleGUI).\n",
    "* Análise de Dados.\n",
    "* Inteligência Artificial. Algoritmo que aprende com os dados de entrada.\n",
    "* Desenvolvimento de jogos (Pygame).\n",
    "* Desenvolvimento web. Desenvolvimento de sites (Django). "
   ]
  },
  {
   "cell_type": "markdown",
   "metadata": {},
   "source": [
    "História do Python:\n",
    "\n",
    "* Guido von Rossum criou o Python em 1991.\n",
    "\n",
    "* Monty Python, grupo de comédia.\n",
    "\n",
    "* Elegante e intuitiva. \n",
    "\n",
    "* The Zen of Python "
   ]
  },
  {
   "cell_type": "code",
   "execution_count": 1,
   "metadata": {},
   "outputs": [
    {
     "name": "stdout",
     "output_type": "stream",
     "text": [
      "The Zen of Python, by Tim Peters\n",
      "\n",
      "Beautiful is better than ugly.\n",
      "Explicit is better than implicit.\n",
      "Simple is better than complex.\n",
      "Complex is better than complicated.\n",
      "Flat is better than nested.\n",
      "Sparse is better than dense.\n",
      "Readability counts.\n",
      "Special cases aren't special enough to break the rules.\n",
      "Although practicality beats purity.\n",
      "Errors should never pass silently.\n",
      "Unless explicitly silenced.\n",
      "In the face of ambiguity, refuse the temptation to guess.\n",
      "There should be one-- and preferably only one --obvious way to do it.\n",
      "Although that way may not be obvious at first unless you're Dutch.\n",
      "Now is better than never.\n",
      "Although never is often better than *right* now.\n",
      "If the implementation is hard to explain, it's a bad idea.\n",
      "If the implementation is easy to explain, it may be a good idea.\n",
      "Namespaces are one honking great idea -- let's do more of those!\n"
     ]
    }
   ],
   "source": [
    "import this"
   ]
  },
  {
   "cell_type": "markdown",
   "metadata": {},
   "source": [
    "Bonito é melhor que feio.\n",
    "\n",
    "Explícito é melhor que implícito.\n",
    "\n",
    "Simples é melhor que complexo.\n",
    "\n",
    "Complexo é melhor que complicado.\n",
    "\n",
    "Linear é melhor do que aninhado.\n",
    "\n",
    "Esparso é melhor que denso.\n",
    "\n",
    "Legibilidade conta.\n",
    "\n",
    "Casos especiais não são especiais o bastante para quebrar as regras.\n",
    "\n",
    "Ainda que praticidade vença a pureza.\n",
    "\n",
    "Erros nunca devem passar silenciosamente. \n",
    "\n",
    "A menos que sejam explicitamente silenciados.\n",
    "\n",
    "Diante da ambiguidade, recuse a tentação de adivinhar.\n",
    "\n",
    "Dever haver um — e preferencialmente apenas um — modo óbvio para fazer algo.\n",
    "\n",
    "Embora esse modo possa não ser óbvio a princípio, a menos que você seja holandês.\n",
    "\n",
    "Agora é melhor que nunca.\n",
    "\n",
    "Apesar de que nunca normalmente é melhor do que *exatamente* agora\n",
    "\n",
    "Se a implementação é difícil de explicar, é uma má ideia\n",
    "\n",
    "Se a implementação é fácil de explicar, pode ser uma boa ideia\n",
    "\n",
    "Namespaces são uma grande ideia — vamos ter mais dessas!"
   ]
  },
  {
   "cell_type": "markdown",
   "metadata": {},
   "source": [
    "## Instalando o Python"
   ]
  },
  {
   "cell_type": "markdown",
   "metadata": {},
   "source": [
    "Temos várias maneiras de instalar o Python no computador. \n",
    "\n",
    "A mais simples delas é através do Pacote Anaconda. Esse pacote possui muitas ferramentas do Python. \n",
    "\n",
    "((Entre em https://www.anaconda.com/ . Para um passo a passo da instalação no Windows, veja esse vídeo https://youtu.be/_eK0z5QbpKA .))\n",
    "\n",
    "Temos várias IDEs (Ambientes de Desenvolvimento Integrado) para Python. As mais famosas são: PyCharm, Visual Studio Code, Sublime Text, Atom, IDLE, Spyder.\n",
    "\n",
    "**Jupyter Notebook** (essa que estou usando, já vem no pacote Anaconda): permite colocar texto, figuras e códigos no mesmo lugar.\n",
    "\n",
    "![figura](Colorida_fundo_branco.png)\n",
    "\n",
    "<img src=\"Colorida_fundo_branco.png\" alt=\"drawing\" width=\"50%\"/>\n",
    "\n",
    "**Google Colab:** permite usar o Jupyter Notebook de maneira remota, sem precisar instalar. Basta ter uma conta no Google. A vantagem é que o código roda na nuvem, e não no computador. Dá pra usar no celular.\n",
    "\n",
    "((Aqui no nosso curso vou usar o Jupyter.))"
   ]
  },
  {
   "cell_type": "markdown",
   "metadata": {},
   "source": [
    "## Funções print e input."
   ]
  },
  {
   "cell_type": "markdown",
   "metadata": {},
   "source": [
    "Vamos começar a brincadeira.\n",
    "\n",
    "Vamos ver rapidamente essas duas funções muito utilizadas no python: _print_ e _input_.\n",
    "\n",
    "A função print é muito utilizada no Python. Ela escreve (imprime ou printa) na tela as informações do código.\n",
    "\n",
    "Pra dar sorte, sempre o primeiro código tem que ser printar Hello World! na tela."
   ]
  },
  {
   "cell_type": "code",
   "execution_count": 1,
   "metadata": {
    "scrolled": true
   },
   "outputs": [
    {
     "name": "stdout",
     "output_type": "stream",
     "text": [
      "Hello World!\n"
     ]
    }
   ],
   "source": [
    "print('Hello World!')"
   ]
  },
  {
   "cell_type": "markdown",
   "metadata": {},
   "source": [
    "Podemos imprimir números também."
   ]
  },
  {
   "cell_type": "code",
   "execution_count": 2,
   "metadata": {},
   "outputs": [
    {
     "name": "stdout",
     "output_type": "stream",
     "text": [
      "42\n"
     ]
    }
   ],
   "source": [
    "print(42)"
   ]
  },
  {
   "cell_type": "markdown",
   "metadata": {},
   "source": [
    "E variáveis."
   ]
  },
  {
   "cell_type": "code",
   "execution_count": 5,
   "metadata": {},
   "outputs": [
    {
     "name": "stdout",
     "output_type": "stream",
     "text": [
      "5 9\n"
     ]
    }
   ],
   "source": [
    "a = 5\n",
    "\n",
    "b = 9\n",
    "\n",
    "print(a, b)"
   ]
  },
  {
   "cell_type": "markdown",
   "metadata": {},
   "source": [
    "Agora vamos fazer algumas contas."
   ]
  },
  {
   "cell_type": "code",
   "execution_count": 5,
   "metadata": {},
   "outputs": [
    {
     "name": "stdout",
     "output_type": "stream",
     "text": [
      "10\n"
     ]
    }
   ],
   "source": [
    "a = 5 \n",
    "\n",
    "b = a + 5\n",
    "\n",
    "print(b)"
   ]
  },
  {
   "cell_type": "code",
   "execution_count": 83,
   "metadata": {},
   "outputs": [
    {
     "name": "stdout",
     "output_type": "stream",
     "text": [
      "5 40\n"
     ]
    }
   ],
   "source": [
    "a = 5\n",
    "\n",
    "b = 8*a\n",
    "\n",
    "print(a, b)"
   ]
  },
  {
   "cell_type": "code",
   "execution_count": 4,
   "metadata": {
    "scrolled": true
   },
   "outputs": [
    {
     "name": "stdout",
     "output_type": "stream",
     "text": [
      "O valor de a é 27 .\n",
      "O valor de b é  9.0 .\n"
     ]
    }
   ],
   "source": [
    "a = 27\n",
    "\n",
    "b = a/3\n",
    "\n",
    "print('O valor de a é', a, '.')\n",
    "\n",
    "print('O valor de b é ', b, '.')"
   ]
  },
  {
   "cell_type": "markdown",
   "metadata": {},
   "source": [
    "Podemos ter variáveis que representam palavras também."
   ]
  },
  {
   "cell_type": "code",
   "execution_count": 4,
   "metadata": {},
   "outputs": [
    {
     "name": "stdout",
     "output_type": "stream",
     "text": [
      "Adriano\n"
     ]
    }
   ],
   "source": [
    "nome = 'Adriano'\n",
    "\n",
    "print(nome)"
   ]
  },
  {
   "cell_type": "markdown",
   "metadata": {},
   "source": [
    "((Na próxima aula veremos mais sobre os tipos de dados existentes no Python.))"
   ]
  },
  {
   "cell_type": "markdown",
   "metadata": {},
   "source": [
    "A função **input** (entrada), por outro lado, pega informações do usuário.\n",
    "\n",
    "O que o usuário digitar vai aparecer na variável nome, no código abaixo."
   ]
  },
  {
   "cell_type": "code",
   "execution_count": 6,
   "metadata": {},
   "outputs": [
    {
     "name": "stdout",
     "output_type": "stream",
     "text": [
      "Qual é o seu nome? Adriano\n",
      "Adriano\n"
     ]
    }
   ],
   "source": [
    "nome = input('Qual é o seu nome? ')\n",
    "\n",
    "print(nome)"
   ]
  },
  {
   "cell_type": "markdown",
   "metadata": {},
   "source": [
    "Porém, a função input nos dá uma palavra como resposta, mesmo que a entrada seja um número."
   ]
  },
  {
   "cell_type": "code",
   "execution_count": 7,
   "metadata": {},
   "outputs": [
    {
     "name": "stdout",
     "output_type": "stream",
     "text": [
      "Qual é a sua idade? 31\n",
      "31\n"
     ]
    }
   ],
   "source": [
    "idade = input('Qual é a sua idade? ')\n",
    "\n",
    "print(idade)"
   ]
  },
  {
   "cell_type": "markdown",
   "metadata": {},
   "source": [
    "Queremos manipular com o dado de entrada, seja ele um nome ou número.\n",
    "\n",
    "Ou seja, queremos pegar o dado de entrada, trabalhar com ele, e retornar um dado que tenha algum significado. \n",
    "\n",
    "A entrada é o _input_ e a saída é o _output_. \n",
    "\n",
    "Um exemplo bem simples: o usuário entra com a data de nascimento e o código retorna o ano de nascimento.\n",
    "\n",
    "Se tentarmos fazer uma conta com o dado de entrada diretamente, teremos um erro."
   ]
  },
  {
   "cell_type": "code",
   "execution_count": 8,
   "metadata": {},
   "outputs": [
    {
     "name": "stdout",
     "output_type": "stream",
     "text": [
      "Qual é a sua idade hoje? 31\n"
     ]
    },
    {
     "ename": "TypeError",
     "evalue": "unsupported operand type(s) for -: 'int' and 'str'",
     "output_type": "error",
     "traceback": [
      "\u001b[0;31m---------------------------------------------------------------------------\u001b[0m",
      "\u001b[0;31mTypeError\u001b[0m                                 Traceback (most recent call last)",
      "\u001b[0;32m<ipython-input-8-57395589dfec>\u001b[0m in \u001b[0;36m<module>\u001b[0;34m\u001b[0m\n\u001b[1;32m      1\u001b[0m \u001b[0midade\u001b[0m \u001b[0;34m=\u001b[0m \u001b[0minput\u001b[0m\u001b[0;34m(\u001b[0m\u001b[0;34m'Qual é a sua idade hoje? '\u001b[0m\u001b[0;34m)\u001b[0m\u001b[0;34m\u001b[0m\u001b[0;34m\u001b[0m\u001b[0m\n\u001b[1;32m      2\u001b[0m \u001b[0;34m\u001b[0m\u001b[0m\n\u001b[0;32m----> 3\u001b[0;31m \u001b[0mano_de_nascimento\u001b[0m \u001b[0;34m=\u001b[0m \u001b[0;36m2021\u001b[0m \u001b[0;34m-\u001b[0m \u001b[0midade\u001b[0m\u001b[0;34m\u001b[0m\u001b[0;34m\u001b[0m\u001b[0m\n\u001b[0m",
      "\u001b[0;31mTypeError\u001b[0m: unsupported operand type(s) for -: 'int' and 'str'"
     ]
    }
   ],
   "source": [
    "idade = input('Qual é a sua idade hoje? ')\n",
    "\n",
    "ano_de_nascimento = 2021 - idade"
   ]
  },
  {
   "cell_type": "markdown",
   "metadata": {},
   "source": [
    "Note que o código não rodou. \n",
    "\n",
    "O python encontrou um erro e parou o código. \n",
    "\n",
    "No caso, o erro aconteceu porque eu tentei somar um número com uma palavra.\n",
    "\n",
    "Para nos ajudar, o python indica **onde está o erro** no código e qual é o **tipo do erro**.\n",
    "\n",
    "É muito importante saber identificar erros, pois sempre vamos encontrá-los.\n",
    "\n",
    "((Vamos voltar nesse assunto nas próximas aulas.))\n",
    "\n",
    "A entrada é sempre uma _string_ (palavra), e não podemos fazer uma operação de subtração com um inteiro e uma _string_. \n",
    "\n",
    "Por isso, temos que transformar o dado de entrada em um inteiro, usando a função _int_. "
   ]
  },
  {
   "cell_type": "code",
   "execution_count": 9,
   "metadata": {},
   "outputs": [
    {
     "name": "stdout",
     "output_type": "stream",
     "text": [
      "Qual é a sua idade hoje? 31\n",
      "\n",
      "Você nasceu em 1990 ou em 1989 .\n"
     ]
    }
   ],
   "source": [
    "idade = input('Qual é a sua idade hoje? ')\n",
    "\n",
    "ano_de_nascimento = 2021 - int(idade)\n",
    "\n",
    "print('\\nVocê nasceu em', ano_de_nascimento, 'ou em', ano_de_nascimento - 1, '.')"
   ]
  },
  {
   "cell_type": "markdown",
   "metadata": {},
   "source": [
    "Agora funcionou.\n",
    "\n",
    "Vamos printar agora as três informações: nome, idade e ano de nascimento. "
   ]
  },
  {
   "cell_type": "code",
   "execution_count": 2,
   "metadata": {},
   "outputs": [
    {
     "name": "stdout",
     "output_type": "stream",
     "text": [
      "Qual é o seu nome? João \n",
      "Qual é a sua idade hoje? 31\n",
      "\n",
      "O seu nome é João  . Você tem 31 anos e nasceu em 1990 ou em 1989 .\n"
     ]
    }
   ],
   "source": [
    "nome = input('Qual é o seu nome? ')\n",
    "\n",
    "idade = input('Qual é a sua idade hoje? ')\n",
    "\n",
    "ano_de_nascimento = 2021 - int(idade)\n",
    "\n",
    "print('\\nO seu nome é', nome, '. Você tem', idade, 'anos e nasceu em', \n",
    "      ano_de_nascimento, 'ou em', ano_de_nascimento - 1, '.')"
   ]
  },
  {
   "cell_type": "markdown",
   "metadata": {},
   "source": [
    "Pronto, vamos fechar a aula de hoje com esse exemplo. \n",
    "\n",
    "Na próxima aula vamos ver vários detalhes do código acima. \n",
    "\n",
    "Vamos ver o que é uma **variável** e quais são os **tipos de dados** que podemos usar no Python (_strings, inteiros, floats, listas...._).\n",
    "\n",
    "Não se preocupe se você não conseguiu entender tudo que apareceu nos códigos dessa aula. Vamos com calma!!"
   ]
  },
  {
   "cell_type": "markdown",
   "metadata": {},
   "source": [
    "## Tarefa de Casa"
   ]
  },
  {
   "cell_type": "markdown",
   "metadata": {},
   "source": [
    "1. Instalar o Python no computador e deixar tudo pronto pra rodar. Faça alguns testes. (De preferência, instale o Anaconda.) Se você for usar o Google Colab não tem problema, mas tenha certeza de que ele está funcionando bem.\n",
    "\n",
    "1. Peça ao usuário para entrar o seu nome, sobrenome, idade e profissão. Imprima na tela uma frase contendo essas informações. \n",
    "\n",
    "1. Peça ao usuário para entrar com uma distância em metros. Imprima na tela a distância em quilômetros.\n",
    "\n",
    "1. Peça ao usuário para entrar com o valor do seu salário. Imprima na tela quanto ele vai ganhar em 7 meses de trabalho.\n",
    "\n",
    "1. Uma pessoa aplicou um determinado valor $x$ na poupança. Se esse dinheiro ficou parado lá, qual será o valor total depois de um ano? Pesquise qual é o rendimento atual da poupança. "
   ]
  },
  {
   "cell_type": "markdown",
   "metadata": {},
   "source": [
    "---"
   ]
  },
  {
   "cell_type": "markdown",
   "metadata": {},
   "source": [
    "---"
   ]
  },
  {
   "cell_type": "markdown",
   "metadata": {},
   "source": [
    "---"
   ]
  },
  {
   "cell_type": "markdown",
   "metadata": {},
   "source": [
    "# Curso de Python: Dia 2 (Variáveis e Tipos de Dados)"
   ]
  },
  {
   "cell_type": "markdown",
   "metadata": {},
   "source": [
    "## Revisão"
   ]
  },
  {
   "cell_type": "markdown",
   "metadata": {},
   "source": [
    "Pra dar sorte, quando se está aprendendo uma nova linguagem de programação, o primeiro código tem que ser sempre printar _Hello World!_ na tela.  \n",
    "\n",
    "**print** é uma função e tem um argumento entre parênteses. \n",
    "\n",
    "**print** significa mostrar na tela. "
   ]
  },
  {
   "cell_type": "code",
   "execution_count": 12,
   "metadata": {},
   "outputs": [
    {
     "name": "stdout",
     "output_type": "stream",
     "text": [
      "Hello\n",
      "World\n",
      "!\n"
     ]
    }
   ],
   "source": [
    "print(\"Hello\")\n",
    "print('World')\n",
    "print('!')"
   ]
  },
  {
   "cell_type": "markdown",
   "metadata": {},
   "source": [
    "Quando eu executo um código python ele vai lendo linha a linha o que está escrito no _script_ (roteiro).\n",
    "\n",
    "Ele vai interpretando e executando linha por linha. \n",
    "\n",
    "Agora vamos ler um dado fornecido pelo usuário do código, usando a função **input**."
   ]
  },
  {
   "cell_type": "code",
   "execution_count": 14,
   "metadata": {},
   "outputs": [
    {
     "name": "stdout",
     "output_type": "stream",
     "text": [
      "Qual é o seu nome? Adriano\n",
      "Qual é o seu sobrenome? Rosa\n",
      "\n",
      "Seu nome completo é Adriano Rosa.\n"
     ]
    }
   ],
   "source": [
    "nome = input('Qual é o seu nome? ')\n",
    "\n",
    "sobrenome = input('Qual é o seu sobrenome? ')\n",
    "\n",
    "print('\\nSeu nome completo é', nome + ' ' + sobrenome + '.')"
   ]
  },
  {
   "cell_type": "markdown",
   "metadata": {},
   "source": [
    "Agora vamos pegar a entrada do usuário, em metros, e vamos printar o correspondente em quilômetros. "
   ]
  },
  {
   "cell_type": "code",
   "execution_count": 17,
   "metadata": {},
   "outputs": [
    {
     "name": "stdout",
     "output_type": "stream",
     "text": [
      "Qual é a distância, em metros? 2222\n",
      "\n",
      "A distância, em km, é de 2.222 .\n"
     ]
    }
   ],
   "source": [
    "distancia_em_m = int(input('Qual é a distância, em metros? '))\n",
    "\n",
    "distancia_em_km = distancia_em_m/1000\n",
    "\n",
    "print('\\nA distância, em km, é de', distancia_em_km, '.')"
   ]
  },
  {
   "cell_type": "markdown",
   "metadata": {},
   "source": [
    "## Variáveis e Tipos de Dados"
   ]
  },
  {
   "cell_type": "markdown",
   "metadata": {},
   "source": [
    "Uma variável armazena dados. \n",
    "\n",
    "Você está dando um nome ao seu dado. \n",
    "\n",
    "Isso permite acessar esse dado depois e modificá-lo.\n",
    "\n",
    "Aqui temos um exemplo."
   ]
  },
  {
   "cell_type": "code",
   "execution_count": 18,
   "metadata": {},
   "outputs": [
    {
     "name": "stdout",
     "output_type": "stream",
     "text": [
      "7\n"
     ]
    }
   ],
   "source": [
    "x = 5\n",
    "\n",
    "y = 2\n",
    "\n",
    "z = x + y\n",
    "\n",
    "print(z)"
   ]
  },
  {
   "cell_type": "markdown",
   "metadata": {},
   "source": [
    "Temos vários tipos de dados no python:\n",
    "\n",
    "* palavras: **strings** \n",
    "* numéricos: **int** (números inteiros) e **float** (números reais)\n",
    "* grupos de dados: **lists** (listas), **tuples** (tuplas), **sets** (conjuntos) e **dicts** (dicionários)\n",
    "* booleanos: **True** (verdadeiro) e **False** (Falso)\n",
    "\n",
    "Vamos ver exemplos utilizando esses tipos de dados, começando com strings."
   ]
  },
  {
   "cell_type": "markdown",
   "metadata": {},
   "source": [
    "**Strings** são palavras (a ideia é que você tem várias letras ou caracteres amarrados, formando uma palavra).\n",
    "\n",
    "Strings tem aspas no início e no fim. Você pode usar aspas simples ou duplas.  \n",
    "\n",
    "Precisamos das aspas para strings porque o Python precisa saber que trata-se de um dado, e de uma variável. \n",
    "\n",
    "Atenção: \"3\" é diferente de 3 para o Python. Com o 3 podemos realizar operações matemáticas, com o \"3\" não."
   ]
  },
  {
   "cell_type": "code",
   "execution_count": 22,
   "metadata": {
    "scrolled": true
   },
   "outputs": [
    {
     "name": "stdout",
     "output_type": "stream",
     "text": [
      "<class 'str'>\n",
      "<class 'int'>\n"
     ]
    }
   ],
   "source": [
    "a = \"3\"\n",
    "\n",
    "b = 3\n",
    "\n",
    "print(type(a))\n",
    "\n",
    "print(type(b))"
   ]
  },
  {
   "cell_type": "markdown",
   "metadata": {},
   "source": [
    "No exemplo acima, a e b são diferentes.\n",
    "\n",
    "((A função _type_ informa qual é o tipo de dado que a variável está representando.))\n",
    "\n",
    "Vamos definir o número pi."
   ]
  },
  {
   "cell_type": "code",
   "execution_count": 52,
   "metadata": {
    "scrolled": true
   },
   "outputs": [
    {
     "name": "stdout",
     "output_type": "stream",
     "text": [
      "3.14\n",
      "pi\n"
     ]
    }
   ],
   "source": [
    "pi = 3.14\n",
    "\n",
    "print(pi)\n",
    "\n",
    "print('pi')"
   ]
  },
  {
   "cell_type": "markdown",
   "metadata": {},
   "source": [
    "Note que primeiro o _pi_ não tem aspas. Eu não estou imprimindo a palavra _pi_. \n",
    "\n",
    "Na verdade eu estou querendo imprimir o que está guardado na memória no local que eu chamei de _pi_. \n",
    "\n",
    "Tem uma diferença enorme aí. \n",
    "\n",
    "Uma variável é um jeito de dar um nome ao dado. \n",
    "\n",
    "Existe uma convenção em Python para usar letras minúsculas para variáveis, usar o nome completo e usar o underscore para separar palavras.\n",
    "\n",
    "Na hora de dar nome às variáveis, não pode deixar espaço em branco entre as palavras do nome da variável. \n",
    "\n",
    "Mas podemos ter espaços em branco nas _strings_."
   ]
  },
  {
   "cell_type": "code",
   "execution_count": 32,
   "metadata": {
    "scrolled": true
   },
   "outputs": [
    {
     "name": "stdout",
     "output_type": "stream",
     "text": [
      "Flamengo\n",
      "Vasco da Gama\n",
      "Fluminense\n"
     ]
    }
   ],
   "source": [
    "time_1 = \"Flamengo\"\n",
    "\n",
    "print(time_1)\n",
    "\n",
    "time_2 = \"Vasco da Gama\"\n",
    "\n",
    "print(time_2)\n",
    "\n",
    "time_2 = \"Fluminense\"\n",
    "\n",
    "print(time_2)"
   ]
  },
  {
   "cell_type": "markdown",
   "metadata": {},
   "source": [
    "Note no código acima que você pode mudar o dado contido em uma variável. \n",
    "\n",
    "Podemos fazer várias operações com strings.\n",
    "\n",
    "Podemos 'somar' duas strings."
   ]
  },
  {
   "cell_type": "code",
   "execution_count": 34,
   "metadata": {},
   "outputs": [
    {
     "name": "stdout",
     "output_type": "stream",
     "text": [
      "ForrestGump\n"
     ]
    }
   ],
   "source": [
    "nome = 'Forrest'\n",
    "sobrenome = 'Gump'\n",
    "\n",
    "nome_completo = nome + sobrenome\n",
    "\n",
    "print(nome_completo)"
   ]
  },
  {
   "cell_type": "markdown",
   "metadata": {},
   "source": [
    "Essa operação é chamada de **concatenação**.\n",
    "\n",
    "Estamos unindo, juntando ou concatenando duas strings.\n",
    "\n",
    "Mas ainda não ficou muito legal, pois o nome completo precisa de espaço.\n",
    "\n",
    "Espaço em branco também é uma string.\n",
    "\n",
    "Vamos concatená-lo também. Vou aproveitar para inserir um ponto de exclamação."
   ]
  },
  {
   "cell_type": "code",
   "execution_count": 35,
   "metadata": {},
   "outputs": [
    {
     "name": "stdout",
     "output_type": "stream",
     "text": [
      "Forrest Gump!\n"
     ]
    }
   ],
   "source": [
    "nome = 'Forrest'\n",
    "sobrenome = 'Gump'\n",
    "\n",
    "espaco = ' '\n",
    "\n",
    "exclamacao = '!'\n",
    "\n",
    "nome_completo = nome + espaco + sobrenome + exclamacao\n",
    "\n",
    "print(nome_completo)"
   ]
  },
  {
   "cell_type": "markdown",
   "metadata": {},
   "source": [
    "Mais um exemplo: podemos passar todas as letras para maiúsculas. "
   ]
  },
  {
   "cell_type": "code",
   "execution_count": 36,
   "metadata": {},
   "outputs": [
    {
     "name": "stdout",
     "output_type": "stream",
     "text": [
      "FORREST\n"
     ]
    }
   ],
   "source": [
    "nome_caixa_alta = nome.upper()\n",
    "\n",
    "print(nome_caixa_alta)"
   ]
  },
  {
   "cell_type": "code",
   "execution_count": 37,
   "metadata": {},
   "outputs": [
    {
     "name": "stdout",
     "output_type": "stream",
     "text": [
      "FORREST GUMP!\n"
     ]
    }
   ],
   "source": [
    "print(nome_completo.upper())"
   ]
  },
  {
   "cell_type": "markdown",
   "metadata": {},
   "source": [
    "Podemos capitalizar uma _string_."
   ]
  },
  {
   "cell_type": "code",
   "execution_count": 39,
   "metadata": {},
   "outputs": [
    {
     "data": {
      "text/plain": [
       "'Adriano'"
      ]
     },
     "execution_count": 39,
     "metadata": {},
     "output_type": "execute_result"
    }
   ],
   "source": [
    "a = \"adriano\"\n",
    "\n",
    "a.capitalize()"
   ]
  },
  {
   "cell_type": "markdown",
   "metadata": {},
   "source": [
    "Dá repetir uma _string_ várias vezes."
   ]
  },
  {
   "cell_type": "code",
   "execution_count": 42,
   "metadata": {
    "scrolled": true
   },
   "outputs": [
    {
     "name": "stdout",
     "output_type": "stream",
     "text": [
      "nome nome nome nome \n"
     ]
    }
   ],
   "source": [
    "a = 'nome '*4\n",
    "\n",
    "print(a)"
   ]
  },
  {
   "cell_type": "markdown",
   "metadata": {},
   "source": [
    "Existem várias outras maneiras de manipular _strings_. Você pode dividir _strings_, contar o número de letras, acrescentar letras, .... \n",
    "\n",
    "Vamos ver mais algumas ao longo do curso."
   ]
  },
  {
   "cell_type": "markdown",
   "metadata": {},
   "source": [
    "Show!\n",
    "\n",
    "Vamos passar para os números agora. "
   ]
  },
  {
   "cell_type": "markdown",
   "metadata": {},
   "source": [
    "**Inteiro** é diferente de **float**. \n",
    "\n",
    "O tipo de dado **int** (_integer_, ou inteiro) no python é usado para representar números inteiros.\n",
    "\n",
    "O **float**, ou número de ponto flutuante, é usado para representar números reais, com parte decimal."
   ]
  },
  {
   "cell_type": "code",
   "execution_count": 47,
   "metadata": {
    "scrolled": true
   },
   "outputs": [
    {
     "name": "stdout",
     "output_type": "stream",
     "text": [
      "Aqui temos um inteiro:  1\n",
      "Aqui temos um float:  1.0\n",
      "Aqui temos outro float:  1.553\n",
      "\n",
      "\n",
      "<class 'int'>\n",
      "<class 'float'>\n"
     ]
    }
   ],
   "source": [
    "a = 1\n",
    "b = 1.0\n",
    "\n",
    "print('Aqui temos um inteiro: ', a)\n",
    "\n",
    "print('Aqui temos um float: ', b)\n",
    "\n",
    "c = 1.553\n",
    "\n",
    "print('Aqui temos outro float: ', c)\n",
    "\n",
    "print('\\n') \n",
    "      \n",
    "print(type(a))\n",
    "print(type(b))"
   ]
  },
  {
   "cell_type": "markdown",
   "metadata": {},
   "source": [
    "Também é possível atribuir valores a mais de uma variável em uma mesma linha de código."
   ]
  },
  {
   "cell_type": "code",
   "execution_count": 53,
   "metadata": {},
   "outputs": [
    {
     "name": "stdout",
     "output_type": "stream",
     "text": [
      "Aqui temos um inteiro:  1\n",
      "Aqui temos um float:  1.0\n",
      "Aqui temos outro float:  1.553\n"
     ]
    }
   ],
   "source": [
    "a, b, c = 1, 1.0, 1.553\n",
    "\n",
    "print('Aqui temos um inteiro: ', a)\n",
    "\n",
    "print('Aqui temos um float: ', b)\n",
    "\n",
    "print('Aqui temos outro float: ', c)"
   ]
  },
  {
   "cell_type": "markdown",
   "metadata": {},
   "source": [
    "O Python armazena inteiro e float de formas diferentes na memória. \n",
    "\n",
    "O Python tem uma precisão de 16 casas decimais para floats. "
   ]
  },
  {
   "cell_type": "code",
   "execution_count": 54,
   "metadata": {},
   "outputs": [
    {
     "name": "stdout",
     "output_type": "stream",
     "text": [
      "1.2222222222222223\n"
     ]
    }
   ],
   "source": [
    "x = 1.22222222222222222222222222222222222222\n",
    "\n",
    "print(x)\n",
    "\n",
    "#print(f'{x:.25f}')"
   ]
  },
  {
   "cell_type": "markdown",
   "metadata": {},
   "source": [
    "Vamos somar um **int** (inteiro) e um **float**."
   ]
  },
  {
   "cell_type": "code",
   "execution_count": 51,
   "metadata": {},
   "outputs": [
    {
     "name": "stdout",
     "output_type": "stream",
     "text": [
      "2.0\n",
      "<class 'float'>\n"
     ]
    }
   ],
   "source": [
    "# Quando somamos int e float o resultado é um float.\n",
    "\n",
    "a = 1      # Inteiro.\n",
    "\n",
    "b = 1.0    # Float.\n",
    "\n",
    "c = a + b  # O resultado é um float.\n",
    "\n",
    "print(c)\n",
    "\n",
    "print(type(c))"
   ]
  },
  {
   "cell_type": "markdown",
   "metadata": {},
   "source": [
    "No código acima, o resultado da soma de um inteiro com um float é um float.\n",
    "\n",
    "Note, no código acima, que o que está depois do jogo da velha # não é lido pelo Python. \n",
    "\n",
    "Podemos fazer comentários no código dessa maneira.\n",
    "\n",
    "É sempre importante comentar o código, para explicar os passos.\n",
    "\n",
    "Outra maneira é usando 3 aspas.\n",
    "\n",
    "Veja abaixo."
   ]
  },
  {
   "cell_type": "code",
   "execution_count": 55,
   "metadata": {},
   "outputs": [
    {
     "name": "stdout",
     "output_type": "stream",
     "text": [
      "Aprendendo\n",
      "Python!\n"
     ]
    }
   ],
   "source": [
    "# Isso é um comentário.\n",
    "\n",
    "print('Aprendendo')    # Posso comentar na mesma linha também.\n",
    "\n",
    "# print('Isso não vai aparecer.')\n",
    "\n",
    "'''\n",
    "Isso também é um comentário.\n",
    "print('Isso também não vai aparecer.')\n",
    "'''\n",
    "\n",
    "print('Python!')"
   ]
  },
  {
   "cell_type": "markdown",
   "metadata": {},
   "source": [
    "Voltando, podemos fazer contas com as variáveis, usando operadores do Python."
   ]
  },
  {
   "cell_type": "code",
   "execution_count": 56,
   "metadata": {},
   "outputs": [
    {
     "name": "stdout",
     "output_type": "stream",
     "text": [
      "8\n",
      "-2\n",
      "15\n",
      "0.6\n",
      "243\n",
      "243\n"
     ]
    }
   ],
   "source": [
    "a = 3\n",
    "\n",
    "b = 5\n",
    "\n",
    "soma = a + b\n",
    "\n",
    "subtracao = a - b\n",
    "\n",
    "multiplicacao = a*b\n",
    "\n",
    "divisao = a/b\n",
    "\n",
    "potencia = a**b\n",
    "\n",
    "potencia2 = pow(a,b)\n",
    "\n",
    "print(soma)\n",
    "print(subtracao)\n",
    "print(multiplicacao)\n",
    "print(divisao)\n",
    "print(potencia)\n",
    "print(potencia2)"
   ]
  },
  {
   "cell_type": "markdown",
   "metadata": {},
   "source": [
    "Abaixo temos um código que converte temperatura em graus Celsius para Kelvin."
   ]
  },
  {
   "cell_type": "code",
   "execution_count": 58,
   "metadata": {},
   "outputs": [
    {
     "name": "stdout",
     "output_type": "stream",
     "text": [
      "A temperatura, em Kelvin, é de  300.15 .\n"
     ]
    }
   ],
   "source": [
    "temperatura_em_graus_Celsius = 27\n",
    "\n",
    "temperatura_em_Kelvin = temperatura_em_graus_Celsius + 273.15\n",
    "\n",
    "print('A temperatura, em Kelvin, é de ', temperatura_em_Kelvin, '.')"
   ]
  },
  {
   "cell_type": "markdown",
   "metadata": {},
   "source": [
    "Atenção: não podemos somar strings com números."
   ]
  },
  {
   "cell_type": "code",
   "execution_count": 160,
   "metadata": {},
   "outputs": [
    {
     "ename": "TypeError",
     "evalue": "can only concatenate str (not \"int\") to str",
     "output_type": "error",
     "traceback": [
      "\u001b[0;31m---------------------------------------------------------------------------\u001b[0m",
      "\u001b[0;31mTypeError\u001b[0m                                 Traceback (most recent call last)",
      "\u001b[0;32m<ipython-input-160-730a908753fb>\u001b[0m in \u001b[0;36m<module>\u001b[0;34m\u001b[0m\n\u001b[1;32m      3\u001b[0m \u001b[0mb\u001b[0m \u001b[0;34m=\u001b[0m \u001b[0;36m100\u001b[0m\u001b[0;34m\u001b[0m\u001b[0;34m\u001b[0m\u001b[0m\n\u001b[1;32m      4\u001b[0m \u001b[0;34m\u001b[0m\u001b[0m\n\u001b[0;32m----> 5\u001b[0;31m \u001b[0mc\u001b[0m \u001b[0;34m=\u001b[0m \u001b[0ma\u001b[0m \u001b[0;34m+\u001b[0m \u001b[0mb\u001b[0m\u001b[0;34m\u001b[0m\u001b[0;34m\u001b[0m\u001b[0m\n\u001b[0m",
      "\u001b[0;31mTypeError\u001b[0m: can only concatenate str (not \"int\") to str"
     ]
    }
   ],
   "source": [
    "a = \"67\"\n",
    "\n",
    "b = 100\n",
    "\n",
    "c = a + b"
   ]
  },
  {
   "cell_type": "markdown",
   "metadata": {},
   "source": [
    "Para o Python não tem como somar um inteiro com um string. \n",
    "\n",
    "Então ele imprime uma mensagem de erro porque ele não sabe o que fazer. \n",
    "\n",
    "Quando há ambiguidade ou quando o python não sabe o que fazer, ele vai parar o programa e exibir uma mensagem de erro. \n",
    "\n",
    "Acostume-se: sempre vamos ter erros no código. \n",
    "\n",
    "**Só se aprende a programar errando.** \n",
    "\n",
    "Uma habilidade muito importante é saber encontrar esses erros. \n",
    "\n",
    "Agora, veja o exemplo abaixo. Temos duas strings e vamos tentar somá-las."
   ]
  },
  {
   "cell_type": "code",
   "execution_count": 157,
   "metadata": {},
   "outputs": [
    {
     "name": "stdout",
     "output_type": "stream",
     "text": [
      "67100\n"
     ]
    }
   ],
   "source": [
    "a = \"67\"\n",
    "\n",
    "b = \"100\"\n",
    "\n",
    "c = a + b\n",
    "\n",
    "print(c)"
   ]
  },
  {
   "cell_type": "markdown",
   "metadata": {},
   "source": [
    "O que aconteceu aqui?\n",
    "\n",
    "A operação de + acima foi realizada em strings. \n",
    "\n",
    "Foi feita uma concatenação de duas strings, ou seja, elas foram coladas. \n",
    "\n",
    "Mas não exatamente isso que a gente queria.\n",
    "\n",
    "Como eu faço pra somar 67 e 100, no exemplo acima?\n",
    "\n",
    "Para isso, temos que transformar as strings em inteiros.\n",
    "\n",
    "Isso pode ser feito com a função **int**.\n",
    "\n",
    "Abaixo temos duas formas de fazer isso. Qual é a diferença entre elas?"
   ]
  },
  {
   "cell_type": "code",
   "execution_count": 74,
   "metadata": {
    "scrolled": true
   },
   "outputs": [
    {
     "name": "stdout",
     "output_type": "stream",
     "text": [
      "167\n"
     ]
    }
   ],
   "source": [
    "a = \"67\"\n",
    "\n",
    "b = \"100\"\n",
    "\n",
    "c = int(a) + int(b)\n",
    "\n",
    "print(c)"
   ]
  },
  {
   "cell_type": "markdown",
   "metadata": {},
   "source": [
    "Ou:"
   ]
  },
  {
   "cell_type": "code",
   "execution_count": 59,
   "metadata": {},
   "outputs": [
    {
     "name": "stdout",
     "output_type": "stream",
     "text": [
      "167\n"
     ]
    }
   ],
   "source": [
    "a = int(\"67\")\n",
    "\n",
    "b = int(\"100\")\n",
    "\n",
    "c = a + b\n",
    "\n",
    "print(c)"
   ]
  },
  {
   "cell_type": "markdown",
   "metadata": {},
   "source": [
    "Um último exemplo interessante."
   ]
  },
  {
   "cell_type": "code",
   "execution_count": 61,
   "metadata": {},
   "outputs": [
    {
     "name": "stdout",
     "output_type": "stream",
     "text": [
      "10\n",
      "15\n"
     ]
    }
   ],
   "source": [
    "a = 5        # Criando a variável a. Essa variável recebe o valor 5.\n",
    "\n",
    "a = a + 5    # A variável a recebe o valor atual de a somado a 5.\n",
    "\n",
    "print(a)\n",
    "\n",
    "a = a + 5    # A variável a recebe o valor atual de a somado a 5.\n",
    "\n",
    "print(a)"
   ]
  },
  {
   "cell_type": "markdown",
   "metadata": {},
   "source": [
    "Esse exemplo é interessante para mostrar que a expressão \n",
    "\n",
    "$a = a + 5$\n",
    "\n",
    "tem significados diferentes na **matemática** e na **programação**.\n",
    "\n",
    "Na matemática, esse sinal = é a igualdade. Ele indica que as quantidades dos dois lados são iguas (em valor, em propriedades, ....)\n",
    "\n",
    "Na programação, esse sinal = significa **atribuição**: ele define ou redefine o que está armazenado em uma variável. \n",
    "\n",
    "Na programação, esse sinal = indica que vamos pegar o que está do lado direito e vamos armazenar isso na variável indicada no lado esquerdo.\n",
    "\n",
    "Mais alguns exemplos."
   ]
  },
  {
   "cell_type": "code",
   "execution_count": 77,
   "metadata": {},
   "outputs": [
    {
     "name": "stdout",
     "output_type": "stream",
     "text": [
      "30\n"
     ]
    }
   ],
   "source": [
    "x = 15\n",
    "\n",
    "x = x + 15\n",
    "\n",
    "print(x)"
   ]
  },
  {
   "cell_type": "code",
   "execution_count": 79,
   "metadata": {},
   "outputs": [
    {
     "name": "stdout",
     "output_type": "stream",
     "text": [
      "30\n"
     ]
    }
   ],
   "source": [
    "x = 15\n",
    "\n",
    "x += 15\n",
    "\n",
    "print(x)"
   ]
  },
  {
   "cell_type": "code",
   "execution_count": 80,
   "metadata": {},
   "outputs": [
    {
     "name": "stdout",
     "output_type": "stream",
     "text": [
      "0\n"
     ]
    }
   ],
   "source": [
    "x = 15\n",
    "\n",
    "x -= 15\n",
    "\n",
    "print(x)"
   ]
  },
  {
   "cell_type": "code",
   "execution_count": 82,
   "metadata": {},
   "outputs": [
    {
     "name": "stdout",
     "output_type": "stream",
     "text": [
      "30\n"
     ]
    }
   ],
   "source": [
    "x = 15\n",
    "\n",
    "x *= 3\n",
    "print(x)"
   ]
  },
  {
   "cell_type": "code",
   "execution_count": 85,
   "metadata": {
    "scrolled": true
   },
   "outputs": [
    {
     "name": "stdout",
     "output_type": "stream",
     "text": [
      "3.0\n"
     ]
    }
   ],
   "source": [
    "x = 15\n",
    "\n",
    "x /= 5\n",
    "\n",
    "print(x)"
   ]
  },
  {
   "cell_type": "markdown",
   "metadata": {},
   "source": [
    "E se tentarmos dividir por zero?"
   ]
  },
  {
   "cell_type": "code",
   "execution_count": 62,
   "metadata": {
    "scrolled": true
   },
   "outputs": [
    {
     "ename": "ZeroDivisionError",
     "evalue": "division by zero",
     "output_type": "error",
     "traceback": [
      "\u001b[0;31m---------------------------------------------------------------------------\u001b[0m",
      "\u001b[0;31mZeroDivisionError\u001b[0m                         Traceback (most recent call last)",
      "\u001b[0;32m<ipython-input-62-5d56be054415>\u001b[0m in \u001b[0;36m<module>\u001b[0;34m\u001b[0m\n\u001b[1;32m      3\u001b[0m \u001b[0my\u001b[0m \u001b[0;34m=\u001b[0m \u001b[0;36m0\u001b[0m\u001b[0;34m\u001b[0m\u001b[0;34m\u001b[0m\u001b[0m\n\u001b[1;32m      4\u001b[0m \u001b[0;34m\u001b[0m\u001b[0m\n\u001b[0;32m----> 5\u001b[0;31m \u001b[0mprint\u001b[0m\u001b[0;34m(\u001b[0m\u001b[0mx\u001b[0m\u001b[0;34m/\u001b[0m\u001b[0my\u001b[0m\u001b[0;34m)\u001b[0m\u001b[0;34m\u001b[0m\u001b[0;34m\u001b[0m\u001b[0m\n\u001b[0m",
      "\u001b[0;31mZeroDivisionError\u001b[0m: division by zero"
     ]
    }
   ],
   "source": [
    "x = 4\n",
    "\n",
    "y = 0\n",
    "\n",
    "print(x/y)"
   ]
  },
  {
   "cell_type": "markdown",
   "metadata": {},
   "source": [
    "Vamos ver agora as famosas **listas**.\n",
    "\n",
    "Até aqui todas as variáveis contêm apenas um dado, uma informação. \n",
    "\n",
    "((Na verdade as _strings_ possuem vários caracteres, mas vamos voltar nisso depois.))\n",
    "\n",
    "E se eu quiser armazenar vários dados (números ou palavras) em uma única variável?\n",
    "\n",
    "Em Python podemos ter listas, que contêm **vários dados ao mesmo tempo**. \n",
    "\n",
    "Para criar uma lista usamos colchetes. \n",
    "\n",
    "A primeira pergunta é: **por que usar listas?**\n",
    "\n",
    "Vamos ver o exemplo abaixo, com os números da mega-sena. "
   ]
  },
  {
   "cell_type": "code",
   "execution_count": 64,
   "metadata": {},
   "outputs": [],
   "source": [
    "numero_1_da_mega_sena = 2\n",
    "\n",
    "numero_2_da_mega_sena = 29\n",
    "\n",
    "numero_3_da_mega_sena = 39\n",
    "\n",
    "numero_4_da_mega_sena = 49\n",
    "\n",
    "numero_5_da_mega_sena = 52\n",
    "\n",
    "numero_6_da_mega_sena = 58"
   ]
  },
  {
   "cell_type": "markdown",
   "metadata": {},
   "source": [
    "Não parece meio ineficiente fazer isso?\n",
    "\n",
    "Além de tudo, é bem chato também ficar repetindo as linhas.\n",
    "\n",
    "É aí que as listas entram."
   ]
  },
  {
   "cell_type": "code",
   "execution_count": 65,
   "metadata": {},
   "outputs": [
    {
     "name": "stdout",
     "output_type": "stream",
     "text": [
      "[2, 29, 39, 49, 52, 58]\n"
     ]
    }
   ],
   "source": [
    "numeros_da_mega_sena = [2, 29, 39, 49, 52, 58]\n",
    "\n",
    "print(numeros_da_mega_sena)"
   ]
  },
  {
   "cell_type": "markdown",
   "metadata": {},
   "source": [
    "Agora estamos armazenando 6 números em uma única variável. \n",
    "\n",
    "Podemos ter strings e números. "
   ]
  },
  {
   "cell_type": "code",
   "execution_count": 66,
   "metadata": {},
   "outputs": [
    {
     "name": "stdout",
     "output_type": "stream",
     "text": [
      "['Forrest', 'Gump', 1993]\n"
     ]
    }
   ],
   "source": [
    "minha_lista = ['Forrest', 'Gump', 1993]\n",
    "\n",
    "print(minha_lista)"
   ]
  },
  {
   "cell_type": "markdown",
   "metadata": {},
   "source": [
    "Como fazer para acessar cada elemento?"
   ]
  },
  {
   "cell_type": "code",
   "execution_count": 67,
   "metadata": {},
   "outputs": [
    {
     "name": "stdout",
     "output_type": "stream",
     "text": [
      "Forrest\n",
      "Gump\n",
      "1993\n"
     ]
    }
   ],
   "source": [
    "print(minha_lista[0])\n",
    "\n",
    "print(minha_lista[1])\n",
    "\n",
    "print(minha_lista[2])"
   ]
  },
  {
   "cell_type": "code",
   "execution_count": 68,
   "metadata": {},
   "outputs": [
    {
     "name": "stdout",
     "output_type": "stream",
     "text": [
      "Run,  Forrest  run!\n"
     ]
    }
   ],
   "source": [
    "print('Run, ', minha_lista[0], ' run!')"
   ]
  },
  {
   "cell_type": "markdown",
   "metadata": {},
   "source": [
    "**Atenção:** em Python toda contagem começa do zero. \n",
    "\n",
    "O primeiro elemento de uma lista é o elemento na posição zero.\n",
    "\n",
    "Note que os colchetes têm funções diferentes nos dois casos. \n",
    "\n",
    "Primeiro, se eu estou criando uma lista, então os colchetes delimitam os termos que estarão nessa lista. \n",
    "\n",
    "No segundo caso, se eu uso colchetes colados a uma variável que representa uma lista, então eu estou acessando um elemento dessa lista. "
   ]
  },
  {
   "cell_type": "code",
   "execution_count": 69,
   "metadata": {},
   "outputs": [
    {
     "name": "stdout",
     "output_type": "stream",
     "text": [
      "1993\n"
     ]
    }
   ],
   "source": [
    "print(minha_lista[2])"
   ]
  },
  {
   "cell_type": "code",
   "execution_count": 70,
   "metadata": {},
   "outputs": [
    {
     "ename": "IndexError",
     "evalue": "list index out of range",
     "output_type": "error",
     "traceback": [
      "\u001b[0;31m---------------------------------------------------------------------------\u001b[0m",
      "\u001b[0;31mIndexError\u001b[0m                                Traceback (most recent call last)",
      "\u001b[0;32m<ipython-input-70-427cb84d8934>\u001b[0m in \u001b[0;36m<module>\u001b[0;34m\u001b[0m\n\u001b[0;32m----> 1\u001b[0;31m \u001b[0mprint\u001b[0m\u001b[0;34m(\u001b[0m\u001b[0mminha_lista\u001b[0m\u001b[0;34m[\u001b[0m\u001b[0;36m3\u001b[0m\u001b[0;34m]\u001b[0m\u001b[0;34m)\u001b[0m\u001b[0;34m\u001b[0m\u001b[0;34m\u001b[0m\u001b[0m\n\u001b[0m",
      "\u001b[0;31mIndexError\u001b[0m: list index out of range"
     ]
    }
   ],
   "source": [
    "print(minha_lista[3])"
   ]
  },
  {
   "cell_type": "markdown",
   "metadata": {},
   "source": [
    "Note que apareceu um novo tipo de erro. \n",
    "\n",
    "Eu tentei acessar um elemento da lista que não existe. \n",
    "\n",
    "Como a lista tem apenas 3 elementos, temos apenas as posições 0, 1 e 2.\n",
    "\n",
    "O Python vê o erro e para de rodar o código.\n",
    "\n",
    "O tamanho da lista pode ser obtido com a função abaixo."
   ]
  },
  {
   "cell_type": "code",
   "execution_count": 71,
   "metadata": {},
   "outputs": [
    {
     "data": {
      "text/plain": [
       "3"
      ]
     },
     "execution_count": 71,
     "metadata": {},
     "output_type": "execute_result"
    }
   ],
   "source": [
    "len(minha_lista)    # len vem de length, que é extensão ou tamanho."
   ]
  },
  {
   "cell_type": "markdown",
   "metadata": {},
   "source": [
    "O Python permite o uso de posições negativas."
   ]
  },
  {
   "cell_type": "code",
   "execution_count": 167,
   "metadata": {},
   "outputs": [
    {
     "name": "stdout",
     "output_type": "stream",
     "text": [
      "1993\n"
     ]
    }
   ],
   "source": [
    "print(minha_lista[-1])"
   ]
  },
  {
   "cell_type": "code",
   "execution_count": 168,
   "metadata": {},
   "outputs": [
    {
     "name": "stdout",
     "output_type": "stream",
     "text": [
      "Gump\n"
     ]
    }
   ],
   "source": [
    "print(minha_lista[-2])"
   ]
  },
  {
   "cell_type": "markdown",
   "metadata": {},
   "source": [
    "A posição -1 acessa o último elemento. A posição -2 acessa o penúltimo, e assim por diante.\n",
    "\n",
    "Podemos criar uma lista vazia e adicionar elementos a essa lista."
   ]
  },
  {
   "cell_type": "code",
   "execution_count": 74,
   "metadata": {},
   "outputs": [
    {
     "name": "stdout",
     "output_type": "stream",
     "text": [
      "[]\n"
     ]
    }
   ],
   "source": [
    "nova_lista = []\n",
    "\n",
    "print(nova_lista)"
   ]
  },
  {
   "cell_type": "code",
   "execution_count": 75,
   "metadata": {},
   "outputs": [
    {
     "name": "stdout",
     "output_type": "stream",
     "text": [
      "[1]\n"
     ]
    }
   ],
   "source": [
    "nova_lista = nova_lista + [1]\n",
    "\n",
    "print(nova_lista)"
   ]
  },
  {
   "cell_type": "code",
   "execution_count": 76,
   "metadata": {},
   "outputs": [
    {
     "name": "stdout",
     "output_type": "stream",
     "text": [
      "[1, 4]\n"
     ]
    }
   ],
   "source": [
    "nova_lista.append(4)\n",
    "\n",
    "print(nova_lista)"
   ]
  },
  {
   "cell_type": "markdown",
   "metadata": {},
   "source": [
    "No código acima usamos o método _append_ do Python. \n",
    "\n",
    "Podemos modificar um elemento de uma lista."
   ]
  },
  {
   "cell_type": "code",
   "execution_count": 77,
   "metadata": {},
   "outputs": [
    {
     "name": "stdout",
     "output_type": "stream",
     "text": [
      "['UnB', 1963, 'Abril', 21]\n"
     ]
    }
   ],
   "source": [
    "lista = ['UnB', 1963, 'Abril', 21]\n",
    "\n",
    "print(lista)"
   ]
  },
  {
   "cell_type": "markdown",
   "metadata": {},
   "source": [
    "Eita, o ano está errado, vamos corrigir."
   ]
  },
  {
   "cell_type": "code",
   "execution_count": 78,
   "metadata": {},
   "outputs": [
    {
     "name": "stdout",
     "output_type": "stream",
     "text": [
      "['UnB', 1962, 'Abril', 21]\n"
     ]
    }
   ],
   "source": [
    "lista[1] = 1962\n",
    "\n",
    "print(lista)"
   ]
  },
  {
   "cell_type": "markdown",
   "metadata": {},
   "source": [
    "Agora sim!\n",
    "\n",
    "E essa é a diferença entre listas e **tuplas**.\n",
    "\n",
    "**Tuplas não podem ser modificadas.** \n",
    "\n",
    "Imagine que você está criando uma nova variável e ela não deve ser modificada ao longo do código.\n",
    "\n",
    "((Sim, você entendeu bem: nós não queremos variar a variável. Acontece.))\n",
    "\n",
    "Nesse caso podemos criar uma **tupla**. \n",
    "\n",
    "Usamos parênteses, e não colchetes, para criar uma tupla."
   ]
  },
  {
   "cell_type": "code",
   "execution_count": 79,
   "metadata": {},
   "outputs": [
    {
     "name": "stdout",
     "output_type": "stream",
     "text": [
      "(89, 11, 'oito')\n"
     ]
    }
   ],
   "source": [
    "tupla = (89, 11, 'oito')\n",
    "\n",
    "print(tupla)"
   ]
  },
  {
   "cell_type": "markdown",
   "metadata": {},
   "source": [
    "Também usamos colchetes para acessar o elemento de uma tupla."
   ]
  },
  {
   "cell_type": "code",
   "execution_count": 80,
   "metadata": {},
   "outputs": [
    {
     "name": "stdout",
     "output_type": "stream",
     "text": [
      "oito\n"
     ]
    }
   ],
   "source": [
    "print(tupla[2])"
   ]
  },
  {
   "cell_type": "markdown",
   "metadata": {},
   "source": [
    "Um erro aparece quando tentamos modificar um elemento de uma tupla.\n",
    "\n",
    "Não é possível modificar uma tupla."
   ]
  },
  {
   "cell_type": "code",
   "execution_count": 81,
   "metadata": {},
   "outputs": [
    {
     "ename": "TypeError",
     "evalue": "'tuple' object does not support item assignment",
     "output_type": "error",
     "traceback": [
      "\u001b[0;31m---------------------------------------------------------------------------\u001b[0m",
      "\u001b[0;31mTypeError\u001b[0m                                 Traceback (most recent call last)",
      "\u001b[0;32m<ipython-input-81-ab83b872e396>\u001b[0m in \u001b[0;36m<module>\u001b[0;34m\u001b[0m\n\u001b[0;32m----> 1\u001b[0;31m \u001b[0mtupla\u001b[0m\u001b[0;34m[\u001b[0m\u001b[0;36m2\u001b[0m\u001b[0;34m]\u001b[0m \u001b[0;34m=\u001b[0m \u001b[0;34m'nove'\u001b[0m\u001b[0;34m\u001b[0m\u001b[0;34m\u001b[0m\u001b[0m\n\u001b[0m",
      "\u001b[0;31mTypeError\u001b[0m: 'tuple' object does not support item assignment"
     ]
    }
   ],
   "source": [
    "tupla[2] = 'nove'"
   ]
  },
  {
   "cell_type": "markdown",
   "metadata": {},
   "source": [
    "Um **set** é um conjunto de dados que não permite dados duplicados. \n",
    "\n",
    "Usamos chaves para criar um set."
   ]
  },
  {
   "cell_type": "code",
   "execution_count": 83,
   "metadata": {},
   "outputs": [
    {
     "name": "stdout",
     "output_type": "stream",
     "text": [
      "[7, 8, 35, 1, 2, 3, 1, 2, 3, 35]\n",
      "{1, 2, 35, 3, 7, 8}\n"
     ]
    }
   ],
   "source": [
    "lista = [7, 8, 35, 1, 2, 3, 1, 2, 3, 35]\n",
    "\n",
    "conjunto = {7, 8, 35, 1, 2, 3, 1, 2, 3}\n",
    "\n",
    "print(lista)\n",
    "\n",
    "print(conjunto)"
   ]
  },
  {
   "cell_type": "markdown",
   "metadata": {},
   "source": [
    "A ordem não importa no set.\n",
    "\n",
    "Adicionando um elemento."
   ]
  },
  {
   "cell_type": "code",
   "execution_count": 84,
   "metadata": {},
   "outputs": [
    {
     "name": "stdout",
     "output_type": "stream",
     "text": [
      "{1, 2, 35, 3, 7, 8, 9}\n"
     ]
    }
   ],
   "source": [
    "conjunto.add(9)\n",
    "\n",
    "print(conjunto)"
   ]
  },
  {
   "cell_type": "markdown",
   "metadata": {},
   "source": [
    "Removendo um elemento."
   ]
  },
  {
   "cell_type": "code",
   "execution_count": 86,
   "metadata": {
    "scrolled": true
   },
   "outputs": [
    {
     "name": "stdout",
     "output_type": "stream",
     "text": [
      "{1, 2, 35, 7, 8, 9}\n"
     ]
    }
   ],
   "source": [
    "conjunto.discard(3)\n",
    "\n",
    "print(conjunto)"
   ]
  },
  {
   "cell_type": "markdown",
   "metadata": {},
   "source": [
    "Set pode ser interessante quando você quer ter certeza de que não vai ter dados repetidos em sua variável.\n",
    "\n",
    "Podemos fazer operações com set também.\n",
    "\n",
    "Por exemplo, temos união e interseção."
   ]
  },
  {
   "cell_type": "code",
   "execution_count": 88,
   "metadata": {},
   "outputs": [
    {
     "name": "stdout",
     "output_type": "stream",
     "text": [
      "A união dos conjuntos a e b é o conjunto {1, 2, 3, 4, 5, 6} .\n",
      "\n",
      "A intersecção dos conjuntos a e b é o conjunto {3, 4} .\n"
     ]
    }
   ],
   "source": [
    "a = {1, 2, 3, 4}\n",
    "\n",
    "b = {3, 4, 5, 6}\n",
    "\n",
    "uniao = a | b\n",
    "\n",
    "interseccao = a & b\n",
    "\n",
    "print('A união dos conjuntos a e b é o conjunto', uniao, '.')\n",
    "\n",
    "print('\\nA intersecção dos conjuntos a e b é o conjunto', interseccao, '.')"
   ]
  },
  {
   "cell_type": "markdown",
   "metadata": {},
   "source": [
    "Um **dicionário**, ou **dict**, também serve para armazenar vários dados em uma mesma variável. \n",
    "\n",
    "A diferença é que não usamos números para acessar os elementos de um dicionário. \n",
    "\n",
    "Usamos as chaves, ou keys.\n",
    "\n",
    "Para criar um dicionário nós entramos com as informações entre chaves."
   ]
  },
  {
   "cell_type": "code",
   "execution_count": 89,
   "metadata": {},
   "outputs": [
    {
     "name": "stdout",
     "output_type": "stream",
     "text": [
      "{'nome': 'José', 'sobrenome': 'Saramago', 'profissão': 'Escritor', 'ano': 1923}\n"
     ]
    }
   ],
   "source": [
    "saramago = {'nome': 'José', 'sobrenome': 'Saramago', 'profissão': 'Escritor', 'ano': 1923}\n",
    "\n",
    "print(saramago)"
   ]
  },
  {
   "cell_type": "markdown",
   "metadata": {},
   "source": [
    "Para acessar um elemento eu utilizo a **chave** desse elemento, e não a posição. \n",
    "\n",
    "Funciona como um dicionário mesmo: você procura pela palavra (chave) e ali você encontra o significado da palavra (valor).\n",
    "\n",
    "Você não tenta descobrir o significado de uma palavra, no dicionário, procurando pelo número da posição que essa palavra ocupa.\n",
    "\n",
    "O número da posição em um dicionário não importa.\n",
    "\n",
    "Vamos printar o ano de nascimento."
   ]
  },
  {
   "cell_type": "code",
   "execution_count": 113,
   "metadata": {},
   "outputs": [
    {
     "name": "stdout",
     "output_type": "stream",
     "text": [
      "1923\n"
     ]
    }
   ],
   "source": [
    "print(saramago['ano'])"
   ]
  },
  {
   "cell_type": "markdown",
   "metadata": {},
   "source": [
    "Opa, o ano está errado. Vamos corrigir."
   ]
  },
  {
   "cell_type": "code",
   "execution_count": 91,
   "metadata": {},
   "outputs": [
    {
     "name": "stdout",
     "output_type": "stream",
     "text": [
      "{'nome': 'José', 'sobrenome': 'Saramago', 'profissão': 'Escritor', 'ano': 1922}\n"
     ]
    }
   ],
   "source": [
    "saramago['ano'] = 1922\n",
    "\n",
    "print(saramago)"
   ]
  },
  {
   "cell_type": "markdown",
   "metadata": {},
   "source": [
    "Vamos acessar a profissão."
   ]
  },
  {
   "cell_type": "code",
   "execution_count": 218,
   "metadata": {
    "scrolled": true
   },
   "outputs": [
    {
     "name": "stdout",
     "output_type": "stream",
     "text": [
      "Escritor\n"
     ]
    }
   ],
   "source": [
    "print(saramago['profissão'])"
   ]
  },
  {
   "cell_type": "markdown",
   "metadata": {},
   "source": [
    "Esquecemos de incluir a nacionalidade. "
   ]
  },
  {
   "cell_type": "code",
   "execution_count": 92,
   "metadata": {},
   "outputs": [
    {
     "name": "stdout",
     "output_type": "stream",
     "text": [
      "{'nome': 'José', 'sobrenome': 'Saramago', 'profissão': 'Escritor', 'ano': 1922, 'nacionalidade': 'Portuguesa'}\n"
     ]
    }
   ],
   "source": [
    "saramago['nacionalidade'] = 'Portuguesa'\n",
    "\n",
    "print(saramago)"
   ]
  },
  {
   "cell_type": "markdown",
   "metadata": {},
   "source": [
    "Agora sim, está completo.\n",
    "\n",
    "Podemos printar as chaves apenas."
   ]
  },
  {
   "cell_type": "code",
   "execution_count": 8,
   "metadata": {
    "scrolled": true
   },
   "outputs": [
    {
     "name": "stdout",
     "output_type": "stream",
     "text": [
      "dict_keys(['nome', 'sobrenome', 'profissão', 'ano', 'nacionalidade'])\n"
     ]
    }
   ],
   "source": [
    "print(saramago.keys())"
   ]
  },
  {
   "cell_type": "markdown",
   "metadata": {},
   "source": [
    "Podemos também printar apenas os valores."
   ]
  },
  {
   "cell_type": "code",
   "execution_count": 93,
   "metadata": {},
   "outputs": [
    {
     "name": "stdout",
     "output_type": "stream",
     "text": [
      "dict_values(['José', 'Saramago', 'Escritor', 1922, 'Portuguesa'])\n"
     ]
    }
   ],
   "source": [
    "print(saramago.values())"
   ]
  },
  {
   "cell_type": "markdown",
   "metadata": {},
   "source": [
    "Vamos escrever uma frase usando o nosso dicionário."
   ]
  },
  {
   "cell_type": "code",
   "execution_count": 94,
   "metadata": {},
   "outputs": [
    {
     "name": "stdout",
     "output_type": "stream",
     "text": [
      "O Escritor José Saramago nasceu em 1922\n"
     ]
    }
   ],
   "source": [
    "print('O', saramago['profissão'], saramago['nome'] + ' ' + saramago['sobrenome'], \n",
    "      'nasceu em', saramago['ano'])"
   ]
  },
  {
   "cell_type": "markdown",
   "metadata": {},
   "source": [
    "Vamos criar um novo dicionário. As keys são as mesmas, mas vamos preencher os values com os dados de outro escritor."
   ]
  },
  {
   "cell_type": "code",
   "execution_count": 95,
   "metadata": {},
   "outputs": [
    {
     "name": "stdout",
     "output_type": "stream",
     "text": [
      "{'nome': 'Jorge', 'sobrenome': 'Amado', 'profissão': 'Escritor', 'ano': 1912}\n"
     ]
    }
   ],
   "source": [
    "amado = {'nome': 'Jorge', 'sobrenome': 'Amado', \n",
    "               'profissão': 'Escritor', 'ano': 1912}\n",
    "\n",
    "print(amado)"
   ]
  },
  {
   "cell_type": "markdown",
   "metadata": {},
   "source": [
    "Agora vamos reescrever a mesma frase acima, adaptando-a."
   ]
  },
  {
   "cell_type": "code",
   "execution_count": 96,
   "metadata": {},
   "outputs": [
    {
     "name": "stdout",
     "output_type": "stream",
     "text": [
      "O Escritor Jorge Amado nasceu em 1912\n"
     ]
    }
   ],
   "source": [
    "print('O', amado['profissão'], amado['nome'] + ' ' + amado['sobrenome'], \n",
    "      'nasceu em', amado['ano'])"
   ]
  },
  {
   "cell_type": "markdown",
   "metadata": {},
   "source": [
    "Legal. Muito bonito. \n",
    "\n",
    "Mas é muito chato ficar dando ctrl c e ctrl v no código, e mudando as informações manualmente.\n",
    "\n",
    "Além de chato isso pode levar a **erros**. \n",
    "\n",
    "Devemos evitar a todo custo copiar partes do código.\n",
    "\n",
    "Seria melhor se tivesse um jeito de imprimir a frase, dado o dicionário (como entrada).\n",
    "\n",
    "Isso é possível com a criação de **funções**."
   ]
  },
  {
   "cell_type": "code",
   "execution_count": 98,
   "metadata": {},
   "outputs": [
    {
     "name": "stdout",
     "output_type": "stream",
     "text": [
      "O Escritor José Saramago nasceu em 1922 .\n",
      "O Escritor Jorge Amado nasceu em 1912 .\n",
      "O Poeta Vinicius de Moraes nasceu em 1913 .\n"
     ]
    }
   ],
   "source": [
    "def imprimir_dados(dicionario):\n",
    "    print('O', dicionario['profissão'], dicionario['nome'] + ' ' + dicionario['sobrenome'], \n",
    "      'nasceu em', dicionario['ano'], '.')\n",
    "\n",
    "imprimir_dados(saramago)\n",
    "\n",
    "imprimir_dados(amado)\n",
    "\n",
    "moraes = {'ano': 1913, 'sobrenome': 'de Moraes', 'profissão': 'Poeta', 'nome': 'Vinicius'}\n",
    "\n",
    "imprimir_dados(moraes)"
   ]
  },
  {
   "cell_type": "markdown",
   "metadata": {},
   "source": [
    "Funções são extremamente importantes. \n",
    "\n",
    "Mas vamos ver mais sobre elas nas próxima aulas. \n",
    "\n",
    "Vamos fechar a parte de dicionários com um último exemplo."
   ]
  },
  {
   "cell_type": "code",
   "execution_count": 99,
   "metadata": {},
   "outputs": [
    {
     "name": "stdout",
     "output_type": "stream",
     "text": [
      "16\n"
     ]
    }
   ],
   "source": [
    "escritor = {'nome': ['José', 'Saramago'], 'nascimento': [1922, 11, 16]}\n",
    "\n",
    "nascimento_dia = escritor['nascimento'][2]\n",
    "\n",
    "print(nascimento_dia)"
   ]
  },
  {
   "cell_type": "markdown",
   "metadata": {},
   "source": [
    "O código acima mostra que podemos ter listas dentro de dicionários.\n",
    "\n",
    "Um valor de um dicionário pode ser uma lista."
   ]
  },
  {
   "cell_type": "markdown",
   "metadata": {},
   "source": [
    "## Conversão entre tipos de dados"
   ]
  },
  {
   "cell_type": "markdown",
   "metadata": {},
   "source": [
    "Algumas vezes, em nossos códigos, é necessário converter um tipo de dado em outro.\n",
    "\n",
    "Pra isso podemos usar funções intrínsecas do Python.\n",
    "\n",
    "Transformando _float_ em inteiro."
   ]
  },
  {
   "cell_type": "code",
   "execution_count": 27,
   "metadata": {
    "scrolled": true
   },
   "outputs": [
    {
     "data": {
      "text/plain": [
       "3"
      ]
     },
     "execution_count": 27,
     "metadata": {},
     "output_type": "execute_result"
    }
   ],
   "source": [
    "int(3.98)    # Transforma em inteiro, truncando."
   ]
  },
  {
   "cell_type": "markdown",
   "metadata": {},
   "source": [
    "Transformando _float_ em inteiro, com aproximação."
   ]
  },
  {
   "cell_type": "code",
   "execution_count": 28,
   "metadata": {},
   "outputs": [
    {
     "data": {
      "text/plain": [
       "4"
      ]
     },
     "execution_count": 28,
     "metadata": {},
     "output_type": "execute_result"
    }
   ],
   "source": [
    "round(3.98)    # Transforma em inteiro, aproximando."
   ]
  },
  {
   "cell_type": "markdown",
   "metadata": {},
   "source": [
    "Transformando inteiro em _float_."
   ]
  },
  {
   "cell_type": "code",
   "execution_count": 100,
   "metadata": {},
   "outputs": [
    {
     "data": {
      "text/plain": [
       "9.0"
      ]
     },
     "execution_count": 100,
     "metadata": {},
     "output_type": "execute_result"
    }
   ],
   "source": [
    "float(9)    # Transforma em float."
   ]
  },
  {
   "cell_type": "markdown",
   "metadata": {},
   "source": [
    "Transformando _string_ em _float_."
   ]
  },
  {
   "cell_type": "code",
   "execution_count": 101,
   "metadata": {
    "scrolled": true
   },
   "outputs": [
    {
     "data": {
      "text/plain": [
       "99.0"
      ]
     },
     "execution_count": 101,
     "metadata": {},
     "output_type": "execute_result"
    }
   ],
   "source": [
    "float('99')"
   ]
  },
  {
   "cell_type": "markdown",
   "metadata": {},
   "source": [
    "Mas temos que ter apenas números. "
   ]
  },
  {
   "cell_type": "code",
   "execution_count": 102,
   "metadata": {
    "scrolled": false
   },
   "outputs": [
    {
     "ename": "ValueError",
     "evalue": "could not convert string to float: '99a'",
     "output_type": "error",
     "traceback": [
      "\u001b[0;31m---------------------------------------------------------------------------\u001b[0m",
      "\u001b[0;31mValueError\u001b[0m                                Traceback (most recent call last)",
      "\u001b[0;32m<ipython-input-102-86c915b8b8c7>\u001b[0m in \u001b[0;36m<module>\u001b[0;34m\u001b[0m\n\u001b[0;32m----> 1\u001b[0;31m \u001b[0mfloat\u001b[0m\u001b[0;34m(\u001b[0m\u001b[0;34m'99a'\u001b[0m\u001b[0;34m)\u001b[0m\u001b[0;34m\u001b[0m\u001b[0;34m\u001b[0m\u001b[0m\n\u001b[0m",
      "\u001b[0;31mValueError\u001b[0m: could not convert string to float: '99a'"
     ]
    }
   ],
   "source": [
    "float('99a')"
   ]
  },
  {
   "cell_type": "markdown",
   "metadata": {},
   "source": [
    "Podemos transformar listas em tuples, e vice-versa."
   ]
  },
  {
   "cell_type": "code",
   "execution_count": 103,
   "metadata": {},
   "outputs": [
    {
     "name": "stdout",
     "output_type": "stream",
     "text": [
      "[1, 2, 3]\n",
      "(1, 2, 3)\n"
     ]
    }
   ],
   "source": [
    "print(list((1, 2, 3)))\n",
    "\n",
    "print(tuple([1, 2, 3]))"
   ]
  },
  {
   "cell_type": "markdown",
   "metadata": {},
   "source": [
    "Para sabermos o tipo de uma variável, podemos usar a função _type_."
   ]
  },
  {
   "cell_type": "code",
   "execution_count": 104,
   "metadata": {},
   "outputs": [
    {
     "data": {
      "text/plain": [
       "int"
      ]
     },
     "execution_count": 104,
     "metadata": {},
     "output_type": "execute_result"
    }
   ],
   "source": [
    "type(9)"
   ]
  },
  {
   "cell_type": "code",
   "execution_count": 42,
   "metadata": {},
   "outputs": [
    {
     "data": {
      "text/plain": [
       "float"
      ]
     },
     "execution_count": 42,
     "metadata": {},
     "output_type": "execute_result"
    }
   ],
   "source": [
    "type(9.0)"
   ]
  },
  {
   "cell_type": "code",
   "execution_count": 43,
   "metadata": {},
   "outputs": [
    {
     "data": {
      "text/plain": [
       "str"
      ]
     },
     "execution_count": 43,
     "metadata": {},
     "output_type": "execute_result"
    }
   ],
   "source": [
    "type('9')"
   ]
  },
  {
   "cell_type": "code",
   "execution_count": 44,
   "metadata": {},
   "outputs": [
    {
     "data": {
      "text/plain": [
       "list"
      ]
     },
     "execution_count": 44,
     "metadata": {},
     "output_type": "execute_result"
    }
   ],
   "source": [
    "type([9])"
   ]
  },
  {
   "cell_type": "code",
   "execution_count": 49,
   "metadata": {},
   "outputs": [
    {
     "data": {
      "text/plain": [
       "tuple"
      ]
     },
     "execution_count": 49,
     "metadata": {},
     "output_type": "execute_result"
    }
   ],
   "source": [
    "type((9,))"
   ]
  },
  {
   "cell_type": "code",
   "execution_count": 107,
   "metadata": {},
   "outputs": [
    {
     "data": {
      "text/plain": [
       "dict"
      ]
     },
     "execution_count": 107,
     "metadata": {},
     "output_type": "execute_result"
    }
   ],
   "source": [
    "type({'nome': 'José'})"
   ]
  },
  {
   "cell_type": "markdown",
   "metadata": {},
   "source": [
    "## Condicionais"
   ]
  },
  {
   "cell_type": "markdown",
   "metadata": {},
   "source": [
    "Faltou falar de um tipo de dado no Python: o **booleano** (bool).\n",
    "\n",
    "Um booleano pode ser ***True*** (verdadeiro) or ***False*** (falso). \n",
    "\n",
    "E acabou."
   ]
  },
  {
   "cell_type": "code",
   "execution_count": 108,
   "metadata": {},
   "outputs": [
    {
     "name": "stdout",
     "output_type": "stream",
     "text": [
      "True False\n",
      "1\n"
     ]
    }
   ],
   "source": [
    "a = True\n",
    "\n",
    "b = False\n",
    "\n",
    "print(a, b)\n",
    "\n",
    "print(a + b)   # Nessa operação, True é transformado em 1 e False em 0."
   ]
  },
  {
   "cell_type": "markdown",
   "metadata": {},
   "source": [
    "Os booleanos são usados nos **condicionais**.\n",
    "\n",
    "Em muitas situações, você quer executar algumas linhas do seu código somente se determinadas condições são obedecidas.\n",
    "\n",
    "Ou seja, você pode querer que uma linha de seu código seja ou não executada, dependendo da situação. "
   ]
  },
  {
   "cell_type": "code",
   "execution_count": 110,
   "metadata": {
    "scrolled": true
   },
   "outputs": [
    {
     "name": "stdout",
     "output_type": "stream",
     "text": [
      "Printou!\n"
     ]
    }
   ],
   "source": [
    "a = True\n",
    "\n",
    "if a:\n",
    "    print('Printou!')"
   ]
  },
  {
   "cell_type": "code",
   "execution_count": 111,
   "metadata": {},
   "outputs": [],
   "source": [
    "a = False\n",
    "\n",
    "if a:\n",
    "    print('Não printou!')"
   ]
  },
  {
   "cell_type": "code",
   "execution_count": 112,
   "metadata": {},
   "outputs": [
    {
     "name": "stdout",
     "output_type": "stream",
     "text": [
      "128 é maior\n"
     ]
    }
   ],
   "source": [
    "my_number = 128\n",
    "\n",
    "if my_number > 100:\n",
    "    print(my_number, \"é maior\")\n",
    "\n",
    "if my_number < 100:\n",
    "    print(my_number, \"é menor\")\n",
    "    \n",
    "#> maior\n",
    "#< menor\n",
    "#>= maior ou igual\n",
    "#<= menor ou igual\n",
    "#== igual\n",
    "#!= diferente"
   ]
  },
  {
   "cell_type": "code",
   "execution_count": 113,
   "metadata": {},
   "outputs": [
    {
     "name": "stdout",
     "output_type": "stream",
     "text": [
      "Meu número não é 35.\n"
     ]
    }
   ],
   "source": [
    "my_number = 30\n",
    "\n",
    "if my_number != 35:\n",
    "    print('Meu número não é 35.')\n",
    "else: \n",
    "    print('Meu número é 35.')"
   ]
  },
  {
   "cell_type": "code",
   "execution_count": 3,
   "metadata": {},
   "outputs": [
    {
     "name": "stdout",
     "output_type": "stream",
     "text": [
      "Meu número é igual a 100.\n"
     ]
    }
   ],
   "source": [
    "my_number = 100\n",
    "\n",
    "if my_number > 100:\n",
    "    print(\"Meu número é maior do que 100.\")\n",
    "elif my_number == 100:\n",
    "    print(\"Meu número é igual a 100.\")\n",
    "else:\n",
    "    print(\"Meu número é menor do que 100.\")"
   ]
  },
  {
   "cell_type": "markdown",
   "metadata": {},
   "source": [
    "É importante notar que o espaço em branco antes do código (**indentação**) identifica os blocos do código que devem ser executados de diferentes maneiras. \n",
    "\n",
    "((Em algumas linguagens a indentação não é importante. No Python ela é fundamental.))\n",
    "\n",
    "Essas expressões de comparação são, na verdade, _booleanos_."
   ]
  },
  {
   "cell_type": "code",
   "execution_count": 123,
   "metadata": {},
   "outputs": [
    {
     "name": "stdout",
     "output_type": "stream",
     "text": [
      "True\n"
     ]
    }
   ],
   "source": [
    "a = 1\n",
    "\n",
    "print(a == 1)"
   ]
  },
  {
   "cell_type": "code",
   "execution_count": 124,
   "metadata": {},
   "outputs": [
    {
     "name": "stdout",
     "output_type": "stream",
     "text": [
      "False\n"
     ]
    }
   ],
   "source": [
    "print(a != 1)"
   ]
  },
  {
   "cell_type": "code",
   "execution_count": 125,
   "metadata": {},
   "outputs": [
    {
     "data": {
      "text/plain": [
       "False"
      ]
     },
     "execution_count": 125,
     "metadata": {},
     "output_type": "execute_result"
    }
   ],
   "source": [
    "1 == 2"
   ]
  },
  {
   "cell_type": "code",
   "execution_count": 40,
   "metadata": {},
   "outputs": [
    {
     "data": {
      "text/plain": [
       "True"
      ]
     },
     "execution_count": 40,
     "metadata": {},
     "output_type": "execute_result"
    }
   ],
   "source": [
    "1 != 2"
   ]
  },
  {
   "cell_type": "code",
   "execution_count": 41,
   "metadata": {},
   "outputs": [
    {
     "data": {
      "text/plain": [
       "True"
      ]
     },
     "execution_count": 41,
     "metadata": {},
     "output_type": "execute_result"
    }
   ],
   "source": [
    "1 < 2"
   ]
  },
  {
   "cell_type": "code",
   "execution_count": 42,
   "metadata": {},
   "outputs": [
    {
     "data": {
      "text/plain": [
       "False"
      ]
     },
     "execution_count": 42,
     "metadata": {},
     "output_type": "execute_result"
    }
   ],
   "source": [
    "1 > 2"
   ]
  },
  {
   "cell_type": "code",
   "execution_count": 126,
   "metadata": {},
   "outputs": [
    {
     "name": "stdout",
     "output_type": "stream",
     "text": [
      "Olá!\n"
     ]
    }
   ],
   "source": [
    "if 1 < 2:\n",
    "    print('Olá!')"
   ]
  },
  {
   "cell_type": "code",
   "execution_count": 127,
   "metadata": {},
   "outputs": [],
   "source": [
    "if 1 > 2:\n",
    "    print('Olá!')"
   ]
  },
  {
   "cell_type": "markdown",
   "metadata": {},
   "source": [
    "Nos condicionais podemos ter mais de uma condição no if, usando o _and_ e o _or_."
   ]
  },
  {
   "cell_type": "code",
   "execution_count": 45,
   "metadata": {},
   "outputs": [],
   "source": [
    "a = 2\n",
    "\n",
    "b = 4\n",
    "\n",
    "if a == 2 and b == 3:\n",
    "    print('Printou!')"
   ]
  },
  {
   "cell_type": "code",
   "execution_count": 47,
   "metadata": {},
   "outputs": [
    {
     "name": "stdout",
     "output_type": "stream",
     "text": [
      "Printou!\n"
     ]
    }
   ],
   "source": [
    "a = 2\n",
    "\n",
    "b = 4\n",
    "\n",
    "if a == 2 or b == 3:\n",
    "    print('Printou!')"
   ]
  },
  {
   "cell_type": "markdown",
   "metadata": {},
   "source": [
    "Entendeu a diferença entre _and_ e _or_? \n",
    "\n",
    "O _and_ exige as duas condições. O _or_ exige apenas uma. \n",
    "\n",
    "Podemos ter mais de duas condições. "
   ]
  },
  {
   "cell_type": "code",
   "execution_count": 128,
   "metadata": {},
   "outputs": [],
   "source": [
    "a = 1\n",
    "\n",
    "b = 2\n",
    "\n",
    "c = 4\n",
    "\n",
    "if a == 1 and b == 2 and c == 3:\n",
    "    print('Printou!')"
   ]
  },
  {
   "cell_type": "code",
   "execution_count": 131,
   "metadata": {},
   "outputs": [
    {
     "name": "stdout",
     "output_type": "stream",
     "text": [
      "Printou!\n"
     ]
    }
   ],
   "source": [
    "a = 1\n",
    "\n",
    "b = 2\n",
    "\n",
    "c = 4\n",
    "\n",
    "if a == 1 and b == 2 or c == 3:\n",
    "    print('Printou!')"
   ]
  },
  {
   "cell_type": "markdown",
   "metadata": {},
   "source": [
    "Faça alguns testes com esses códigos acima para entender bem como o if funciona.\n",
    "\n",
    "Os condicionais aparecem MUITO nos códigos em Python (em todas as linguagens, na verdade)."
   ]
  },
  {
   "cell_type": "markdown",
   "metadata": {},
   "source": [
    "## _Loops:_ _for_ e _while_"
   ]
  },
  {
   "cell_type": "markdown",
   "metadata": {},
   "source": [
    "Às vezes precisamos repetir partes do código. \n",
    "\n",
    "Quase sempre é possível fazer isso usando ***loops***. \n",
    "\n",
    "Com _loops_ (laços de repetição) podemos realizar uma mesma operação várias vezes. \n",
    "\n",
    "Ou seja, podemos repetir um mesmo conjunto de comandos (mudando alguns valores).\n",
    "\n",
    "Abaixo temos um exemplo com _for_."
   ]
  },
  {
   "cell_type": "code",
   "execution_count": 133,
   "metadata": {},
   "outputs": [
    {
     "name": "stdout",
     "output_type": "stream",
     "text": [
      "0\n",
      "1\n",
      "2\n",
      "3\n",
      "4\n"
     ]
    }
   ],
   "source": [
    "for i in range(5):\n",
    "    print(i)"
   ]
  },
  {
   "cell_type": "markdown",
   "metadata": {},
   "source": [
    "O _for_ (para), junto com o _range_, vai fazer a variável _i_ mudar de 0 a 4.\n",
    "\n",
    "A variável _i_ assume o valor zero e todos os comandos dentro do _loop_ são executados, considerando _i_ como sendo zero.\n",
    "\n",
    "Depois, chegando ao final do código que está indentado, a variável _i_ assume o valor 1 e as operações que estão dentro do _loop_ recomeçam. \n",
    "\n",
    "Depois _i_ assume valor 2 e assim por diante....\n",
    "\n",
    "Podemos mudar o nome da varíavel."
   ]
  },
  {
   "cell_type": "code",
   "execution_count": 134,
   "metadata": {},
   "outputs": [
    {
     "name": "stdout",
     "output_type": "stream",
     "text": [
      "0\n",
      "1\n",
      "2\n",
      "3\n",
      "4\n",
      "5\n",
      "6\n"
     ]
    }
   ],
   "source": [
    "for j in range(7):\n",
    "    print(j)"
   ]
  },
  {
   "cell_type": "markdown",
   "metadata": {},
   "source": [
    "Podemos definir, no _range_, o valor inicial, o valor final e o intervalor entre os valores da variável."
   ]
  },
  {
   "cell_type": "code",
   "execution_count": 135,
   "metadata": {
    "scrolled": true
   },
   "outputs": [
    {
     "name": "stdout",
     "output_type": "stream",
     "text": [
      "3\n",
      "7\n",
      "11\n",
      "15\n",
      "19\n",
      "23\n"
     ]
    }
   ],
   "source": [
    "for i in range(3, 25, 4):\n",
    "    print(i)"
   ]
  },
  {
   "cell_type": "markdown",
   "metadata": {},
   "source": [
    "Note que a função _range_ pode ter um argumento, dois ou três (faça alguns testes para entender isso bem).\n",
    "\n",
    "Abaixo temos uma soma dos inteiros de 1 a 10. \n",
    "\n",
    "Note que o _range_ vai até 11, porque o _range_ exclui o argumento de entrada. Vai de 0 até 11-1."
   ]
  },
  {
   "cell_type": "code",
   "execution_count": 292,
   "metadata": {},
   "outputs": [
    {
     "name": "stdout",
     "output_type": "stream",
     "text": [
      "55\n"
     ]
    }
   ],
   "source": [
    "soma = 0\n",
    "\n",
    "for i in range(11):\n",
    "    soma += i\n",
    "\n",
    "print(soma)"
   ]
  },
  {
   "cell_type": "markdown",
   "metadata": {},
   "source": [
    "Agora temos uma soma dos quadrados desses números."
   ]
  },
  {
   "cell_type": "code",
   "execution_count": 293,
   "metadata": {},
   "outputs": [
    {
     "name": "stdout",
     "output_type": "stream",
     "text": [
      "385\n"
     ]
    }
   ],
   "source": [
    "soma = 0\n",
    "\n",
    "for i in range(11):\n",
    "    soma += i**2\n",
    "\n",
    "print(soma)"
   ]
  },
  {
   "cell_type": "markdown",
   "metadata": {},
   "source": [
    "Vamos somar apenas os quadrados dos números pares."
   ]
  },
  {
   "cell_type": "code",
   "execution_count": 136,
   "metadata": {},
   "outputs": [
    {
     "name": "stdout",
     "output_type": "stream",
     "text": [
      "220\n"
     ]
    }
   ],
   "source": [
    "soma = 0\n",
    "\n",
    "for i in range(0, 11, 2):\n",
    "    soma += i**2\n",
    "\n",
    "print(soma)"
   ]
  },
  {
   "cell_type": "markdown",
   "metadata": {},
   "source": [
    "Na verdade, o _for_ do Python pode iterar em uma sequência de itens, como uma lista ou uma string.\n",
    "\n",
    "Usamos o _range_ no caso particular em que queremos iterar em uma sequência de números. O _range_ é uma função que gera essa lista.\n",
    "\n",
    "Veja os exemplos abaixo."
   ]
  },
  {
   "cell_type": "code",
   "execution_count": 137,
   "metadata": {},
   "outputs": [
    {
     "name": "stdout",
     "output_type": "stream",
     "text": [
      "U\n",
      "n\n",
      "i\n",
      "v\n",
      "e\n",
      "r\n",
      "s\n",
      "i\n",
      "d\n",
      "a\n",
      "d\n",
      "e\n",
      " \n",
      "d\n",
      "e\n",
      " \n",
      "B\n",
      "r\n",
      "a\n",
      "s\n",
      "í\n",
      "l\n",
      "i\n",
      "a\n"
     ]
    }
   ],
   "source": [
    "nome = 'Universidade de Brasília'\n",
    "\n",
    "for i in nome:\n",
    "    print(i)"
   ]
  },
  {
   "cell_type": "code",
   "execution_count": 302,
   "metadata": {},
   "outputs": [
    {
     "name": "stdout",
     "output_type": "stream",
     "text": [
      "4\n",
      "8\n",
      "-7\n",
      "13\n",
      "1.1\n"
     ]
    }
   ],
   "source": [
    "numeros = [4, 8, -7, 13, 1.1]\n",
    "\n",
    "for i in numeros:\n",
    "    print(i)"
   ]
  },
  {
   "cell_type": "markdown",
   "metadata": {},
   "source": [
    "Também podemos iterar em dicionários. Mas para isso temos que transformar seus elementos em listas."
   ]
  },
  {
   "cell_type": "code",
   "execution_count": 138,
   "metadata": {},
   "outputs": [
    {
     "name": "stdout",
     "output_type": "stream",
     "text": [
      "mechanics -> mecânica\n",
      "engineering -> engenharia\n",
      "university -> universidade\n"
     ]
    }
   ],
   "source": [
    "ingles_portugues = {'mechanics': 'mecânica', 'engineering': 'engenharia', \n",
    "                    'university': 'universidade'}\n",
    "\n",
    "for key, value in ingles_portugues.items():\n",
    "    print(key,'->', value)"
   ]
  },
  {
   "cell_type": "markdown",
   "metadata": {},
   "source": [
    "Sempre tem o _for_, o _in_ e os dois pontos. \n",
    "\n",
    "Tudo que está dentro do _loop_, ou seja, que deve ser repetido, deve estar indentado, que é o espaço em branco antes dos comandos. \n",
    "\n",
    "Podemos também ter loop dentro de loop."
   ]
  },
  {
   "cell_type": "code",
   "execution_count": 140,
   "metadata": {},
   "outputs": [
    {
     "name": "stdout",
     "output_type": "stream",
     "text": [
      "0 0\n",
      "0 1\n",
      "0 2\n",
      "1 0\n",
      "1 1\n",
      "1 2\n",
      "2 0\n",
      "2 1\n",
      "2 2\n"
     ]
    }
   ],
   "source": [
    "for i in range(3):\n",
    "    for j in range(3):\n",
    "        print(i, j)"
   ]
  },
  {
   "cell_type": "code",
   "execution_count": 141,
   "metadata": {},
   "outputs": [
    {
     "name": "stdout",
     "output_type": "stream",
     "text": [
      "0 0 0\n",
      "0 0 1\n",
      "0 1 0\n",
      "0 1 1\n",
      "0 2 0\n",
      "0 2 1\n",
      "1 0 0\n",
      "1 0 1\n",
      "1 1 0\n",
      "1 1 1\n",
      "1 2 0\n",
      "1 2 1\n",
      "2 0 0\n",
      "2 0 1\n",
      "2 1 0\n",
      "2 1 1\n",
      "2 2 0\n",
      "2 2 1\n"
     ]
    }
   ],
   "source": [
    "for i in range(3):\n",
    "    for j in range(3):\n",
    "        for k in range(2):\n",
    "            print(i, j, k)"
   ]
  },
  {
   "cell_type": "markdown",
   "metadata": {},
   "source": [
    "Podemos parar o _loop_ antes de chegar no final da contagem.\n",
    "\n",
    "Para isso usamos o _break_."
   ]
  },
  {
   "cell_type": "code",
   "execution_count": 142,
   "metadata": {
    "scrolled": true
   },
   "outputs": [
    {
     "name": "stdout",
     "output_type": "stream",
     "text": [
      "0\n",
      "1\n",
      "2\n",
      "3\n",
      "4\n",
      "5\n",
      "6\n"
     ]
    }
   ],
   "source": [
    "for i in range(20):\n",
    "    if i == 7:\n",
    "        break\n",
    "    print(i)\n",
    "    "
   ]
  },
  {
   "cell_type": "markdown",
   "metadata": {},
   "source": [
    "O _loop_ deveria ir de zero a 19. Mas quando _i_ é igual a 7, aparece um _break_ para o _loop_.\n",
    "\n",
    "Então o _loop_ acaba ali, e o código continua para as próximas linhas. \n",
    "\n",
    "Outra função interessante para controlar o _loop_ é a _continue_. "
   ]
  },
  {
   "cell_type": "code",
   "execution_count": 317,
   "metadata": {
    "scrolled": true
   },
   "outputs": [
    {
     "name": "stdout",
     "output_type": "stream",
     "text": [
      "0\n",
      "1\n",
      "2\n",
      "3\n",
      "5\n",
      "6\n",
      "7\n",
      "9\n",
      "10\n",
      "11\n"
     ]
    }
   ],
   "source": [
    "for i in range(12):\n",
    "    if i == 4 or i == 8:\n",
    "        continue\n",
    "    print(i)"
   ]
  },
  {
   "cell_type": "markdown",
   "metadata": {},
   "source": [
    "Quando a _continue_ é chamada, ela faz com que o código passe imediatamente para o próximo passo do _loop_.\n",
    "\n",
    "Em resumo: **_break_ finaliza o _loop_ e _continue_ vai para o próximo passo do _loop_.**"
   ]
  },
  {
   "cell_type": "markdown",
   "metadata": {},
   "source": [
    "Outra forma de fazer iterações seguidas no Python é com o ***while***.\n",
    "\n",
    "A tradução de _while_ é enquanto. \n",
    "\n",
    "O _while_ funciona assim: enquanto for verdadeiro ele continua, até alguém dizer que é falso, aí ele para.\n",
    "\n",
    "Muito **cuidado** aqui: se você não informar corretamente o critério de parada o _while_ vai continuar para sempre (ou até você interromper manualmente a execução do código).\n",
    "\n",
    "Vamos começar do mais simples para o mais complexo, por ter esse caminho mais sentido que o outro."
   ]
  },
  {
   "cell_type": "code",
   "execution_count": 144,
   "metadata": {},
   "outputs": [
    {
     "name": "stdout",
     "output_type": "stream",
     "text": [
      "1\n",
      "2\n",
      "3\n",
      "4\n"
     ]
    }
   ],
   "source": [
    "a = 1    # Iniciando o valor da minha variável.\n",
    "\n",
    "while a < 5:    # Começa o _loop_. Temos o while e a expressão.\n",
    "    print(a)    # Operações que queremos fazer no loop.\n",
    "    a = a + 1   # Atualização do valor de a."
   ]
  },
  {
   "cell_type": "markdown",
   "metadata": {},
   "source": [
    "O código executa a operação no corpo principal do _loop_ e volta para o cabeçalho. \n",
    "\n",
    "Aí ele pergunta: a expressão ainda é verdadeira? \n",
    "\n",
    "Se for ele executa mais uma vez; se não for ele finaliza o _loop_ e segue para as próximas linhas de código.\n",
    "\n",
    "Algumas outras maneiras de executar o mesmo procedimento."
   ]
  },
  {
   "cell_type": "code",
   "execution_count": 330,
   "metadata": {},
   "outputs": [
    {
     "name": "stdout",
     "output_type": "stream",
     "text": [
      "1\n",
      "2\n",
      "3\n",
      "4\n"
     ]
    }
   ],
   "source": [
    "a = 1\n",
    "\n",
    "b = True\n",
    "\n",
    "while b:\n",
    "    print(a)\n",
    "    a += 1\n",
    "    if a > 4:\n",
    "        b = False"
   ]
  },
  {
   "cell_type": "code",
   "execution_count": 145,
   "metadata": {
    "scrolled": true
   },
   "outputs": [
    {
     "name": "stdout",
     "output_type": "stream",
     "text": [
      "1\n",
      "2\n",
      "3\n",
      "4\n"
     ]
    }
   ],
   "source": [
    "a = 1\n",
    "\n",
    "while True:\n",
    "    if a > 4:\n",
    "        break\n",
    "    print(a)\n",
    "    a += 1    # Sem essa linha o código fica printando 1 para sempre."
   ]
  },
  {
   "cell_type": "markdown",
   "metadata": {},
   "source": [
    "Observe o código abaixo. Ele não printa nada. O que aconteceu?"
   ]
  },
  {
   "cell_type": "code",
   "execution_count": 147,
   "metadata": {},
   "outputs": [],
   "source": [
    "a = 10\n",
    "\n",
    "while a < 5:\n",
    "    print(a)\n",
    "    a += 1"
   ]
  },
  {
   "cell_type": "markdown",
   "metadata": {},
   "source": [
    "Vamos achar o Mínimo Múltiplo Comum entre dois números. "
   ]
  },
  {
   "cell_type": "code",
   "execution_count": 148,
   "metadata": {},
   "outputs": [
    {
     "name": "stdout",
     "output_type": "stream",
     "text": [
      "126\n"
     ]
    }
   ],
   "source": [
    "a = 1 \n",
    "\n",
    "while True:\n",
    "    \n",
    "    if a%14 == 0 and a%18 == 0:\n",
    "        print(a)\n",
    "        break\n",
    "     \n",
    "    a += 1"
   ]
  },
  {
   "cell_type": "markdown",
   "metadata": {},
   "source": [
    "O que essa operação % faz?"
   ]
  },
  {
   "cell_type": "markdown",
   "metadata": {},
   "source": [
    "## Tarefa de Casa"
   ]
  },
  {
   "cell_type": "markdown",
   "metadata": {},
   "source": [
    "1. Imprima todos os números de 1 a 100 que são múltiplos de 3 ou de 5.\n",
    "1. Desenvolva um jogo da forca.\n",
    "1. Desenvolva um código que diz se uma determinada palavra é um palíndromo ou não.\n",
    "1. Dadas as coordenadas de dois pontos no espaço, calcule a distância entre esses pontos.\n",
    "1. Faça um programa que solicite o nome do usuário e depois o imprima na vertical em formato de escada.\n",
    "\n",
    "J\n",
    "\n",
    "JO\n",
    "\n",
    "JOÃ\n",
    "\n",
    "JOÃO"
   ]
  },
  {
   "cell_type": "markdown",
   "metadata": {},
   "source": [
    "((Obs.: para resolver alguns dos exercícios acima você vai precisar de funções que não foram apresentadas na aula. \n",
    "\n",
    "Para manipular _strings_, dê uma olhada em https://wiki.python.org.br/ManipulandoStringsComPython \n",
    "\n",
    "Para os outros casos, pesquise no Google. Boa sorte!))"
   ]
  },
  {
   "cell_type": "markdown",
   "metadata": {},
   "source": [
    "---"
   ]
  },
  {
   "cell_type": "markdown",
   "metadata": {},
   "source": [
    "---"
   ]
  },
  {
   "cell_type": "markdown",
   "metadata": {},
   "source": [
    "---"
   ]
  },
  {
   "cell_type": "markdown",
   "metadata": {},
   "source": [
    "# Curso de Python: Dia 3 (Funções)"
   ]
  },
  {
   "cell_type": "markdown",
   "metadata": {},
   "source": [
    "## Revisão"
   ]
  },
  {
   "cell_type": "markdown",
   "metadata": {},
   "source": [
    "## Funções"
   ]
  },
  {
   "cell_type": "markdown",
   "metadata": {},
   "source": [
    "Funções são uma maneira de criar partes de código que podem ser utilizadas mais tarde no próprio código ou em outros códigos. \n",
    "\n",
    "São **essenciais** para não ficarmos repetindo linhas de código e também contribuem muito para a organização do programa.\n",
    "\n",
    "Não é bom copiar e colar partes do código porque se você encontrar um erro ou quiser fazer uma modificação, você vai ter que fazer isso em várias partes do código.\n",
    "\n",
    "A ideia é dividir uma tarefa grande em várias **tarefas menores**. Isso é possível em quase todas as situações. \n",
    "\n",
    "Dividir para conquistar.\n",
    "\n",
    "Essas pequenas tarefas (ou peças) podem ser usadas várias vezes no seu código.  \n",
    "\n",
    "Vamos ver um exemplo."
   ]
  },
  {
   "cell_type": "code",
   "execution_count": 150,
   "metadata": {},
   "outputs": [
    {
     "name": "stdout",
     "output_type": "stream",
     "text": [
      "5\n",
      "15\n"
     ]
    }
   ],
   "source": [
    "def soma2(x, y):    # Definindo a função.\n",
    "    w = x + y       # Código indentado, dentro da função. \n",
    "    return w        # Retorna o valor para o código principal.\n",
    "\n",
    "a = soma2(1, 4)     # Chamando a função.\n",
    "\n",
    "print(a)\n",
    "\n",
    "b = soma2(17, -2)   # Chamando a função.\n",
    "\n",
    "print(b)"
   ]
  },
  {
   "cell_type": "markdown",
   "metadata": {},
   "source": [
    "Criamos a **função** _soma_ no código acima.\n",
    "\n",
    "Para definir (criar) uma função nós usamos o comando _def_.\n",
    "\n",
    "A função é criada apenas uma vez.\n",
    "\n",
    "O código da função deve estar indentado.\n",
    "\n",
    "Depois de criar a função, nós a chamamos, demos um _call_ na função.\n",
    "\n",
    "A função pode ser chamada quantas vezes quisermos.\n",
    "\n",
    "Note que a função deve ser criada primeiro e depois chamada (isso acontece sempre em linguagens interpretadas).\n",
    "\n",
    "O que essa função faz? Nós entramos com dois valores e ela retorna a soma desses valores.\n",
    "\n",
    "As entradas de uma função são chamadas de **argumentos** ou **parâmetros**.\n",
    "\n",
    "Mais um exemplo."
   ]
  },
  {
   "cell_type": "code",
   "execution_count": 151,
   "metadata": {},
   "outputs": [
    {
     "name": "stdout",
     "output_type": "stream",
     "text": [
      "27\n"
     ]
    }
   ],
   "source": [
    "def soma3(x, y, z):\n",
    "    w = x + y + z\n",
    "    return w\n",
    "\n",
    "a = soma3(7, 9, 11)\n",
    "\n",
    "print(a)"
   ]
  },
  {
   "cell_type": "markdown",
   "metadata": {},
   "source": [
    "Agora temos 3 argumentos na nossa função.\n",
    "\n",
    "**IMPORTANTE:** note o espaçamento inicial nas linhas de código dentro da função.\n",
    "\n",
    "Esse espaço em branco é chamado de **indentação** (já vimos isso em condicionais e loops).\n",
    "\n",
    "A indentação é importantíssima no Python. \n",
    "\n",
    "Usamos **4 espaços em branco** na indentação. \n",
    "\n",
    "Tudo que está indentado forma um bloco de código separado do bloco principal.\n",
    "\n",
    "Note que indentação não é apenas para organizar o código visualmente, como em outras linguagens.\n",
    "\n",
    "Temos erros no código quando a indentação correta não é utilizada."
   ]
  },
  {
   "cell_type": "code",
   "execution_count": 152,
   "metadata": {},
   "outputs": [
    {
     "ename": "IndentationError",
     "evalue": "expected an indented block (<ipython-input-152-51621ada81c2>, line 2)",
     "output_type": "error",
     "traceback": [
      "\u001b[0;36m  File \u001b[0;32m\"<ipython-input-152-51621ada81c2>\"\u001b[0;36m, line \u001b[0;32m2\u001b[0m\n\u001b[0;31m    w = x + y + z\u001b[0m\n\u001b[0m    ^\u001b[0m\n\u001b[0;31mIndentationError\u001b[0m\u001b[0;31m:\u001b[0m expected an indented block\n"
     ]
    }
   ],
   "source": [
    "def soma3(x, y, z):\n",
    "w = x + y + z\n",
    "return w"
   ]
  },
  {
   "cell_type": "markdown",
   "metadata": {},
   "source": [
    "Na função _soma2_, nós entramos com dois argumentos, e a função retorna (_return_) a variável w, que é a soma dos dois.\n",
    "\n",
    "Na função _soma3_ nós entramos com 3 argumentos, e a função retorna a soma dos 3.\n",
    "\n",
    "Podemos reescrever os códigos acima sem a variável w."
   ]
  },
  {
   "cell_type": "code",
   "execution_count": 154,
   "metadata": {},
   "outputs": [
    {
     "name": "stdout",
     "output_type": "stream",
     "text": [
      "7\n",
      "27\n"
     ]
    }
   ],
   "source": [
    "def soma2(x, y):\n",
    "    return x + y\n",
    "\n",
    "def soma3(x, y, z):\n",
    "    return x + y + z\n",
    "\n",
    "soma2(3, 4)\n",
    "\n",
    "a = soma2(3, 4)\n",
    "\n",
    "print(soma2(3, 4))\n",
    "\n",
    "print(soma3(8, 9, 10))"
   ]
  },
  {
   "cell_type": "markdown",
   "metadata": {},
   "source": [
    "Como no exemplo acima,  \n",
    "* podemos apenas chamar a função, \n",
    "* podemos associar uma variável ao resultado da função\n",
    "* podemos printar direto na tela o resultado da função"
   ]
  },
  {
   "cell_type": "markdown",
   "metadata": {},
   "source": [
    "Podemos ter funções sem argumentos."
   ]
  },
  {
   "cell_type": "code",
   "execution_count": 155,
   "metadata": {},
   "outputs": [
    {
     "name": "stdout",
     "output_type": "stream",
     "text": [
      "42\n"
     ]
    }
   ],
   "source": [
    "def printar_42():\n",
    "    print(42)\n",
    "    \n",
    "printar_42()"
   ]
  },
  {
   "cell_type": "markdown",
   "metadata": {},
   "source": [
    "A função acima não tem argumento (e não tem return).\n",
    "\n",
    "Ela apenas printa o número 42 na tela. Bem útil.\n",
    "\n",
    "Não é obrigatório ter _return_.\n",
    "\n",
    "Quando tem _return_, a função para no primeiro return que ela encontra. "
   ]
  },
  {
   "cell_type": "code",
   "execution_count": 156,
   "metadata": {},
   "outputs": [
    {
     "name": "stdout",
     "output_type": "stream",
     "text": [
      "Começando.\n",
      "42\n"
     ]
    }
   ],
   "source": [
    "def printar_42():\n",
    "    print('Começando.')\n",
    "    return print(42)\n",
    "    print('Terminando.')    # A função não vê o que está nas linhas após o return. \n",
    "\n",
    "printar_42()"
   ]
  },
  {
   "cell_type": "markdown",
   "metadata": {},
   "source": [
    "Mas atenção! Veja o código abaixo."
   ]
  },
  {
   "cell_type": "code",
   "execution_count": 157,
   "metadata": {},
   "outputs": [
    {
     "name": "stdout",
     "output_type": "stream",
     "text": [
      "a é diferente de 2.\n"
     ]
    }
   ],
   "source": [
    "def dois_ou_nao():\n",
    "    a = 1\n",
    "    if a == 2:\n",
    "        return print('a é igual a 2.')\n",
    "    else:\n",
    "        return print('a é diferente de 2.')\n",
    "\n",
    "dois_ou_nao()"
   ]
  },
  {
   "cell_type": "markdown",
   "metadata": {},
   "source": [
    "A função acima continua depois do _return_ porque o _return_ não foi acessado, já que a condição do _if_ não é verdadeira. \n",
    "\n",
    "Podemos criar uma função chamada divisão, para evitar erros causados por divisões por zero."
   ]
  },
  {
   "cell_type": "code",
   "execution_count": 158,
   "metadata": {},
   "outputs": [
    {
     "name": "stdout",
     "output_type": "stream",
     "text": [
      "2.0\n",
      "Não dividirás por zero!\n",
      "None\n"
     ]
    }
   ],
   "source": [
    "def divisao(a, b):\n",
    "    ''' \n",
    "    Entradas: números a e b.\n",
    "    Retorna o valor a/b quando b é diferente de zero.\n",
    "    Retorna uma mensagem quando b é igual a zero.\n",
    "    '''\n",
    "    if b == 0 or b == 0.0:\n",
    "        print('Não dividirás por zero!')\n",
    "        return None\n",
    "    else:\n",
    "        return a/b\n",
    "\n",
    "print(divisao(4, 2))\n",
    "    \n",
    "print(divisao(4, 0.0))"
   ]
  },
  {
   "cell_type": "markdown",
   "metadata": {},
   "source": [
    "A parte entre 3 aspas simples no início da função serve para explicar o que essa função faz.\n",
    "\n",
    "É sempre importante comentar o código e explicar o que cada coisa faz.\n",
    "\n",
    "Isso é fundamental pra quem vai usar o seu código e também para que você não se esqueça de como cada parte funciona.\n",
    "\n",
    "Olha que legal:"
   ]
  },
  {
   "cell_type": "code",
   "execution_count": 159,
   "metadata": {
    "scrolled": true
   },
   "outputs": [
    {
     "name": "stdout",
     "output_type": "stream",
     "text": [
      " \n",
      "    Entradas: números a e b.\n",
      "    Retorna o valor a/b quando b é diferente de zero.\n",
      "    Retorna uma mensagem quando b é igual a zero.\n",
      "    \n"
     ]
    }
   ],
   "source": [
    "print(divisao.__doc__)"
   ]
  },
  {
   "cell_type": "markdown",
   "metadata": {},
   "source": [
    "Vamos ver como obter mais informações sobre as funções na próxima aula, sobre classes e objetos.\n",
    "\n",
    "_None_ (nada), que apareceu lá em cima, é um tipo de variável especial no Python para dizer que a variável existe, mas nada foi especificado sobre ela ainda."
   ]
  },
  {
   "cell_type": "code",
   "execution_count": 161,
   "metadata": {},
   "outputs": [
    {
     "name": "stdout",
     "output_type": "stream",
     "text": [
      "None\n",
      "<class 'NoneType'>\n"
     ]
    }
   ],
   "source": [
    "a = None\n",
    "\n",
    "print(a)\n",
    "\n",
    "print(type(a))"
   ]
  },
  {
   "cell_type": "code",
   "execution_count": 162,
   "metadata": {},
   "outputs": [
    {
     "data": {
      "text/plain": [
       "True"
      ]
     },
     "execution_count": 162,
     "metadata": {},
     "output_type": "execute_result"
    }
   ],
   "source": [
    "a == None"
   ]
  },
  {
   "cell_type": "code",
   "execution_count": 163,
   "metadata": {},
   "outputs": [
    {
     "data": {
      "text/plain": [
       "False"
      ]
     },
     "execution_count": 163,
     "metadata": {},
     "output_type": "execute_result"
    }
   ],
   "source": [
    "a == 0"
   ]
  },
  {
   "cell_type": "markdown",
   "metadata": {},
   "source": [
    "Note que _None_ não significa zero. Zero é um _int_.\n",
    "\n",
    "Ainda sobre a função _divisao_, veja o código abaixo."
   ]
  },
  {
   "cell_type": "code",
   "execution_count": 164,
   "metadata": {},
   "outputs": [
    {
     "ename": "TypeError",
     "evalue": "divisao() missing 1 required positional argument: 'b'",
     "output_type": "error",
     "traceback": [
      "\u001b[0;31m---------------------------------------------------------------------------\u001b[0m",
      "\u001b[0;31mTypeError\u001b[0m                                 Traceback (most recent call last)",
      "\u001b[0;32m<ipython-input-164-02196844c0eb>\u001b[0m in \u001b[0;36m<module>\u001b[0;34m\u001b[0m\n\u001b[0;32m----> 1\u001b[0;31m \u001b[0mdivisao\u001b[0m\u001b[0;34m(\u001b[0m\u001b[0;36m4\u001b[0m\u001b[0;34m)\u001b[0m\u001b[0;34m\u001b[0m\u001b[0;34m\u001b[0m\u001b[0m\n\u001b[0m",
      "\u001b[0;31mTypeError\u001b[0m: divisao() missing 1 required positional argument: 'b'"
     ]
    }
   ],
   "source": [
    "divisao(4)"
   ]
  },
  {
   "cell_type": "markdown",
   "metadata": {},
   "source": [
    "Aqui temos um erro!!\n",
    "\n",
    "Na definição, a função _divisao_ precisa de dois argumentos de entrada.\n",
    "\n",
    "Na hora de chamar a função, apenas um argumento foi dado.\n",
    "\n",
    "Isso gera um erro. \n",
    "\n",
    "Com três argumentos também temos um erro."
   ]
  },
  {
   "cell_type": "code",
   "execution_count": 75,
   "metadata": {},
   "outputs": [
    {
     "ename": "TypeError",
     "evalue": "divisao() takes 2 positional arguments but 3 were given",
     "output_type": "error",
     "traceback": [
      "\u001b[0;31m---------------------------------------------------------------------------\u001b[0m",
      "\u001b[0;31mTypeError\u001b[0m                                 Traceback (most recent call last)",
      "\u001b[0;32m<ipython-input-75-b59e6ff4675e>\u001b[0m in \u001b[0;36m<module>\u001b[0;34m\u001b[0m\n\u001b[0;32m----> 1\u001b[0;31m \u001b[0mdivisao\u001b[0m\u001b[0;34m(\u001b[0m\u001b[0;36m1\u001b[0m\u001b[0;34m,\u001b[0m \u001b[0;36m2\u001b[0m\u001b[0;34m,\u001b[0m \u001b[0;36m3\u001b[0m\u001b[0;34m)\u001b[0m\u001b[0;34m\u001b[0m\u001b[0;34m\u001b[0m\u001b[0m\n\u001b[0m",
      "\u001b[0;31mTypeError\u001b[0m: divisao() takes 2 positional arguments but 3 were given"
     ]
    }
   ],
   "source": [
    "divisao(1, 2, 3)"
   ]
  },
  {
   "cell_type": "markdown",
   "metadata": {},
   "source": [
    "Podemos ter também, strings, listas, dicionários, tuples, e qualquer tipo de dado como argumento de uma função."
   ]
  },
  {
   "cell_type": "code",
   "execution_count": 166,
   "metadata": {},
   "outputs": [
    {
     "name": "stdout",
     "output_type": "stream",
     "text": [
      "Run, Forrest, run !\n"
     ]
    }
   ],
   "source": [
    "def run(nome):\n",
    "    print('Run, ' + nome + ', run !')\n",
    "    \n",
    "run('Forrest')"
   ]
  },
  {
   "cell_type": "markdown",
   "metadata": {},
   "source": [
    "Vamos calcular as médias dos elementos de uma lista."
   ]
  },
  {
   "cell_type": "code",
   "execution_count": 167,
   "metadata": {},
   "outputs": [
    {
     "name": "stdout",
     "output_type": "stream",
     "text": [
      "10.75\n"
     ]
    }
   ],
   "source": [
    "def calcular_media(lista):\n",
    "    a = 0\n",
    "    for i in lista:\n",
    "        a += i\n",
    "    \n",
    "    return a/len(lista)\n",
    "\n",
    "a = [1, 8.0, 9.0, 25.0]\n",
    "\n",
    "media = calcular_media(a)\n",
    "\n",
    "print(media)"
   ]
  },
  {
   "cell_type": "markdown",
   "metadata": {},
   "source": [
    "Outro detalhe importante é que podemos retornar mais de um valor em uma função."
   ]
  },
  {
   "cell_type": "code",
   "execution_count": 168,
   "metadata": {},
   "outputs": [
    {
     "name": "stdout",
     "output_type": "stream",
     "text": [
      "10 20 30\n"
     ]
    }
   ],
   "source": [
    "def f(x, y, z):\n",
    "    return x + 10, y + 20, z + 30\n",
    "\n",
    "a, b, c = f(0, 0, 0)\n",
    "\n",
    "print(a, b, c)"
   ]
  },
  {
   "cell_type": "markdown",
   "metadata": {},
   "source": [
    "**Default, args e kwargs**"
   ]
  },
  {
   "cell_type": "markdown",
   "metadata": {},
   "source": [
    "Temos alguns tipos de comportamento para os argumentos em funções no Python.\n",
    "\n",
    "Vamos ver três deles, que são os _defaults_ (predefinidos), ***_args_** e **_kwargs_.\n",
    "\n",
    "Usamos o ***default*** quando um ou mais argumentos já têm um valor comumente utilizado, meio que padrão. \n",
    "\n",
    "Vamos criar uma função que devolve o número de semanas em um mês, dado o número de dias."
   ]
  },
  {
   "cell_type": "code",
   "execution_count": 169,
   "metadata": {},
   "outputs": [
    {
     "name": "stdout",
     "output_type": "stream",
     "text": [
      "Esse mês tem 4.285714285714286 semanas.\n"
     ]
    }
   ],
   "source": [
    "def semanas_no_mes(dias=30):\n",
    "    return f'Esse mês tem {dias/7} semanas.'\n",
    "\n",
    "print(semanas_no_mes())"
   ]
  },
  {
   "cell_type": "markdown",
   "metadata": {},
   "source": [
    "Note que a função tem um argumento e não foi passado nenhum, na hora de chamar a função.\n",
    "\n",
    "Isso não dá problema, porque a função já tem um valor que ela assume sem ninguém falar nada.\n",
    "\n",
    "Agora temos um mês com 31 dias."
   ]
  },
  {
   "cell_type": "code",
   "execution_count": 9,
   "metadata": {},
   "outputs": [
    {
     "name": "stdout",
     "output_type": "stream",
     "text": [
      "Esse mês tem 4.428571428571429 semanas.\n"
     ]
    }
   ],
   "source": [
    "print(semanas_no_mes(31))"
   ]
  },
  {
   "cell_type": "markdown",
   "metadata": {},
   "source": [
    "Estamos em fevereiro."
   ]
  },
  {
   "cell_type": "code",
   "execution_count": 7,
   "metadata": {},
   "outputs": [
    {
     "name": "stdout",
     "output_type": "stream",
     "text": [
      "Esse mês tem 4.0 semanas.\n"
     ]
    }
   ],
   "source": [
    "print(semanas_no_mes(28))"
   ]
  },
  {
   "cell_type": "markdown",
   "metadata": {},
   "source": [
    "Vamos ver um exemplo mais completo com _default_.\n",
    "\n",
    "Estamos finalizando um curso, que teve três provas, e queremos saber qual foi a menção final do aluno. \n",
    "\n",
    "Vamos criar uma função que retorna o nome do aluno, a média final e a menção.\n",
    "\n",
    "Como os alunos são ótimos, o _default_ é nota 10 nas três provas. \n",
    "\n",
    "Caso eles tenham mandado mal em alguma prova, eu vou informar à função."
   ]
  },
  {
   "cell_type": "code",
   "execution_count": 171,
   "metadata": {
    "scrolled": true
   },
   "outputs": [
    {
     "name": "stdout",
     "output_type": "stream",
     "text": [
      "A média final de Joseph Klimber foi 5.67. A menção final é MM.\n",
      "A média final de Douglas Adams foi 10.00. A menção final é SS.\n",
      "A média final de Ford Prefect foi 6.00. A menção final é MM.\n"
     ]
    }
   ],
   "source": [
    "def calcular_media_final(nota1, nota2, nota3):\n",
    "    \n",
    "    media_final = (nota1 + nota2 + nota3)/3\n",
    "    \n",
    "    return media_final\n",
    "\n",
    "\n",
    "def calcular_mencao(nome, sobrenome, nota1 = 10, nota2 = 10, nota3 = 10):\n",
    "    \n",
    "    media_final = calcular_media_final(nota1, nota2, nota3)\n",
    "\n",
    "    if media_final >= 9.0:\n",
    "        mencao = 'SS'\n",
    "    elif media_final >= 7.0:\n",
    "        mencao = 'MS'\n",
    "    elif media_final >= 5.0:\n",
    "        mencao = 'MM'\n",
    "    elif media_final >= 3.0:\n",
    "        mencao = 'MI'\n",
    "    else:\n",
    "        mencao = 'II'\n",
    "    \n",
    "    return print(f'A média final de {nome} {sobrenome} foi {media_final:.2f}.'\n",
    "              f' A menção final é {mencao}.')\n",
    "    \n",
    "    \n",
    "calcular_mencao('Joseph', 'Klimber', 8.0, 8.0, 1.0)\n",
    "\n",
    "calcular_mencao('Douglas', 'Adams')\n",
    "\n",
    "calcular_mencao('Ford', 'Prefect', nota2 = 5.0, nota3 = 3.0)"
   ]
  },
  {
   "cell_type": "markdown",
   "metadata": {},
   "source": [
    "Tente entender todos os detalhes do código acima. Note que estamos chamando uma função dentro de outra função.\n",
    "\n",
    "Comentário: no código acima, temos o conceito aluno e temos três exemplares desse conceito. \n",
    "\n",
    "Na próxima aula veremos uma maneira um pouquinho mais organizada de fazer esse mesmo procedimento, usando classes e objetos.\n",
    "\n",
    "Aqui é só pra dar um spoiler. Não tente entender o código abaixo, apenas dê uma olhada."
   ]
  },
  {
   "cell_type": "code",
   "execution_count": 172,
   "metadata": {
    "scrolled": true
   },
   "outputs": [
    {
     "name": "stdout",
     "output_type": "stream",
     "text": [
      "A média final de Joseph Klimber foi 5.67. A menção final é MM.\n",
      "A média final de Douglas Adams foi 10.00. A menção final é SS.\n",
      "A média final de Ford Prefect foi 5.67. A menção final é MM.\n"
     ]
    },
    {
     "data": {
      "text/plain": [
       "[10, 10, 10]"
      ]
     },
     "execution_count": 172,
     "metadata": {},
     "output_type": "execute_result"
    }
   ],
   "source": [
    "class Aluno:\n",
    "\n",
    "    def __init__(self, nome, sobrenome, nota1 = 10, nota2 = 10, nota3 = 10):\n",
    "        self.nome = nome\n",
    "        self.sobrenome = sobrenome\n",
    "        self.notas = [nota1, nota2, nota3]\n",
    "        self.media = self.calcular_media()\n",
    "        self.mencao = self.calcular_mencao()\n",
    "        print(f'A média final de {self.nome} {self.sobrenome} foi {self.media:.2f}.'\n",
    "              f' A menção final é {self.mencao}.')\n",
    "        \n",
    "    def calcular_media(self):\n",
    "        return sum(self.notas)/3\n",
    "    \n",
    "    def calcular_mencao(self):\n",
    "        media = self.media\n",
    "        if media >= 9.0:\n",
    "            mencao = 'SS'\n",
    "        elif media >= 7.0:\n",
    "            mencao = 'MS'\n",
    "        elif media >= 5.0:\n",
    "            mencao = 'MM'\n",
    "        elif media >= 3.0:\n",
    "            mencao = 'MI'\n",
    "        else:\n",
    "            mencao = 'II'\n",
    "        \n",
    "        return mencao\n",
    "    \n",
    "\n",
    "joseph = Aluno('Joseph', 'Klimber', 8.0, 8.0, 1.0)\n",
    "douglas = Aluno('Douglas', 'Adams')\n",
    "ford = Aluno('Ford', 'Prefect', 3.0, 9.0, 5.0)\n",
    "\n",
    "douglas.notas"
   ]
  },
  {
   "cell_type": "markdown",
   "metadata": {},
   "source": [
    "Na próxima aula vamos entender tudo que está aí."
   ]
  },
  {
   "cell_type": "markdown",
   "metadata": {},
   "source": [
    "Voltando para **funções**, vimos como funcionam os argumentos _default_. \n",
    "\n",
    "Agora, e se eu não souber quantos argumentos eu quero na minha função?\n",
    "\n",
    "E se eu quiser uma função com um número variável de argumentos?\n",
    "\n",
    "Impossível? Não para o nosso querido Python.\n",
    "\n",
    "Primeiro, vamos ver um exemplo simples."
   ]
  },
  {
   "cell_type": "code",
   "execution_count": 173,
   "metadata": {},
   "outputs": [
    {
     "name": "stdout",
     "output_type": "stream",
     "text": [
      "()\n",
      "(1, 2)\n",
      "(1, 2, 3)\n",
      "('Universidade', 'de', 'Brasília', 1962, 'abril', 21)\n"
     ]
    }
   ],
   "source": [
    "def printar_args(*args):\n",
    "    print(args)\n",
    "    \n",
    "printar_args()\n",
    "\n",
    "printar_args(1, 2)\n",
    "\n",
    "printar_args(1, 2, 3)\n",
    "\n",
    "printar_args('Universidade', 'de', 'Brasília', 1962, 'abril', 21)"
   ]
  },
  {
   "cell_type": "markdown",
   "metadata": {},
   "source": [
    "Viu? Eu posso entrar com quantos argumentos eu quiser. \n",
    "\n",
    "Esses argumentos são transformados em uma _tuple_ cujo nome é _args_.\n",
    "\n",
    "Note o asterisco antes do nome _args_, na definição da função.\n",
    "\n",
    "Atenção, eles se transformam em uma _tuple_, e não em uma _list_.\n",
    "\n",
    "Ou seja, não podemos modificá-lo."
   ]
  },
  {
   "cell_type": "code",
   "execution_count": 174,
   "metadata": {},
   "outputs": [
    {
     "ename": "TypeError",
     "evalue": "'tuple' object does not support item assignment",
     "output_type": "error",
     "traceback": [
      "\u001b[0;31m---------------------------------------------------------------------------\u001b[0m",
      "\u001b[0;31mTypeError\u001b[0m                                 Traceback (most recent call last)",
      "\u001b[0;32m<ipython-input-174-ca8a5b03db77>\u001b[0m in \u001b[0;36m<module>\u001b[0;34m\u001b[0m\n\u001b[1;32m      3\u001b[0m     \u001b[0mprint\u001b[0m\u001b[0;34m(\u001b[0m\u001b[0margs\u001b[0m\u001b[0;34m[\u001b[0m\u001b[0;36m0\u001b[0m\u001b[0;34m]\u001b[0m\u001b[0;34m)\u001b[0m\u001b[0;34m\u001b[0m\u001b[0;34m\u001b[0m\u001b[0m\n\u001b[1;32m      4\u001b[0m \u001b[0;34m\u001b[0m\u001b[0m\n\u001b[0;32m----> 5\u001b[0;31m \u001b[0mprintar_args\u001b[0m\u001b[0;34m(\u001b[0m\u001b[0;36m1\u001b[0m\u001b[0;34m,\u001b[0m \u001b[0;36m2\u001b[0m\u001b[0;34m,\u001b[0m \u001b[0;36m3\u001b[0m\u001b[0;34m)\u001b[0m\u001b[0;34m\u001b[0m\u001b[0;34m\u001b[0m\u001b[0m\n\u001b[0m",
      "\u001b[0;32m<ipython-input-174-ca8a5b03db77>\u001b[0m in \u001b[0;36mprintar_args\u001b[0;34m(*args)\u001b[0m\n\u001b[1;32m      1\u001b[0m \u001b[0;32mdef\u001b[0m \u001b[0mprintar_args\u001b[0m\u001b[0;34m(\u001b[0m\u001b[0;34m*\u001b[0m\u001b[0margs\u001b[0m\u001b[0;34m)\u001b[0m\u001b[0;34m:\u001b[0m\u001b[0;34m\u001b[0m\u001b[0;34m\u001b[0m\u001b[0m\n\u001b[0;32m----> 2\u001b[0;31m     \u001b[0margs\u001b[0m\u001b[0;34m[\u001b[0m\u001b[0;36m0\u001b[0m\u001b[0;34m]\u001b[0m \u001b[0;34m=\u001b[0m \u001b[0;36m7\u001b[0m\u001b[0;34m\u001b[0m\u001b[0;34m\u001b[0m\u001b[0m\n\u001b[0m\u001b[1;32m      3\u001b[0m     \u001b[0mprint\u001b[0m\u001b[0;34m(\u001b[0m\u001b[0margs\u001b[0m\u001b[0;34m[\u001b[0m\u001b[0;36m0\u001b[0m\u001b[0;34m]\u001b[0m\u001b[0;34m)\u001b[0m\u001b[0;34m\u001b[0m\u001b[0;34m\u001b[0m\u001b[0m\n\u001b[1;32m      4\u001b[0m \u001b[0;34m\u001b[0m\u001b[0m\n\u001b[1;32m      5\u001b[0m \u001b[0mprintar_args\u001b[0m\u001b[0;34m(\u001b[0m\u001b[0;36m1\u001b[0m\u001b[0;34m,\u001b[0m \u001b[0;36m2\u001b[0m\u001b[0;34m,\u001b[0m \u001b[0;36m3\u001b[0m\u001b[0;34m)\u001b[0m\u001b[0;34m\u001b[0m\u001b[0;34m\u001b[0m\u001b[0m\n",
      "\u001b[0;31mTypeError\u001b[0m: 'tuple' object does not support item assignment"
     ]
    }
   ],
   "source": [
    "def printar_args(*args):\n",
    "    args[0] = 7\n",
    "    print(args[0])\n",
    "    \n",
    "printar_args(1, 2, 3)"
   ]
  },
  {
   "cell_type": "markdown",
   "metadata": {},
   "source": [
    "E se eu quiser modificar um elemento da entrada?\n",
    "\n",
    "Podemos transformar a _tuple_ de entrada em uma _list_, com o comando _list_."
   ]
  },
  {
   "cell_type": "code",
   "execution_count": 175,
   "metadata": {},
   "outputs": [
    {
     "name": "stdout",
     "output_type": "stream",
     "text": [
      "(1, 2, 3)\n",
      "[7, 2, 3]\n"
     ]
    }
   ],
   "source": [
    "def printar_args(*args):\n",
    "    args_lista = list(args)\n",
    "    args_lista[0] = 7\n",
    "    print(args)\n",
    "    print(args_lista)\n",
    "    \n",
    "printar_args(1, 2, 3)"
   ]
  },
  {
   "cell_type": "markdown",
   "metadata": {},
   "source": [
    "Vamos criar uma função que retorna o valor máximo entre os valores de entrada.\n",
    "\n",
    "A quantidade de valores na entrada é desconhecida."
   ]
  },
  {
   "cell_type": "code",
   "execution_count": 176,
   "metadata": {},
   "outputs": [
    {
     "name": "stdout",
     "output_type": "stream",
     "text": [
      "O valor máximo entre [1, 2, 3, 200] é 200.\n",
      "O valor máximo entre [-23, 144, 12, 19, 2] é 144.\n"
     ]
    }
   ],
   "source": [
    "def maximo(*args):\n",
    "    m = args[0]\n",
    "    for x in args[1:]:\n",
    "        if x > m:\n",
    "            m = x\n",
    "    print(f'O valor máximo entre {[i for i in args]} é {m}.')\n",
    "    return None\n",
    "\n",
    "maximo(1,2,3,200)\n",
    "\n",
    "maximo(-23, 144, 12, 19, 2)"
   ]
  },
  {
   "cell_type": "markdown",
   "metadata": {},
   "source": [
    "A função acima está funcionando bem.\n",
    "\n",
    "Mas e se nenhum número é dado como argumento de entrada?\n",
    "\n",
    "Teremos um erro."
   ]
  },
  {
   "cell_type": "code",
   "execution_count": 177,
   "metadata": {},
   "outputs": [
    {
     "ename": "IndexError",
     "evalue": "tuple index out of range",
     "output_type": "error",
     "traceback": [
      "\u001b[0;31m---------------------------------------------------------------------------\u001b[0m",
      "\u001b[0;31mIndexError\u001b[0m                                Traceback (most recent call last)",
      "\u001b[0;32m<ipython-input-177-df8eeeae70dc>\u001b[0m in \u001b[0;36m<module>\u001b[0;34m\u001b[0m\n\u001b[1;32m      7\u001b[0m     \u001b[0;32mreturn\u001b[0m \u001b[0;32mNone\u001b[0m\u001b[0;34m\u001b[0m\u001b[0;34m\u001b[0m\u001b[0m\n\u001b[1;32m      8\u001b[0m \u001b[0;34m\u001b[0m\u001b[0m\n\u001b[0;32m----> 9\u001b[0;31m \u001b[0mmaximo\u001b[0m\u001b[0;34m(\u001b[0m\u001b[0;34m)\u001b[0m\u001b[0;34m\u001b[0m\u001b[0;34m\u001b[0m\u001b[0m\n\u001b[0m",
      "\u001b[0;32m<ipython-input-177-df8eeeae70dc>\u001b[0m in \u001b[0;36mmaximo\u001b[0;34m(*args)\u001b[0m\n\u001b[1;32m      1\u001b[0m \u001b[0;32mdef\u001b[0m \u001b[0mmaximo\u001b[0m\u001b[0;34m(\u001b[0m\u001b[0;34m*\u001b[0m\u001b[0margs\u001b[0m\u001b[0;34m)\u001b[0m\u001b[0;34m:\u001b[0m\u001b[0;34m\u001b[0m\u001b[0;34m\u001b[0m\u001b[0m\n\u001b[0;32m----> 2\u001b[0;31m     \u001b[0mm\u001b[0m \u001b[0;34m=\u001b[0m \u001b[0margs\u001b[0m\u001b[0;34m[\u001b[0m\u001b[0;36m0\u001b[0m\u001b[0;34m]\u001b[0m\u001b[0;34m\u001b[0m\u001b[0;34m\u001b[0m\u001b[0m\n\u001b[0m\u001b[1;32m      3\u001b[0m     \u001b[0;32mfor\u001b[0m \u001b[0mx\u001b[0m \u001b[0;32min\u001b[0m \u001b[0margs\u001b[0m\u001b[0;34m[\u001b[0m\u001b[0;36m1\u001b[0m\u001b[0;34m:\u001b[0m\u001b[0;34m]\u001b[0m\u001b[0;34m:\u001b[0m\u001b[0;34m\u001b[0m\u001b[0;34m\u001b[0m\u001b[0m\n\u001b[1;32m      4\u001b[0m         \u001b[0;32mif\u001b[0m \u001b[0mx\u001b[0m \u001b[0;34m>\u001b[0m \u001b[0mm\u001b[0m\u001b[0;34m:\u001b[0m\u001b[0;34m\u001b[0m\u001b[0;34m\u001b[0m\u001b[0m\n\u001b[1;32m      5\u001b[0m             \u001b[0mm\u001b[0m \u001b[0;34m=\u001b[0m \u001b[0mx\u001b[0m\u001b[0;34m\u001b[0m\u001b[0;34m\u001b[0m\u001b[0m\n",
      "\u001b[0;31mIndexError\u001b[0m: tuple index out of range"
     ]
    }
   ],
   "source": [
    "def maximo(*args):\n",
    "    m = args[0]\n",
    "    for x in args[1:]:\n",
    "        if x > m:\n",
    "            m = x\n",
    "    print(f'O valor máximo entre {[i for i in args]} é {m}.')\n",
    "    return None\n",
    "\n",
    "maximo()"
   ]
  },
  {
   "cell_type": "markdown",
   "metadata": {},
   "source": [
    "Vamos melhorar nossa função para evitar esse erro."
   ]
  },
  {
   "cell_type": "code",
   "execution_count": 179,
   "metadata": {},
   "outputs": [
    {
     "name": "stdout",
     "output_type": "stream",
     "text": [
      "Nenhum número foi dado.\n"
     ]
    }
   ],
   "source": [
    "def maximo(*args):\n",
    "    if len(args) == 0:\n",
    "        print('Nenhum número foi dado.')\n",
    "        return None\n",
    "    else:\n",
    "        m = args[0]\n",
    "        for x in args[1:]:\n",
    "            if x > m:\n",
    "                m = x\n",
    "        print(f'O valor máximo entre {[i for i in args]} é {m}.')\n",
    "        return None\n",
    "\n",
    "maximo()"
   ]
  },
  {
   "cell_type": "markdown",
   "metadata": {},
   "source": [
    "Abaixo temos outra maneira de fazer isso, um pouco mais elegante, usando _try_ e _except_."
   ]
  },
  {
   "cell_type": "code",
   "execution_count": 182,
   "metadata": {},
   "outputs": [
    {
     "name": "stdout",
     "output_type": "stream",
     "text": [
      "Nenhum número foi dado.\n"
     ]
    }
   ],
   "source": [
    "def maximo(*args):\n",
    "    \n",
    "    try:\n",
    "        m = args[0]\n",
    "        for x in args[1:]:\n",
    "            if x > m:\n",
    "                m = x\n",
    "        print(f'O valor máximo entre {[i for i in args]} é {m}.')\n",
    "        return None\n",
    "    \n",
    "    except:\n",
    "        print('Nenhum número foi dado.')\n",
    "        return None\n",
    "\n",
    "maximo()"
   ]
  },
  {
   "cell_type": "markdown",
   "metadata": {},
   "source": [
    "E os **kwargs**? O que são?\n",
    "\n",
    "Os _kwargs_ são _KeyWord_ _Arguments_, ou seja, argumentos que são identificados por seus nomes, suas chaves.\n",
    "\n",
    "No caso de _kwargs_, o que importa para identificar um argumento é o seu nome, e não sua posição.\n",
    "\n",
    "Quando usamos _kwargs_, a entrada se transforma em um dicionário.\n",
    "\n",
    "Veja abaixo."
   ]
  },
  {
   "cell_type": "code",
   "execution_count": 183,
   "metadata": {},
   "outputs": [
    {
     "name": "stdout",
     "output_type": "stream",
     "text": [
      "{'cidade': 'Brasilia', 'populacao': 3000000, 'area': 5802}\n",
      "<class 'dict'>\n"
     ]
    }
   ],
   "source": [
    "def densidade_populacional(**kwargs):\n",
    "    print(kwargs)\n",
    "    print(type(kwargs))\n",
    "\n",
    "densidade_populacional(cidade = 'Brasilia', populacao = 3000000, area = 5802)"
   ]
  },
  {
   "cell_type": "markdown",
   "metadata": {},
   "source": [
    "Quando usamos _kwargs_ nós passamos os argumentos com o seu significado. \n",
    "\n",
    "A ordem não interessa, já que temos um dicionário.\n",
    "\n",
    "Agora vamos calcular a densidade populacional."
   ]
  },
  {
   "cell_type": "code",
   "execution_count": 185,
   "metadata": {},
   "outputs": [
    {
     "name": "stdout",
     "output_type": "stream",
     "text": [
      "A densidade populacional de Brasília é 517 hab/km2.\n",
      "A densidade populacional de Goiânia é 1497 hab/km2.\n"
     ]
    }
   ],
   "source": [
    "def densidade_populacional(**kwargs):\n",
    "    densidade = kwargs['populacao']/kwargs['area']\n",
    "    print(f\"A densidade populacional de {kwargs['cidade']} é {int(densidade)} hab/km2.\")\n",
    "    return densidade\n",
    "\n",
    "\n",
    "brasilia_densidade = densidade_populacional(cidade = 'Brasília', \n",
    "                                            populacao = 3000000, \n",
    "                                            area = 5802)\n",
    "\n",
    "goiania_densidade = densidade_populacional(area = 728,\n",
    "                                           cidade = 'Goiânia', \n",
    "                                           populacao = 1090000) "
   ]
  },
  {
   "cell_type": "markdown",
   "metadata": {},
   "source": [
    "Note que os argumentos no segundo _call_ estão em um ordem diferente.\n",
    "\n",
    "Mas isso não importa, porque os valores são identificados pelo nome da chave, e não pela posição na entrada.\n",
    "\n",
    "Vamos colocar um argumento _default_ nessa função."
   ]
  },
  {
   "cell_type": "code",
   "execution_count": 186,
   "metadata": {
    "scrolled": true
   },
   "outputs": [
    {
     "name": "stdout",
     "output_type": "stream",
     "text": [
      "A densidade populacional de Brasília (Brasil) é 517 hab/km2.\n",
      "A densidade populacional de Goiânia (Brasil) é 1497 hab/km2.\n",
      "A densidade populacional de Paris (França) é 19047 hab/km2.\n"
     ]
    }
   ],
   "source": [
    "def densidade_populacional(pais = 'Brasil', **kwargs):\n",
    "    densidade = kwargs['populacao']/kwargs['area']\n",
    "    print(f\"A densidade populacional de {kwargs['cidade']} ({pais}) é {int(densidade)} hab/km2.\")\n",
    "    return densidade\n",
    "\n",
    "brasilia_densidade = densidade_populacional(cidade = 'Brasília', \n",
    "                                            populacao = 3000000, \n",
    "                                            area = 5802)\n",
    "\n",
    "goiania_densidade = densidade_populacional(area = 728,\n",
    "                                           cidade = 'Goiânia', \n",
    "                                           populacao = 1090000)\n",
    "\n",
    "paris_densidade = densidade_populacional(pais = 'França',\n",
    "                                         cidade = 'Paris',\n",
    "                                         area = 105,\n",
    "                                         populacao = 2000000)"
   ]
  },
  {
   "cell_type": "markdown",
   "metadata": {},
   "source": [
    "Agora um exemplo com um argumento normal (posicional) e _kwargs_.\n",
    "\n",
    "Dado o valor inicial de um produto que estamos comprando pela internet, queremos o valor final depois de aplicarmos o desconto e a taxa de entrega."
   ]
  },
  {
   "cell_type": "code",
   "execution_count": 188,
   "metadata": {
    "scrolled": true
   },
   "outputs": [
    {
     "name": "stdout",
     "output_type": "stream",
     "text": [
      "O preço final é R$ 160.00.\n"
     ]
    }
   ],
   "source": [
    "def calcular_preco(valor, **kwargs):\n",
    "    desconto = kwargs.get('desconto')\n",
    "    if desconto:\n",
    "        valor = valor*(1 - desconto/100)\n",
    "    entrega = kwargs.get('entrega')\n",
    "    if entrega:\n",
    "        valor = valor + entrega\n",
    "    return valor\n",
    "\n",
    "preco_final = calcular_preco(200, entrega = 20, desconto = 30)\n",
    "\n",
    "#preco_final = calcular_preco(entrega = 20, desconto = 30, 200)    # Por que isso dá erro?\n",
    "\n",
    "print(f'O preço final é R$ {preco_final:.2f}.')\n",
    "\n",
    "#print(f'O preço final é R$ {valor:.2f}.')    # Isso dá erro. Por quê?"
   ]
  },
  {
   "cell_type": "markdown",
   "metadata": {},
   "source": [
    "Pronto. Acho que é esse o básico sobre funções. \n",
    "\n",
    "Pra resumir, abaixo temos uma função com argumentos posicionais, _defaults_, args e kwargs."
   ]
  },
  {
   "cell_type": "code",
   "execution_count": 190,
   "metadata": {
    "scrolled": true
   },
   "outputs": [
    {
     "name": "stdout",
     "output_type": "stream",
     "text": [
      "1 2 3\n",
      "(4, 5, 6, 7)\n",
      "{'oito': 8, 'nove': 9, 'dez': 10}\n"
     ]
    }
   ],
   "source": [
    "def exemplo(x, y, z = 10, *args, **kwargs):\n",
    "    print(x, y, z)\n",
    "    print(args)\n",
    "    print(kwargs)\n",
    "    \n",
    "exemplo(1, 2, 3, 4, 5, 6, 7, oito = 8, nove = 9, dez = 10)"
   ]
  },
  {
   "cell_type": "markdown",
   "metadata": {},
   "source": [
    "## Comentários Gerais"
   ]
  },
  {
   "cell_type": "markdown",
   "metadata": {},
   "source": [
    "Aqui vamos ver algumas curiosidades sobre o Python, para que possamos entender melhor como ele funciona.\n",
    "\n",
    "O Python tem muitas funções que são dele mesmo, de origem. \n",
    "\n",
    "São as chamadas funções embutidas, ou funções _builtins_.\n",
    "\n",
    "Para conhecer essas funções, usamos o comando abaixo."
   ]
  },
  {
   "cell_type": "code",
   "execution_count": 393,
   "metadata": {},
   "outputs": [
    {
     "data": {
      "text/plain": [
       "['ArithmeticError',\n",
       " 'AssertionError',\n",
       " 'AttributeError',\n",
       " 'BaseException',\n",
       " 'BlockingIOError',\n",
       " 'BrokenPipeError',\n",
       " 'BufferError',\n",
       " 'BytesWarning',\n",
       " 'ChildProcessError',\n",
       " 'ConnectionAbortedError',\n",
       " 'ConnectionError',\n",
       " 'ConnectionRefusedError',\n",
       " 'ConnectionResetError',\n",
       " 'DeprecationWarning',\n",
       " 'EOFError',\n",
       " 'Ellipsis',\n",
       " 'EnvironmentError',\n",
       " 'Exception',\n",
       " 'False',\n",
       " 'FileExistsError',\n",
       " 'FileNotFoundError',\n",
       " 'FloatingPointError',\n",
       " 'FutureWarning',\n",
       " 'GeneratorExit',\n",
       " 'IOError',\n",
       " 'ImportError',\n",
       " 'ImportWarning',\n",
       " 'IndentationError',\n",
       " 'IndexError',\n",
       " 'InterruptedError',\n",
       " 'IsADirectoryError',\n",
       " 'KeyError',\n",
       " 'KeyboardInterrupt',\n",
       " 'LookupError',\n",
       " 'MemoryError',\n",
       " 'ModuleNotFoundError',\n",
       " 'NameError',\n",
       " 'None',\n",
       " 'NotADirectoryError',\n",
       " 'NotImplemented',\n",
       " 'NotImplementedError',\n",
       " 'OSError',\n",
       " 'OverflowError',\n",
       " 'PendingDeprecationWarning',\n",
       " 'PermissionError',\n",
       " 'ProcessLookupError',\n",
       " 'RecursionError',\n",
       " 'ReferenceError',\n",
       " 'ResourceWarning',\n",
       " 'RuntimeError',\n",
       " 'RuntimeWarning',\n",
       " 'StopAsyncIteration',\n",
       " 'StopIteration',\n",
       " 'SyntaxError',\n",
       " 'SyntaxWarning',\n",
       " 'SystemError',\n",
       " 'SystemExit',\n",
       " 'TabError',\n",
       " 'TimeoutError',\n",
       " 'True',\n",
       " 'TypeError',\n",
       " 'UnboundLocalError',\n",
       " 'UnicodeDecodeError',\n",
       " 'UnicodeEncodeError',\n",
       " 'UnicodeError',\n",
       " 'UnicodeTranslateError',\n",
       " 'UnicodeWarning',\n",
       " 'UserWarning',\n",
       " 'ValueError',\n",
       " 'Warning',\n",
       " 'ZeroDivisionError',\n",
       " '__IPYTHON__',\n",
       " '__build_class__',\n",
       " '__debug__',\n",
       " '__doc__',\n",
       " '__import__',\n",
       " '__loader__',\n",
       " '__name__',\n",
       " '__package__',\n",
       " '__spec__',\n",
       " 'abs',\n",
       " 'all',\n",
       " 'any',\n",
       " 'ascii',\n",
       " 'bin',\n",
       " 'bool',\n",
       " 'breakpoint',\n",
       " 'bytearray',\n",
       " 'bytes',\n",
       " 'callable',\n",
       " 'chr',\n",
       " 'classmethod',\n",
       " 'compile',\n",
       " 'complex',\n",
       " 'copyright',\n",
       " 'credits',\n",
       " 'delattr',\n",
       " 'dict',\n",
       " 'dir',\n",
       " 'display',\n",
       " 'divmod',\n",
       " 'enumerate',\n",
       " 'eval',\n",
       " 'exec',\n",
       " 'filter',\n",
       " 'float',\n",
       " 'format',\n",
       " 'frozenset',\n",
       " 'get_ipython',\n",
       " 'getattr',\n",
       " 'globals',\n",
       " 'hasattr',\n",
       " 'hash',\n",
       " 'help',\n",
       " 'hex',\n",
       " 'id',\n",
       " 'input',\n",
       " 'int',\n",
       " 'isinstance',\n",
       " 'issubclass',\n",
       " 'iter',\n",
       " 'len',\n",
       " 'license',\n",
       " 'list',\n",
       " 'locals',\n",
       " 'map',\n",
       " 'max',\n",
       " 'memoryview',\n",
       " 'min',\n",
       " 'next',\n",
       " 'object',\n",
       " 'oct',\n",
       " 'open',\n",
       " 'ord',\n",
       " 'pow',\n",
       " 'print',\n",
       " 'property',\n",
       " 'range',\n",
       " 'repr',\n",
       " 'reversed',\n",
       " 'round',\n",
       " 'set',\n",
       " 'setattr',\n",
       " 'slice',\n",
       " 'sorted',\n",
       " 'staticmethod',\n",
       " 'str',\n",
       " 'sum',\n",
       " 'super',\n",
       " 'tuple',\n",
       " 'type',\n",
       " 'vars',\n",
       " 'zip']"
      ]
     },
     "execution_count": 393,
     "metadata": {},
     "output_type": "execute_result"
    }
   ],
   "source": [
    "dir(__builtins__)"
   ]
  },
  {
   "cell_type": "markdown",
   "metadata": {},
   "source": [
    "Essas funções (ou métodos) que aparecem primeiro, com inicial maiúscula, são avisos de erro.\n",
    "\n",
    "Para saber mais sobre uma função, usamos o help.\n",
    "\n",
    "Vamos ver o que esse método _ZeroDivisionError_."
   ]
  },
  {
   "cell_type": "code",
   "execution_count": 405,
   "metadata": {
    "scrolled": true
   },
   "outputs": [
    {
     "name": "stdout",
     "output_type": "stream",
     "text": [
      "Help on class ZeroDivisionError in module builtins:\n",
      "\n",
      "class ZeroDivisionError(ArithmeticError)\n",
      " |  Second argument to a division or modulo operation was zero.\n",
      " |  \n",
      " |  Method resolution order:\n",
      " |      ZeroDivisionError\n",
      " |      ArithmeticError\n",
      " |      Exception\n",
      " |      BaseException\n",
      " |      object\n",
      " |  \n",
      " |  Methods defined here:\n",
      " |  \n",
      " |  __init__(self, /, *args, **kwargs)\n",
      " |      Initialize self.  See help(type(self)) for accurate signature.\n",
      " |  \n",
      " |  ----------------------------------------------------------------------\n",
      " |  Static methods defined here:\n",
      " |  \n",
      " |  __new__(*args, **kwargs) from builtins.type\n",
      " |      Create and return a new object.  See help(type) for accurate signature.\n",
      " |  \n",
      " |  ----------------------------------------------------------------------\n",
      " |  Methods inherited from BaseException:\n",
      " |  \n",
      " |  __delattr__(self, name, /)\n",
      " |      Implement delattr(self, name).\n",
      " |  \n",
      " |  __getattribute__(self, name, /)\n",
      " |      Return getattr(self, name).\n",
      " |  \n",
      " |  __reduce__(...)\n",
      " |      Helper for pickle.\n",
      " |  \n",
      " |  __repr__(self, /)\n",
      " |      Return repr(self).\n",
      " |  \n",
      " |  __setattr__(self, name, value, /)\n",
      " |      Implement setattr(self, name, value).\n",
      " |  \n",
      " |  __setstate__(...)\n",
      " |  \n",
      " |  __str__(self, /)\n",
      " |      Return str(self).\n",
      " |  \n",
      " |  with_traceback(...)\n",
      " |      Exception.with_traceback(tb) --\n",
      " |      set self.__traceback__ to tb and return self.\n",
      " |  \n",
      " |  ----------------------------------------------------------------------\n",
      " |  Data descriptors inherited from BaseException:\n",
      " |  \n",
      " |  __cause__\n",
      " |      exception cause\n",
      " |  \n",
      " |  __context__\n",
      " |      exception context\n",
      " |  \n",
      " |  __dict__\n",
      " |  \n",
      " |  __suppress_context__\n",
      " |  \n",
      " |  __traceback__\n",
      " |  \n",
      " |  args\n",
      "\n"
     ]
    }
   ],
   "source": [
    "help(ZeroDivisionError)"
   ]
  },
  {
   "cell_type": "markdown",
   "metadata": {},
   "source": [
    "Depois, temos as funções entre dois _underscores_ (ou underlines).\n",
    "\n",
    "Essas funções são chamadas de mágicas ou _dunders_ (_double underscores_). Elas são internas ao Python, e geralmente não usamos essas funções.\n",
    "\n",
    "Vamos ver a função _name_."
   ]
  },
  {
   "cell_type": "code",
   "execution_count": 404,
   "metadata": {
    "scrolled": true
   },
   "outputs": [
    {
     "data": {
      "text/plain": [
       "'__main__'"
      ]
     },
     "execution_count": 404,
     "metadata": {},
     "output_type": "execute_result"
    }
   ],
   "source": [
    "__name__"
   ]
  },
  {
   "cell_type": "markdown",
   "metadata": {},
   "source": [
    "Essa função devolve o nome do módulo em que estamos e, nesse caso, mostra que estamos no arquivo principal.\n",
    "\n",
    "Podemos dividir nosso código em vários arquivos diferentes, ou módulos. \n",
    "\n",
    "Essa função _name_ nos ajuda a identificar o arquivo principal, que está sendo executado.\n",
    "\n",
    "Depois dos _dunders_ vêm as funções que mais usamos na prática.\n",
    "\n",
    "Para saber mais sobre uma função, é só dar um _help_."
   ]
  },
  {
   "cell_type": "code",
   "execution_count": 406,
   "metadata": {
    "scrolled": true
   },
   "outputs": [
    {
     "name": "stdout",
     "output_type": "stream",
     "text": [
      "Help on built-in function abs in module builtins:\n",
      "\n",
      "abs(x, /)\n",
      "    Return the absolute value of the argument.\n",
      "\n"
     ]
    }
   ],
   "source": [
    "help(abs)"
   ]
  },
  {
   "cell_type": "markdown",
   "metadata": {},
   "source": [
    "Essa função retorna o valor absoluto do argumento."
   ]
  },
  {
   "cell_type": "code",
   "execution_count": 408,
   "metadata": {},
   "outputs": [
    {
     "data": {
      "text/plain": [
       "5"
      ]
     },
     "execution_count": 408,
     "metadata": {},
     "output_type": "execute_result"
    }
   ],
   "source": [
    "abs(-5)"
   ]
  },
  {
   "cell_type": "code",
   "execution_count": 409,
   "metadata": {},
   "outputs": [
    {
     "data": {
      "text/plain": [
       "10.3"
      ]
     },
     "execution_count": 409,
     "metadata": {},
     "output_type": "execute_result"
    }
   ],
   "source": [
    "abs(10.3)"
   ]
  },
  {
   "cell_type": "code",
   "execution_count": 410,
   "metadata": {},
   "outputs": [
    {
     "data": {
      "text/plain": [
       "19.2"
      ]
     },
     "execution_count": 410,
     "metadata": {},
     "output_type": "execute_result"
    }
   ],
   "source": [
    "abs(-19.2)"
   ]
  },
  {
   "cell_type": "markdown",
   "metadata": {},
   "source": [
    "Note que já usamos algumas dessas funções, como a _print_ e a _input_.\n",
    "\n",
    "Vamos ver mais uma função, a _min_."
   ]
  },
  {
   "cell_type": "code",
   "execution_count": 415,
   "metadata": {},
   "outputs": [
    {
     "name": "stdout",
     "output_type": "stream",
     "text": [
      "Help on built-in function min in module builtins:\n",
      "\n",
      "min(...)\n",
      "    min(iterable, *[, default=obj, key=func]) -> value\n",
      "    min(arg1, arg2, *args, *[, key=func]) -> value\n",
      "    \n",
      "    With a single iterable argument, return its smallest item. The\n",
      "    default keyword-only argument specifies an object to return if\n",
      "    the provided iterable is empty.\n",
      "    With two or more arguments, return the smallest argument.\n",
      "\n"
     ]
    }
   ],
   "source": [
    "help(min)"
   ]
  },
  {
   "cell_type": "markdown",
   "metadata": {},
   "source": [
    "Ela retorna o menor dentre os argumentos ou o menor valor de uma lista, por exemplo."
   ]
  },
  {
   "cell_type": "code",
   "execution_count": 412,
   "metadata": {},
   "outputs": [
    {
     "data": {
      "text/plain": [
       "-7"
      ]
     },
     "execution_count": 412,
     "metadata": {},
     "output_type": "execute_result"
    }
   ],
   "source": [
    "min(1, 3, 5, -2, -7, 19)"
   ]
  },
  {
   "cell_type": "code",
   "execution_count": 414,
   "metadata": {
    "scrolled": true
   },
   "outputs": [
    {
     "data": {
      "text/plain": [
       "-21"
      ]
     },
     "execution_count": 414,
     "metadata": {},
     "output_type": "execute_result"
    }
   ],
   "source": [
    "a = [1, 3, -1, 0, 0, -2, -21]\n",
    "\n",
    "min(a)"
   ]
  },
  {
   "cell_type": "markdown",
   "metadata": {},
   "source": [
    "Uma outra função interessante é a _id_. "
   ]
  },
  {
   "cell_type": "code",
   "execution_count": 191,
   "metadata": {
    "scrolled": true
   },
   "outputs": [
    {
     "name": "stdout",
     "output_type": "stream",
     "text": [
      "Help on built-in function id in module builtins:\n",
      "\n",
      "id(obj, /)\n",
      "    Return the identity of an object.\n",
      "    \n",
      "    This is guaranteed to be unique among simultaneously existing objects.\n",
      "    (CPython uses the object's memory address.)\n",
      "\n"
     ]
    }
   ],
   "source": [
    "help(id)"
   ]
  },
  {
   "cell_type": "markdown",
   "metadata": {},
   "source": [
    "Ela nos dá a identidade do objeto (ou variável) em questão. \n",
    "\n",
    "É a posição na memória onde o objeto está armazenado."
   ]
  },
  {
   "cell_type": "code",
   "execution_count": 454,
   "metadata": {},
   "outputs": [
    {
     "name": "stdout",
     "output_type": "stream",
     "text": [
      "94778814127424\n"
     ]
    }
   ],
   "source": [
    "a = 1\n",
    "\n",
    "print(id(a))"
   ]
  },
  {
   "cell_type": "markdown",
   "metadata": {},
   "source": [
    "A questão de alocação de memória no Python, ou seja, como o Python armazena os dados na memória do computador, é bem complexa e vai além dos objetivos desse curso.\n",
    "\n",
    "Mas vamos usar o _id_ pra tentar entender o que acontece com as variáveis dentro e fora de uma função.\n",
    "\n",
    "Veja o exemplo abaixo."
   ]
  },
  {
   "cell_type": "code",
   "execution_count": 11,
   "metadata": {},
   "outputs": [
    {
     "name": "stdout",
     "output_type": "stream",
     "text": [
      "10 5\n",
      "10\n"
     ]
    }
   ],
   "source": [
    "a = 10\n",
    "\n",
    "def f():    # Nunca dê um nome tão curto e sem significado para funções, nem variáveis!\n",
    "    b = 5\n",
    "    print(a, b)\n",
    "\n",
    "f()\n",
    "print(a)"
   ]
  },
  {
   "cell_type": "markdown",
   "metadata": {},
   "source": [
    "A variável definida no código principal é global.\n",
    "\n",
    "A variável definida na função é local. \n",
    "\n",
    "Podemos usar uma variável global dentro da função (não é boa prática, mas dá pra usar).\n",
    "\n",
    "Mas não podemos usar uma variável local fora de sua função de origem. A variável local é finalizada e apagada quando a função termina.\n",
    "\n",
    "Veja o erro abaixo."
   ]
  },
  {
   "cell_type": "code",
   "execution_count": 196,
   "metadata": {
    "scrolled": true
   },
   "outputs": [
    {
     "name": "stdout",
     "output_type": "stream",
     "text": [
      "10 5\n"
     ]
    },
    {
     "ename": "NameError",
     "evalue": "name 'd' is not defined",
     "output_type": "error",
     "traceback": [
      "\u001b[0;31m---------------------------------------------------------------------------\u001b[0m",
      "\u001b[0;31mNameError\u001b[0m                                 Traceback (most recent call last)",
      "\u001b[0;32m<ipython-input-196-552f77622182>\u001b[0m in \u001b[0;36m<module>\u001b[0;34m\u001b[0m\n\u001b[1;32m      6\u001b[0m \u001b[0;34m\u001b[0m\u001b[0m\n\u001b[1;32m      7\u001b[0m \u001b[0mf\u001b[0m\u001b[0;34m(\u001b[0m\u001b[0;34m)\u001b[0m\u001b[0;34m\u001b[0m\u001b[0;34m\u001b[0m\u001b[0m\n\u001b[0;32m----> 8\u001b[0;31m \u001b[0mprint\u001b[0m\u001b[0;34m(\u001b[0m\u001b[0ma\u001b[0m\u001b[0;34m,\u001b[0m \u001b[0md\u001b[0m\u001b[0;34m)\u001b[0m    \u001b[0;31m# Aqui está o erro.\u001b[0m\u001b[0;34m\u001b[0m\u001b[0;34m\u001b[0m\u001b[0m\n\u001b[0m",
      "\u001b[0;31mNameError\u001b[0m: name 'd' is not defined"
     ]
    }
   ],
   "source": [
    "a = 10\n",
    "\n",
    "def f():\n",
    "    d = 5\n",
    "    print(a, d)\n",
    "\n",
    "f()\n",
    "print(a, d)    # Aqui está o erro."
   ]
  },
  {
   "cell_type": "markdown",
   "metadata": {},
   "source": [
    "Quando eu modifico o valor de uma variável global dentro de uma função, essa modificação não volta para o código principal."
   ]
  },
  {
   "cell_type": "code",
   "execution_count": 197,
   "metadata": {},
   "outputs": [
    {
     "name": "stdout",
     "output_type": "stream",
     "text": [
      "2 3\n",
      "10\n"
     ]
    }
   ],
   "source": [
    "a = 10\n",
    "\n",
    "def f():\n",
    "    a = 2\n",
    "    b = 3\n",
    "    print(a, b)\n",
    "\n",
    "f()\n",
    "print(a)"
   ]
  },
  {
   "cell_type": "markdown",
   "metadata": {},
   "source": [
    "Vamos acompanhar a identidade das variáveis para ver o que aconteceu. "
   ]
  },
  {
   "cell_type": "code",
   "execution_count": 198,
   "metadata": {
    "scrolled": true
   },
   "outputs": [
    {
     "name": "stdout",
     "output_type": "stream",
     "text": [
      "Antes da função:  94785693687392\n",
      "Dentro da função:  94785693687136\n",
      "Depois da função:  94785693687392\n"
     ]
    }
   ],
   "source": [
    "a = 10\n",
    "\n",
    "print('Antes da função: ', id(a))\n",
    "\n",
    "def f():\n",
    "    a = 2\n",
    "    b = 3\n",
    "    print('Dentro da função: ', id(a))\n",
    "\n",
    "f()\n",
    "\n",
    "print('Depois da função: ', id(a))"
   ]
  },
  {
   "cell_type": "markdown",
   "metadata": {},
   "source": [
    "O Python não permite que você modifique, assim diretamente, o valor de uma variável global de dentro de uma função.\n",
    "\n",
    "Isso é para sua própria segurança. Muitas vezes podemos ter variáveis dentro de funções com o mesmo nome de variáveis de fora.\n",
    "\n",
    "E isso pode causar muita dor de cabeça. \n",
    "\n",
    "Assim, o Python cria um novo objeto para a variável dentro da função, e protege a sua variável global. \n",
    "\n",
    "((Obrigado, Python.))\n",
    "\n",
    "Mas e se eu realmente quiser mudar o valor da minha variável global dentro da função?\n",
    "\n",
    "Para fazer isso devemos declarar que a variável é global, dentro da função."
   ]
  },
  {
   "cell_type": "code",
   "execution_count": 204,
   "metadata": {
    "scrolled": true
   },
   "outputs": [
    {
     "name": "stdout",
     "output_type": "stream",
     "text": [
      "Antes da função:  94785693687232\n",
      "Dentro da função:  94785693687232\n",
      "Depois da função:  94785693687232\n",
      "5\n"
     ]
    }
   ],
   "source": [
    "a = 5\n",
    "\n",
    "print('Antes da função: ', id(a))\n",
    "\n",
    "def f():\n",
    "    global a\n",
    "    print('Dentro da função: ', id(a))\n",
    "\n",
    "f()\n",
    "\n",
    "print('Depois da função: ', id(a))\n",
    "\n",
    "print(a)"
   ]
  },
  {
   "cell_type": "markdown",
   "metadata": {},
   "source": [
    "Pra fechar a aula de hoje, o Python tem várias funções associadas com os tipos de dados também. \n",
    "\n",
    "É só rodar o código abaixo para ver quais funções são essas. \n",
    "\n",
    "Explore algumas dessas funções: veja para que servem e como utilizá-las.\n",
    "\n",
    "É impossível (e meio inútil também) decorar todas as funções. \n",
    "\n",
    "Vamos usando de acordo com a necessidade em nossos projetos. "
   ]
  },
  {
   "cell_type": "code",
   "execution_count": 205,
   "metadata": {
    "scrolled": false
   },
   "outputs": [
    {
     "data": {
      "text/plain": [
       "['__add__',\n",
       " '__class__',\n",
       " '__contains__',\n",
       " '__delattr__',\n",
       " '__dir__',\n",
       " '__doc__',\n",
       " '__eq__',\n",
       " '__format__',\n",
       " '__ge__',\n",
       " '__getattribute__',\n",
       " '__getitem__',\n",
       " '__getnewargs__',\n",
       " '__gt__',\n",
       " '__hash__',\n",
       " '__init__',\n",
       " '__init_subclass__',\n",
       " '__iter__',\n",
       " '__le__',\n",
       " '__len__',\n",
       " '__lt__',\n",
       " '__mod__',\n",
       " '__mul__',\n",
       " '__ne__',\n",
       " '__new__',\n",
       " '__reduce__',\n",
       " '__reduce_ex__',\n",
       " '__repr__',\n",
       " '__rmod__',\n",
       " '__rmul__',\n",
       " '__setattr__',\n",
       " '__sizeof__',\n",
       " '__str__',\n",
       " '__subclasshook__',\n",
       " 'capitalize',\n",
       " 'casefold',\n",
       " 'center',\n",
       " 'count',\n",
       " 'encode',\n",
       " 'endswith',\n",
       " 'expandtabs',\n",
       " 'find',\n",
       " 'format',\n",
       " 'format_map',\n",
       " 'index',\n",
       " 'isalnum',\n",
       " 'isalpha',\n",
       " 'isascii',\n",
       " 'isdecimal',\n",
       " 'isdigit',\n",
       " 'isidentifier',\n",
       " 'islower',\n",
       " 'isnumeric',\n",
       " 'isprintable',\n",
       " 'isspace',\n",
       " 'istitle',\n",
       " 'isupper',\n",
       " 'join',\n",
       " 'ljust',\n",
       " 'lower',\n",
       " 'lstrip',\n",
       " 'maketrans',\n",
       " 'partition',\n",
       " 'replace',\n",
       " 'rfind',\n",
       " 'rindex',\n",
       " 'rjust',\n",
       " 'rpartition',\n",
       " 'rsplit',\n",
       " 'rstrip',\n",
       " 'split',\n",
       " 'splitlines',\n",
       " 'startswith',\n",
       " 'strip',\n",
       " 'swapcase',\n",
       " 'title',\n",
       " 'translate',\n",
       " 'upper',\n",
       " 'zfill']"
      ]
     },
     "execution_count": 205,
     "metadata": {},
     "output_type": "execute_result"
    }
   ],
   "source": [
    "#dir(int)\n",
    "#dir(float)\n",
    "#dir(list)\n",
    "#dir(dict)\n",
    "dir(str)"
   ]
  },
  {
   "cell_type": "code",
   "execution_count": 210,
   "metadata": {},
   "outputs": [
    {
     "data": {
      "text/plain": [
       "'python'"
      ]
     },
     "execution_count": 210,
     "metadata": {},
     "output_type": "execute_result"
    }
   ],
   "source": [
    "nome = 'PYTHON'\n",
    "nome.lower()"
   ]
  },
  {
   "cell_type": "code",
   "execution_count": 211,
   "metadata": {},
   "outputs": [
    {
     "data": {
      "text/plain": [
       "['__add__',\n",
       " '__class__',\n",
       " '__contains__',\n",
       " '__delattr__',\n",
       " '__dir__',\n",
       " '__doc__',\n",
       " '__eq__',\n",
       " '__format__',\n",
       " '__ge__',\n",
       " '__getattribute__',\n",
       " '__getitem__',\n",
       " '__getnewargs__',\n",
       " '__gt__',\n",
       " '__hash__',\n",
       " '__init__',\n",
       " '__init_subclass__',\n",
       " '__iter__',\n",
       " '__le__',\n",
       " '__len__',\n",
       " '__lt__',\n",
       " '__mod__',\n",
       " '__mul__',\n",
       " '__ne__',\n",
       " '__new__',\n",
       " '__reduce__',\n",
       " '__reduce_ex__',\n",
       " '__repr__',\n",
       " '__rmod__',\n",
       " '__rmul__',\n",
       " '__setattr__',\n",
       " '__sizeof__',\n",
       " '__str__',\n",
       " '__subclasshook__',\n",
       " 'capitalize',\n",
       " 'casefold',\n",
       " 'center',\n",
       " 'count',\n",
       " 'encode',\n",
       " 'endswith',\n",
       " 'expandtabs',\n",
       " 'find',\n",
       " 'format',\n",
       " 'format_map',\n",
       " 'index',\n",
       " 'isalnum',\n",
       " 'isalpha',\n",
       " 'isascii',\n",
       " 'isdecimal',\n",
       " 'isdigit',\n",
       " 'isidentifier',\n",
       " 'islower',\n",
       " 'isnumeric',\n",
       " 'isprintable',\n",
       " 'isspace',\n",
       " 'istitle',\n",
       " 'isupper',\n",
       " 'join',\n",
       " 'ljust',\n",
       " 'lower',\n",
       " 'lstrip',\n",
       " 'maketrans',\n",
       " 'partition',\n",
       " 'replace',\n",
       " 'rfind',\n",
       " 'rindex',\n",
       " 'rjust',\n",
       " 'rpartition',\n",
       " 'rsplit',\n",
       " 'rstrip',\n",
       " 'split',\n",
       " 'splitlines',\n",
       " 'startswith',\n",
       " 'strip',\n",
       " 'swapcase',\n",
       " 'title',\n",
       " 'translate',\n",
       " 'upper',\n",
       " 'zfill']"
      ]
     },
     "execution_count": 211,
     "metadata": {},
     "output_type": "execute_result"
    }
   ],
   "source": [
    "#dir(5)\n",
    "#dir(5.0)\n",
    "#dir([1,2])\n",
    "dir('palavra')"
   ]
  },
  {
   "cell_type": "markdown",
   "metadata": {},
   "source": [
    "## Tarefa de Casa"
   ]
  },
  {
   "cell_type": "markdown",
   "metadata": {},
   "source": [
    "1. Calcule o MMC entre dois números usando uma função. Modifique essa função para que ela aceite mais números como entrada, usando *args.\n",
    "1. Horóscopo. Devolva o signo de uma pessoa, dada a sua data de nascimento. Aproveite para incluir na saída uma frase motivacional.\n",
    "1. Faça uma função que devolve o reverso do inteiro que foi dado como entrada. Por exemplo, se a entrada é 921, a saída deve ser 129. \n",
    "1. Crie uma função que resolve uma equação do segundo grau do tipo $ax^2 + bx + c = 0$. As entradas são $a, b, c$ e a saída são as duas raízes. Pesquise sobre números complexos em Python.\n",
    "1. (Difícil) Pesquise sobre _try_ e _except_. Faça um código usando esse conceito.\n",
    "1. (Difícil) Crie uma função que devolve a soma de dois números. Use a forma _lambda_. Pesquise sobre isso.\n",
    "1. (Difícil) Abaixo temos um dicionário com a representação das letras usando código Morse. Crie uma função que tenha como entrada uma palavra e saída a traduação dessa palavra em código Morse."
   ]
  },
  {
   "cell_type": "code",
   "execution_count": 181,
   "metadata": {},
   "outputs": [],
   "source": [
    "letras_para_morse = {\n",
    "        'a':'.-', 'b':'-...', 'c':'-.-.', 'd':'-..', 'e':'.', 'f':'..-.', \n",
    "        'g':'--.', 'h':'....', 'i':'..', 'j':'.---', 'k':'-.-', 'l':'.-..', 'm':'--', \n",
    "        'n':'-.', 'o':'---', 'p':'.--.', 'q':'--.-', 'r':'.-.', 's':'...', 't':'-',\n",
    "        'u':'..-', 'v':'...-', 'w':'.--', 'x':'-..-', 'y':'-.--', 'z':'--..',\n",
    "        '0':'-----', '1':'.----', '2':'..---', '3':'...--', '4':'....-',\n",
    "        '5':'.....', '6':'-....', '7':'--...', '8':'---..', '9':'----.', ' ':'/'\n",
    "        }"
   ]
  },
  {
   "cell_type": "markdown",
   "metadata": {},
   "source": [
    "---"
   ]
  },
  {
   "cell_type": "markdown",
   "metadata": {},
   "source": [
    "---"
   ]
  },
  {
   "cell_type": "markdown",
   "metadata": {},
   "source": [
    "---"
   ]
  },
  {
   "cell_type": "markdown",
   "metadata": {},
   "source": [
    "# Curso de Python: Dia 4 (Classes e Objetos)"
   ]
  },
  {
   "cell_type": "markdown",
   "metadata": {},
   "source": [
    "## Revisão"
   ]
  },
  {
   "cell_type": "markdown",
   "metadata": {},
   "source": [
    "Resolvendo o último exercício da aula anterior."
   ]
  },
  {
   "cell_type": "code",
   "execution_count": 212,
   "metadata": {
    "scrolled": true
   },
   "outputs": [
    {
     "name": "stdout",
     "output_type": "stream",
     "text": [
      "Palavra original: SOS mande ajuda\n",
      "Em código Morse: ...  ---  ...  /  --  .-  -.  -..  .  /  .-  .---  ..-  -..  .-\n"
     ]
    }
   ],
   "source": [
    "def traduzir_para_morse(mensagem):\n",
    "\n",
    "    letras_para_morse = {\n",
    "            'a':'.-', 'b':'-...', 'c':'-.-.', 'd':'-..', 'e':'.', 'f':'..-.', \n",
    "            'g':'--.', 'h':'....', 'i':'..', 'j':'.---', 'k':'-.-', 'l':'.-..', 'm':'--', \n",
    "            'n':'-.', 'o':'---', 'p':'.--.', 'q':'--.-', 'r':'.-.', 's':'...', 't':'-',\n",
    "            'u':'..-', 'v':'...-', 'w':'.--', 'x':'-..-', 'y':'-.--', 'z':'--..',\n",
    "            '0':'-----', '1':'.----', '2':'..---', '3':'...--', '4':'....-',\n",
    "            '5':'.....', '6':'-....', '7':'--...', '8':'---..', '9':'----.', ' ':'/'\n",
    "            }\n",
    "\n",
    "    morse = []\n",
    "\n",
    "    for letra in mensagem:\n",
    "        morse.append(letras_para_morse[letra.lower()])\n",
    "\n",
    "    mensagem_morse = \"  \".join(morse)\n",
    "\n",
    "    print(f\"Palavra original: {mensagem}\")\n",
    "    print(f\"Em código Morse: {mensagem_morse}\")\n",
    "\n",
    "\n",
    "traduzir_para_morse(\"SOS mande ajuda\")"
   ]
  },
  {
   "cell_type": "markdown",
   "metadata": {},
   "source": [
    "## Classes e Objetos"
   ]
  },
  {
   "cell_type": "markdown",
   "metadata": {},
   "source": [
    "Com classes nós podemos combinar dados e funções em um único **objeto**. \n",
    "\n",
    "É possível organizar esses dados e funções de maneira clara, com uma hierarquia que faz sentido para o programador e para o programa.\n",
    "\n",
    "Isso pode deixar o código muito mais organizado e facilitar o uso de partes comuns. \n",
    "\n",
    "**Na verdade dá pra fazer tudo sem usar classes e objetos.** Mas eles podem facilitar muito a nossa vida.\n",
    "\n",
    "É importante aprender sobre **Classes e Objetos** também para entender melhor como o Python funciona. \n",
    "\n",
    "**Tudo no python é objeto.** \n",
    "\n",
    "Temos que conhecer como **Classes e Objetos** funcionam para podermos usar as bibliotecas e os frameworks do Python também. \n",
    "\n",
    "**Todos** utilizam classes e objetos. \n",
    "\n",
    "Em resumo, a Programação Orientada a Objeto\n",
    "\n",
    "> facilita a representação do mundo à nossa volta, com classes de objetos que possuem atributos e métodos e relações hierárquicas."
   ]
  },
  {
   "cell_type": "markdown",
   "metadata": {},
   "source": [
    "Vamos com calma nesse início de Classes e Objetos, pois temos muitas informações novas aqui.\n",
    "\n",
    "Antes de entrar no assunto, vamos começar com um exemplo usando apenas dicionário e funções.\n",
    "\n",
    "Apresento-lhes o cachorro Bob."
   ]
  },
  {
   "cell_type": "code",
   "execution_count": 217,
   "metadata": {},
   "outputs": [
    {
     "name": "stdout",
     "output_type": "stream",
     "text": [
      "O cachorro se chama Bob, tem cor preta e tem 10 anos de idade.\n",
      "Bob já está ficando idoso.\n"
     ]
    }
   ],
   "source": [
    "# Criando o dicionário bob, com informações sobre o Bob.\n",
    "bob = {'nome': 'Bob', 'cor': 'preta', 'idade': 10}    \n",
    "\n",
    "# Essa função printa na tela as informações do cachorro.\n",
    "def descrever_cachorro(cachorro):\n",
    "    print(f\"O cachorro se chama {cachorro['nome']},\"\n",
    "          f\" tem cor {cachorro['cor']} e tem {cachorro['idade']} anos de idade.\")\n",
    "    \n",
    "# Essa função printa na tela se o cachorro é jovem ou idoso.\n",
    "def jovem_ou_idoso(cachorro):\n",
    "    if cachorro['idade'] < 8:\n",
    "        print(f\"{cachorro['nome]']} é um cachorro jovem.\")\n",
    "    else:\n",
    "        print(f\"{cachorro['nome']} já está ficando idoso.\")\n",
    "\n",
    "# Chamando a primeira função.\n",
    "descrever_cachorro(bob)\n",
    "\n",
    "# Chamando a segunda função.\n",
    "jovem_ou_idoso(bob)"
   ]
  },
  {
   "cell_type": "markdown",
   "metadata": {},
   "source": [
    "Temos o dicionário _Bob_, com todas as informações sobre o _Bob_, e temos duas funções que trabalham com esse dicionário.\n",
    "\n",
    "Funciona, o código faz tudo que queremos. Mas tem um jeito de deixá-lo mais **organizado**.\n",
    "\n",
    "Vamos juntar tudo, **dados e funções**, numa única **classe**, chamada Cachorro.\n",
    "\n",
    "Também melhora a nossa vida no caso de termos outros cachorros, além do _Bob_."
   ]
  },
  {
   "cell_type": "markdown",
   "metadata": {},
   "source": [
    "Então, bora reescrever esse código usando **Classe e Objeto**.\n",
    "\n",
    "A convenção no Python é de dar nome a classes começando com letra maiúscula. \n",
    "\n",
    "Para definir uma classe usamos a palavra _class_."
   ]
  },
  {
   "cell_type": "code",
   "execution_count": 219,
   "metadata": {},
   "outputs": [],
   "source": [
    "class Cachorro:\n",
    "    \n",
    "    nome = 'Cachorro'\n",
    "    # Outros dados e funções aqui!!\n",
    "    \n",
    "bob = Cachorro()"
   ]
  },
  {
   "cell_type": "markdown",
   "metadata": {},
   "source": [
    "No código acima nós criamos uma classe chamada Cachorro.\n",
    "\n",
    "Depois, criamos um exemplar dessa classe, que é o _bob_.\n",
    "\n",
    "No linguajar do Python, nós criamos uma instância da classe Cachorro, que é o **objeto** _Bob_.\n",
    "\n",
    "**Classe** (Cachorro) é um negócio abstrato, uma categoria. \n",
    "\n",
    "**Objeto** (bob) é a materialização da classe, é um exemplar real dessa classe.\n",
    "\n",
    "No vocabulário do Python, um **objeto** é uma **instância** de uma classe. \n",
    "\n",
    "((Aqui eu confesso que às vezes eu me perco nesses nomes, mas acho que é isso mesmo.))\n",
    "\n",
    "Essa classe tem um **atributo**, que é a variável nome.\n",
    "\n",
    "Atributos são dados de uma classe ou instância.\n",
    "\n",
    "Para acessar um atributo, usamos **nome do objeto** ponto **nome do atributo**   ."
   ]
  },
  {
   "cell_type": "code",
   "execution_count": 220,
   "metadata": {
    "scrolled": true
   },
   "outputs": [
    {
     "data": {
      "text/plain": [
       "'Cachorro'"
      ]
     },
     "execution_count": 220,
     "metadata": {},
     "output_type": "execute_result"
    }
   ],
   "source": [
    "bob.nome"
   ]
  },
  {
   "cell_type": "markdown",
   "metadata": {},
   "source": [
    "Podemos ter **funções** definidas dentro da classe também.\n",
    "\n",
    "Funções definidas dentro de classes são chamadas de **métodos** dessa classe."
   ]
  },
  {
   "cell_type": "code",
   "execution_count": 222,
   "metadata": {},
   "outputs": [
    {
     "name": "stdout",
     "output_type": "stream",
     "text": [
      "Cachorro\n",
      "Hello\n"
     ]
    }
   ],
   "source": [
    "class Cachorro:    # Criando a classe.\n",
    "    \n",
    "    nome = 'Cachorro'    # Variável que pertence à classe.\n",
    "    \n",
    "    def printar_hello(self):    # Função (método) da classe. O objeto referenciado é \n",
    "                                # representado por self.\n",
    "        print('Hello')\n",
    "    \n",
    "bob = Cachorro()    # Criando o objeto Bob.\n",
    "\n",
    "print(bob.nome)    # Printando a variável nome.\n",
    "\n",
    "bob.printar_hello()    # Executando o método printar_hello. "
   ]
  },
  {
   "cell_type": "markdown",
   "metadata": {},
   "source": [
    "Temos a classe _Cachorro_. _Bob_ é um objeto dessa classe. \n",
    "\n",
    "Dentro da classe Cachorro temos a variável _nome_ e a função *printar_hello*.\n",
    "\n",
    "Para acessar esses atributos do objeto _Bob_, temos os comandos Bob.nome e Bob.printar_hello() .\n",
    "\n",
    "O que é esse ***self*** ???\n",
    "\n",
    "***Self*** é usado para referenciar o objeto dentro da classe. \n",
    "\n",
    "Você vai criar vários objetos de uma mesma classe, então não pode ficar passando sempre (manualmente) o nome desses objetos dentro da classe. \n",
    "\n",
    "Por isso usamos o _self_.\n",
    "\n",
    "Veja esse exemplo."
   ]
  },
  {
   "cell_type": "code",
   "execution_count": 223,
   "metadata": {},
   "outputs": [
    {
     "name": "stdout",
     "output_type": "stream",
     "text": [
      "Hello\n",
      "Cachorro\n"
     ]
    }
   ],
   "source": [
    "class Cachorro:    \n",
    "    \n",
    "    def printar_hello(self):    \n",
    "        \n",
    "        self.nome = \"Cachorro\"    # Variável associada ao objeto.\n",
    "        \n",
    "        print('Hello')\n",
    "    \n",
    "bob = Cachorro()    \n",
    "\n",
    "bob.printar_hello()  \n",
    "\n",
    "print(bob.nome)    # Se tentarmos printar Bob.nome antes de chamar Bob.printar_hello()\n",
    "                   # vai dar erro. Por quê?"
   ]
  },
  {
   "cell_type": "markdown",
   "metadata": {},
   "source": [
    "Uma **função especial** usada para inicializar uma classe é a ***init***, com dois underscores antes e dois depois. \n",
    "\n",
    "Esse método ***init*** é chamado sempre que um novo objeto da classe é criado. Por isso ele recebe o nome de **construtor**.\n",
    "\n",
    "Ela aparece (quase) sempre como primeiro método de uma classe.\n",
    "\n",
    "O primeiro argumento da função ***init*** é sempre o ***self***. \n",
    "\n",
    "O _self_ representa o objeto atual que está sendo tratado na classe. \n",
    "\n",
    "Uma classe pode ter vários objetos. \n",
    "\n",
    "((Obs.: a ideia do _self_ pode ser bem complicada pra quem nunca trabalhou com isso. Então se você não entender de primeira, não tem problema, aos poucos você vai entender.))\n",
    "\n",
    "Vamos ver o exemplo abaixo."
   ]
  },
  {
   "cell_type": "code",
   "execution_count": 225,
   "metadata": {},
   "outputs": [],
   "source": [
    "class Cachorro: \n",
    "    \n",
    "    def __init__(self, nome):    # Temos o self e o nome agora como argumentos.\n",
    "        self.nome = nome\n",
    "        \n",
    "bob = Cachorro('Bob')"
   ]
  },
  {
   "cell_type": "markdown",
   "metadata": {},
   "source": [
    "Quando o objeto _bob_ é criado, o método ***init*** é executado **automaticamente**, uma única vez.\n",
    "\n",
    "Estamos passando o nome _'Bob'_ como argumento, na criação do objeto _bob_, que é da classe Cachorro.\n",
    "\n",
    "O método _init_ pega essa nome e cria o atributo _bob.nome_ e associa a esse atributo a variável _nome_.\n",
    "\n",
    "Note que dentro da classe, ***bob*** **foi substituído por** ***self***.\n",
    "\n",
    "Por quê? Porque podemos ter vários objetos. "
   ]
  },
  {
   "cell_type": "code",
   "execution_count": 227,
   "metadata": {},
   "outputs": [
    {
     "name": "stdout",
     "output_type": "stream",
     "text": [
      "O cachorro se chama Bob.\n",
      "O cachorro se chama Marley.\n",
      "O cachorro se chama Bidu.\n",
      "\n",
      "\n",
      "Bob\n",
      "Marley\n",
      "Bidu\n"
     ]
    }
   ],
   "source": [
    "class Cachorro: \n",
    "    \n",
    "    def __init__(self, nome):\n",
    "        self.nome = nome\n",
    "        print(f'O cachorro se chama {self.nome}.')\n",
    "        \n",
    "bob = Cachorro('Bob')    # Criando o objeto bob.\n",
    "\n",
    "marley = Cachorro('Marley')   # Criando o objeto marley.\n",
    "\n",
    "bidu = Cachorro('Bidu')    # Criando o objeto bidu.\n",
    "\n",
    "print('\\n')\n",
    "\n",
    "print(bob.nome)    # Printando o atributo nome do objeto bob.\n",
    "\n",
    "print(marley.nome)    # Printando o atributo nome do objeto marley.\n",
    "\n",
    "print(bidu.nome)    # Printando o atributo nome do objeto bidu."
   ]
  },
  {
   "cell_type": "markdown",
   "metadata": {},
   "source": [
    "No exemplo acima, _self_ substitui, dentro da classe, o nome do objeto com o qual estamos trabalhando. \n",
    "\n",
    "Primeiro _self_ substitui _bob_, depois _marley_ e, por fim, _bidu_.\n",
    "\n",
    "Vamos agora criar um método específico para printar o nome do cachorro na tela.\n",
    "\n",
    "Note que a função é definida **dentro** da classe.\n",
    "\n",
    "Ela é uma função da classe, ou um **método** dessa classe."
   ]
  },
  {
   "cell_type": "code",
   "execution_count": 228,
   "metadata": {},
   "outputs": [
    {
     "name": "stdout",
     "output_type": "stream",
     "text": [
      "O cachorro se chama Bob.\n",
      "O cachorro se chama Marley.\n"
     ]
    }
   ],
   "source": [
    "class Cachorro: \n",
    "    \n",
    "    def __init__(self, nome):\n",
    "        self.nome = nome\n",
    "        \n",
    "    def printar_nome(self):\n",
    "        print(f'O cachorro se chama {self.nome}.')\n",
    "        \n",
    "bob = Cachorro('Bob')  \n",
    "\n",
    "bob.printar_nome()\n",
    "\n",
    "marley = Cachorro('Marley')\n",
    "\n",
    "marley.printar_nome()"
   ]
  },
  {
   "cell_type": "markdown",
   "metadata": {},
   "source": [
    "Podemos colocar para printar automaticamente, no momento em que o objeto é criado."
   ]
  },
  {
   "cell_type": "code",
   "execution_count": 19,
   "metadata": {},
   "outputs": [
    {
     "name": "stdout",
     "output_type": "stream",
     "text": [
      "O cachorro se chama Bob.\n",
      "O cachorro se chama Marley.\n"
     ]
    }
   ],
   "source": [
    "class Cachorro: \n",
    "    \n",
    "    def __init__(self, nome):    # Método chamada automaticamente quando o objeto é criado.\n",
    "        self.nome = nome\n",
    "        self.printar_nome()    # Vamos chamar o método printar_nome automaticamente.\n",
    "        \n",
    "    def printar_nome(self):\n",
    "        print(f'O cachorro se chama {self.nome}.')\n",
    "        \n",
    "bob = Cachorro('Bob')  \n",
    "\n",
    "marley = Cachorro('Marley')"
   ]
  },
  {
   "cell_type": "markdown",
   "metadata": {},
   "source": [
    "No código acima, no _init_ nós já estamos executando o método *printar_nome*.\n",
    "\n",
    "Vamos adicionar mais um argumento na função *init*, que é a cor do cachorro."
   ]
  },
  {
   "cell_type": "code",
   "execution_count": 229,
   "metadata": {
    "scrolled": true
   },
   "outputs": [
    {
     "name": "stdout",
     "output_type": "stream",
     "text": [
      "O cachorro se chama Bob e tem cor preta.\n",
      "O cachorro se chama Marley e tem cor marrom.\n"
     ]
    }
   ],
   "source": [
    "class Cachorro: \n",
    "    \n",
    "    def __init__(self, nome, cor):\n",
    "        self.nome = nome\n",
    "        self.cor = cor\n",
    "        self.descrever_cachorro()\n",
    "        \n",
    "    def descrever_cachorro(self):\n",
    "        print(f'O cachorro se chama {self.nome} e tem cor {self.cor}.')\n",
    "        \n",
    "bob = Cachorro('Bob', 'preta')  \n",
    "\n",
    "marley = Cachorro('Marley', 'marrom')"
   ]
  },
  {
   "cell_type": "markdown",
   "metadata": {},
   "source": [
    "Vamos adicionar também a idade do cachorro."
   ]
  },
  {
   "cell_type": "code",
   "execution_count": 230,
   "metadata": {
    "scrolled": true
   },
   "outputs": [
    {
     "name": "stdout",
     "output_type": "stream",
     "text": [
      "\n",
      "O cachorro se chama Bob, tem cor preta e tem 10 anos de idade.\n",
      "\n",
      "O cachorro se chama Marley, tem cor marrom e tem 3 anos de idade.\n"
     ]
    }
   ],
   "source": [
    "class Cachorro: \n",
    "    \n",
    "    def __init__(self, nome, cor, idade):\n",
    "        self.nome = nome\n",
    "        self.cor = cor\n",
    "        self.idade = idade\n",
    "        self.descrever_cachorro()\n",
    "        \n",
    "    def descrever_cachorro(self):\n",
    "        print(f'\\nO cachorro se chama {self.nome}, tem cor {self.cor}'\n",
    "              f' e tem {self.idade} anos de idade.')\n",
    "        \n",
    "bob = Cachorro('Bob', 'preta', 10)  \n",
    "\n",
    "marley = Cachorro('Marley', 'marrom', 3)"
   ]
  },
  {
   "cell_type": "markdown",
   "metadata": {},
   "source": [
    "Por fim, vamos adicionar o método que diz se o cachorro é jovem ou idoso."
   ]
  },
  {
   "cell_type": "code",
   "execution_count": 236,
   "metadata": {},
   "outputs": [
    {
     "name": "stdout",
     "output_type": "stream",
     "text": [
      "\n",
      "O cachorro se chama Bob, tem cor preta e tem 10 anos de idade.\n",
      "Bob está ficando idoso.\n",
      "\n",
      "O cachorro se chama Marley, tem cor marrom e tem 4 anos de idade.\n",
      "Marley é um cachorro jovem.\n"
     ]
    }
   ],
   "source": [
    "class Cachorro: \n",
    "    \n",
    "    def __init__(self, nome, cor, idade):\n",
    "        self.nome = nome\n",
    "        self.cor = cor\n",
    "        self.idade = idade\n",
    "        self.descrever_cachorro()\n",
    "        self.jovem_ou_idoso()\n",
    "        \n",
    "    def descrever_cachorro(self):\n",
    "        print(f'\\nO cachorro se chama {self.nome}, tem cor {self.cor}'\n",
    "              f' e tem {self.idade} anos de idade.')\n",
    "        \n",
    "    def jovem_ou_idoso(self):\n",
    "        if self.idade < 8:\n",
    "            print(f'{self.nome} é um cachorro jovem.')\n",
    "        else:\n",
    "            print(f'{self.nome} está ficando idoso.')\n",
    "\n",
    "\n",
    "bob = Cachorro('Bob', 'preta', 10)  \n",
    "\n",
    "marley = Cachorro('Marley', 'marrom', 4)"
   ]
  },
  {
   "cell_type": "markdown",
   "metadata": {},
   "source": [
    "Esse código acima faz a mesma coisa que o código do início dessa aula, mas agora está escrito usando classe e objeto (Orientação a Objeto).\n",
    "\n",
    "Veja abaixo o código original, sem o uso de Classe e Objeto."
   ]
  },
  {
   "cell_type": "code",
   "execution_count": 235,
   "metadata": {},
   "outputs": [
    {
     "name": "stdout",
     "output_type": "stream",
     "text": [
      "\n",
      "O cachorro se chama Bob, tem cor preta e tem 10 anos de idade.\n",
      "Bob já está ficando idoso.\n"
     ]
    }
   ],
   "source": [
    "bob = {'nome': 'Bob', 'cor': 'preta', 'idade': 10}\n",
    "\n",
    "def descrever_cachorro(cachorro):\n",
    "    print(f\"\\nO cachorro se chama {cachorro['nome']},\"\n",
    "          f\" tem cor {cachorro['cor']} e tem {cachorro['idade']} anos de idade.\")\n",
    "    \n",
    "def jovem_ou_idoso(cachorro):\n",
    "    if cachorro['idade'] < 8:\n",
    "        print(f\"{cachorro['nome']} é um cachorro jovem.\")\n",
    "    else:\n",
    "        print(f\"{cachorro['nome']} já está ficando idoso.\")\n",
    "\n",
    "        \n",
    "descrever_cachorro(bob)\n",
    "\n",
    "jovem_ou_idoso(bob)"
   ]
  },
  {
   "cell_type": "markdown",
   "metadata": {},
   "source": [
    "E aí, **qual forma você prefere?**\n",
    "\n",
    "Os dois códigos fazem exatamente a mesma coisa.\n",
    "\n",
    "Mas na forma orientada a objeto parece que temos um código mais organizado: todas as informações estão agrupadas dentro da classe.\n",
    "\n",
    "E não tem jeito, temos que aprender a trabalhar com classes e objetos porque tudo no Python gira em torno disso."
   ]
  },
  {
   "cell_type": "markdown",
   "metadata": {},
   "source": [
    "**Comentários Gerais**"
   ]
  },
  {
   "cell_type": "markdown",
   "metadata": {},
   "source": [
    "Podemos ver qual é o tipo de _marley_ e podemos conferir também se ele pertence à classe Cachorro."
   ]
  },
  {
   "cell_type": "code",
   "execution_count": 240,
   "metadata": {},
   "outputs": [
    {
     "data": {
      "text/plain": [
       "__main__.Cachorro"
      ]
     },
     "execution_count": 240,
     "metadata": {},
     "output_type": "execute_result"
    }
   ],
   "source": [
    "type(marley)"
   ]
  },
  {
   "cell_type": "code",
   "execution_count": 241,
   "metadata": {},
   "outputs": [
    {
     "data": {
      "text/plain": [
       "True"
      ]
     },
     "execution_count": 241,
     "metadata": {},
     "output_type": "execute_result"
    }
   ],
   "source": [
    "isinstance(marley, Cachorro)"
   ]
  },
  {
   "cell_type": "markdown",
   "metadata": {},
   "source": [
    "Podemos ver todos os atributos e métodos associados a um objeto usando a função _dir_."
   ]
  },
  {
   "cell_type": "code",
   "execution_count": 242,
   "metadata": {},
   "outputs": [
    {
     "data": {
      "text/plain": [
       "['__class__',\n",
       " '__delattr__',\n",
       " '__dict__',\n",
       " '__dir__',\n",
       " '__doc__',\n",
       " '__eq__',\n",
       " '__format__',\n",
       " '__ge__',\n",
       " '__getattribute__',\n",
       " '__gt__',\n",
       " '__hash__',\n",
       " '__init__',\n",
       " '__init_subclass__',\n",
       " '__le__',\n",
       " '__lt__',\n",
       " '__module__',\n",
       " '__ne__',\n",
       " '__new__',\n",
       " '__reduce__',\n",
       " '__reduce_ex__',\n",
       " '__repr__',\n",
       " '__setattr__',\n",
       " '__sizeof__',\n",
       " '__str__',\n",
       " '__subclasshook__',\n",
       " '__weakref__',\n",
       " 'cor',\n",
       " 'descrever_cachorro',\n",
       " 'idade',\n",
       " 'jovem_ou_idoso',\n",
       " 'nome']"
      ]
     },
     "execution_count": 242,
     "metadata": {},
     "output_type": "execute_result"
    }
   ],
   "source": [
    "dir(marley)"
   ]
  },
  {
   "cell_type": "markdown",
   "metadata": {},
   "source": [
    "Aparecem vários **métodos especiais** (ou mágicos), que estão entre dois _underscores_. \n",
    "\n",
    "Eles são criados automaticamente pelo Python. Todos têm uma utilidade interna para o Python. ((Não sei quase nada sobre muitos desses métodos.)) \n",
    "\n",
    "Também aparecem os atributos e métodos que nós criamos."
   ]
  },
  {
   "cell_type": "markdown",
   "metadata": {},
   "source": [
    "Note que sempre associamos os atributos do objeto criado aos argumento de entrada, no método _init_.\n",
    "\n",
    "O primeiro argumento do _init_ é sempre o _self_.\n",
    "\n",
    "Os outros métodos também tem o _self_ como argumento.\n",
    "\n",
    "Quando chamamos um método, estamos passando o _self_ implicitamente. O _self_ representa o objeto.\n",
    "\n",
    "Os dois comandos abaixo são equivalentes. "
   ]
  },
  {
   "cell_type": "code",
   "execution_count": 244,
   "metadata": {
    "scrolled": false
   },
   "outputs": [
    {
     "name": "stdout",
     "output_type": "stream",
     "text": [
      "\n",
      "O cachorro se chama Marley, tem cor marrom e tem 4 anos de idade.\n",
      "\n",
      "O cachorro se chama Marley, tem cor marrom e tem 4 anos de idade.\n"
     ]
    }
   ],
   "source": [
    "marley.descrever_cachorro()\n",
    "\n",
    "Cachorro.descrever_cachorro(marley)"
   ]
  },
  {
   "cell_type": "markdown",
   "metadata": {},
   "source": [
    "Podemos executar a função _init_ manualmente também.\n",
    "\n",
    "As duas linhas abaixo são equivalentes."
   ]
  },
  {
   "cell_type": "code",
   "execution_count": 55,
   "metadata": {
    "scrolled": true
   },
   "outputs": [
    {
     "name": "stdout",
     "output_type": "stream",
     "text": [
      "\n",
      "O cachorro se chama Marley, tem cor marrom e tem 4 anos de idade.\n",
      "Marley é um cachorro jovem.\n",
      "\n",
      "O cachorro se chama Marley, tem cor marrom e tem 4 anos de idade.\n",
      "Marley é um cachorro jovem.\n"
     ]
    }
   ],
   "source": [
    "marley.__init__('Marley', 'marrom', 4)\n",
    "\n",
    "Cachorro.__init__(marley, 'Marley', 'marrom', 4)"
   ]
  },
  {
   "cell_type": "markdown",
   "metadata": {},
   "source": [
    "Só para deixar nossa classe mais completa, vamos inserir alguns comentários que explicam o seu funcionamento."
   ]
  },
  {
   "cell_type": "code",
   "execution_count": 246,
   "metadata": {},
   "outputs": [
    {
     "name": "stdout",
     "output_type": "stream",
     "text": [
      "\n",
      "O cachorro se chama Bob, tem cor preta e tem 10 anos de idade.\n",
      "Bob está ficando idoso.\n"
     ]
    }
   ],
   "source": [
    "class Cachorro: \n",
    "    '''\n",
    "    Classe que descreve as características de um cachorro.\n",
    "    Atributos:\n",
    "     - nome: nome do cachorro\n",
    "     - cor: cor do cachorro\n",
    "     - idade: idade do cachorro\n",
    "    Métodos:\n",
    "     - descrever_cachorro: printa na tela as características do cachorro\n",
    "     - jovem_ou_idoso: printa na tela se o cachorro é jovem ou idoso\n",
    "    '''\n",
    "    \n",
    "    def __init__(self, nome, cor, idade):\n",
    "        self.nome = nome\n",
    "        self.cor = cor\n",
    "        self.idade = idade\n",
    "        self.descrever_cachorro()\n",
    "        self.jovem_ou_idoso()\n",
    "        \n",
    "    def descrever_cachorro(self):\n",
    "        '''\n",
    "        Printa na tela o nome, a cor e a idade do cachorro.\n",
    "        '''\n",
    "        print(f'\\nO cachorro se chama {self.nome}, tem cor {self.cor}'\n",
    "              f' e tem {self.idade} anos de idade.')\n",
    "        \n",
    "    def jovem_ou_idoso(self):\n",
    "        '''\n",
    "        Printa na tela se o cachorro é jovem ou idoso.\n",
    "        '''\n",
    "        if self.idade < 8:\n",
    "            print(f'{self.nome} é um cachorro jovem.')\n",
    "        else:\n",
    "            print(f'{self.nome} está ficando idoso.')\n",
    "        \n",
    "\n",
    "bob = Cachorro('Bob', 'preta', 10)  "
   ]
  },
  {
   "cell_type": "markdown",
   "metadata": {},
   "source": [
    "Quando usamos o _help_ o que aparece são essas informações que estão entre três aspas. \n",
    "\n",
    "Veja abaixo."
   ]
  },
  {
   "cell_type": "code",
   "execution_count": 61,
   "metadata": {
    "scrolled": false
   },
   "outputs": [
    {
     "name": "stdout",
     "output_type": "stream",
     "text": [
      "Help on class Cachorro in module __main__:\n",
      "\n",
      "class Cachorro(builtins.object)\n",
      " |  Cachorro(nome, cor, idade)\n",
      " |  \n",
      " |  Classe que descreve as características de um cachorro.\n",
      " |  Atributos:\n",
      " |   - nome: nome do cachorro\n",
      " |   - cor: cor do cachorro\n",
      " |   - idade: idade do cachorro\n",
      " |  Métodos:\n",
      " |   - descrever_cachorro: printa na tela as características do cachorro\n",
      " |   - jovem_ou_idoso: printa na tela se o cachorro é jovem ou idoso\n",
      " |  \n",
      " |  Methods defined here:\n",
      " |  \n",
      " |  __init__(self, nome, cor, idade)\n",
      " |      Initialize self.  See help(type(self)) for accurate signature.\n",
      " |  \n",
      " |  descrever_cachorro(self)\n",
      " |      Printa na tela o nome, a cor e a idade do cachorro.\n",
      " |  \n",
      " |  jovem_ou_idoso(self)\n",
      " |      Printa na tela se o cachorro é jovem ou idoso.\n",
      " |  \n",
      " |  ----------------------------------------------------------------------\n",
      " |  Data descriptors defined here:\n",
      " |  \n",
      " |  __dict__\n",
      " |      dictionary for instance variables (if defined)\n",
      " |  \n",
      " |  __weakref__\n",
      " |      list of weak references to the object (if defined)\n",
      "\n"
     ]
    }
   ],
   "source": [
    "help(Cachorro)\n",
    "#help(Cachorro.descrever_cachorro)\n",
    "#help(Cachorro.jovem_ou_idoso)"
   ]
  },
  {
   "cell_type": "markdown",
   "metadata": {},
   "source": [
    "Essas informações são armazenadas pelo método especial *doc*."
   ]
  },
  {
   "cell_type": "code",
   "execution_count": 247,
   "metadata": {},
   "outputs": [
    {
     "data": {
      "text/plain": [
       "'\\n    Classe que descreve as características de um cachorro.\\n    Atributos:\\n     - nome: nome do cachorro\\n     - cor: cor do cachorro\\n     - idade: idade do cachorro\\n    Métodos:\\n     - descrever_cachorro: printa na tela as características do cachorro\\n     - jovem_ou_idoso: printa na tela se o cachorro é jovem ou idoso\\n    '"
      ]
     },
     "execution_count": 247,
     "metadata": {},
     "output_type": "execute_result"
    }
   ],
   "source": [
    "Cachorro.__doc__"
   ]
  },
  {
   "cell_type": "markdown",
   "metadata": {},
   "source": [
    "Vamos ver outro exemplo.\n",
    "\n",
    "Tente entender o código abaixo."
   ]
  },
  {
   "cell_type": "code",
   "execution_count": 251,
   "metadata": {
    "scrolled": true
   },
   "outputs": [
    {
     "name": "stdout",
     "output_type": "stream",
     "text": [
      "\n",
      "O saldo da conta 1111 é de R$ 0.00.\n",
      "\n",
      "O saldo da conta 1111 é de R$ 50.00.\n",
      "\n",
      "O saldo da conta 1111 é de R$ 200.00.\n",
      "\n",
      "O saldo da conta 2224 é de R$ 35.00.\n",
      "\n",
      "O saldo da conta 2224 é de R$ 70.00.\n"
     ]
    }
   ],
   "source": [
    "class ContaCorrente:\n",
    "    \n",
    "    conta_tipo = 'Corrente'\n",
    "    \n",
    "    def __init__(self, nome, numero, saldo = 0):\n",
    "        self.nome = nome\n",
    "        self.numero = numero\n",
    "        self.saldo = saldo\n",
    "        self.printar_saldo()\n",
    "        \n",
    "    def deposito(self, valor_deposito):\n",
    "        self.saldo += valor_deposito\n",
    "        self.printar_saldo()\n",
    "    \n",
    "    def printar_saldo(self):\n",
    "        print(f'\\nO saldo da conta {self.numero} é de R$ {self.saldo:.2f}.')\n",
    "        \n",
    "        \n",
    "conta1 = ContaCorrente('José', 1111)\n",
    "\n",
    "conta1.deposito(50)\n",
    "\n",
    "conta1.deposito(150)\n",
    "\n",
    "conta2 = ContaCorrente('João', 2224, 35)\n",
    "\n",
    "conta2.deposito(35)"
   ]
  },
  {
   "cell_type": "markdown",
   "metadata": {},
   "source": [
    "No código acima criamos a classe ContaCorrente. \n",
    "\n",
    "Os argumentos de entrada na criação do objeto são: nome, número da conta e saldo.\n",
    "\n",
    "Note que saldo é _default_, e por isso não precisa ser necessariamente declarado.\n",
    "\n",
    "A novidade aqui é a variável *conta_tipo*.\n",
    "\n",
    "Note que essa é uma **variável da classe**, e não de um objeto em particular.\n",
    "\n",
    "Essa variável é comum à classe e a todos os objetos dessa classe.\n",
    "\n",
    "As variáveis nome, conta e saldo são variáveis particulares dos objetos criados.\n",
    "\n",
    "Veja o que acontece nos códigos abaixo."
   ]
  },
  {
   "cell_type": "code",
   "execution_count": 252,
   "metadata": {},
   "outputs": [
    {
     "data": {
      "text/plain": [
       "'Corrente'"
      ]
     },
     "execution_count": 252,
     "metadata": {},
     "output_type": "execute_result"
    }
   ],
   "source": [
    "ContaCorrente.conta_tipo"
   ]
  },
  {
   "cell_type": "code",
   "execution_count": 253,
   "metadata": {},
   "outputs": [
    {
     "data": {
      "text/plain": [
       "'Corrente'"
      ]
     },
     "execution_count": 253,
     "metadata": {},
     "output_type": "execute_result"
    }
   ],
   "source": [
    "conta1.conta_tipo"
   ]
  },
  {
   "cell_type": "code",
   "execution_count": 254,
   "metadata": {},
   "outputs": [
    {
     "data": {
      "text/plain": [
       "200"
      ]
     },
     "execution_count": 254,
     "metadata": {},
     "output_type": "execute_result"
    }
   ],
   "source": [
    "conta1.saldo"
   ]
  },
  {
   "cell_type": "code",
   "execution_count": 255,
   "metadata": {},
   "outputs": [
    {
     "data": {
      "text/plain": [
       "'Corrente'"
      ]
     },
     "execution_count": 255,
     "metadata": {},
     "output_type": "execute_result"
    }
   ],
   "source": [
    "conta2.conta_tipo"
   ]
  },
  {
   "cell_type": "code",
   "execution_count": 256,
   "metadata": {},
   "outputs": [
    {
     "ename": "AttributeError",
     "evalue": "type object 'ContaCorrente' has no attribute 'nome'",
     "output_type": "error",
     "traceback": [
      "\u001b[0;31m---------------------------------------------------------------------------\u001b[0m",
      "\u001b[0;31mAttributeError\u001b[0m                            Traceback (most recent call last)",
      "\u001b[0;32m<ipython-input-256-6e09516ac2c1>\u001b[0m in \u001b[0;36m<module>\u001b[0;34m\u001b[0m\n\u001b[0;32m----> 1\u001b[0;31m \u001b[0mContaCorrente\u001b[0m\u001b[0;34m.\u001b[0m\u001b[0mnome\u001b[0m\u001b[0;34m\u001b[0m\u001b[0;34m\u001b[0m\u001b[0m\n\u001b[0m",
      "\u001b[0;31mAttributeError\u001b[0m: type object 'ContaCorrente' has no attribute 'nome'"
     ]
    }
   ],
   "source": [
    "ContaCorrente.nome"
   ]
  },
  {
   "cell_type": "markdown",
   "metadata": {},
   "source": [
    "Deu erro porque a classe ContaCorrente não tem atributo _nome_, os objetos dessa classe têm esse atributo.\n",
    "\n",
    "Muito confuso???\n",
    "\n",
    "Reveja os códigos acima porque agora vai piorar bastante."
   ]
  },
  {
   "cell_type": "markdown",
   "metadata": {},
   "source": [
    "Em **resumo**, temos o seguinte.\n",
    "\n",
    "As 5 ideias da Orientação a Objeto:\n",
    "\n",
    "1. Classes e Objetos combinam funções e dados para facilitar o uso de ambos\n",
    "1. Uma Classe define o comportamento de uma nova categoria de coisas. O Objeto é essa coisa\n",
    "1. Classes tem construtores que descrevem como criar um novo objeto\n",
    "1. Os atributos definem as características de uma classe; os métodos definem o seu comportamento \n",
    "1. Uma Clase pode herdar tudo de outra, e mudar só aquilo que interessa\n",
    "\n",
    "3 principais recursos de Orientação:\n",
    "\n",
    "1. Encapsulamento: capacidade de possuir dados\n",
    "1. Herança: capacidade de pegar os métodos de outras classes\n",
    "1. Polimorfismo: capacidade de escrever métodos de acordo com a necessidade"
   ]
  },
  {
   "cell_type": "markdown",
   "metadata": {},
   "source": [
    "## Herança"
   ]
  },
  {
   "cell_type": "markdown",
   "metadata": {},
   "source": [
    "Uma das principais características da Orientação a Objeto é a **herança**.\n",
    "\n",
    "Esse artifício é muito usado no Python e está presente em diversas aplicações. \n",
    "\n",
    "A **herança** permite criar uma nova classe usando tudo que já existe em uma outra classe. \n",
    "\n",
    "Além disso, podemos adicionar novos **atributos** e novos **métodos** nessa nova classe.\n",
    "\n",
    "Ou seja, a **classe filha** vai herdar tudo da **classe mãe** e modificar ou acrescentar aquilo que achar necessário.\n",
    "\n",
    "Com isso você pode usar o que já existe, sem precisar ficar reinventando a roda toda vez.\n",
    "\n",
    "Vamos ver um exemplo.\n",
    "\n",
    "Essa é a nossa classe Cachorro."
   ]
  },
  {
   "cell_type": "code",
   "execution_count": 257,
   "metadata": {},
   "outputs": [],
   "source": [
    "class Cachorro: \n",
    "    \n",
    "    def __init__(self, nome, cor, idade):\n",
    "        self.nome = nome\n",
    "        self.cor = cor\n",
    "        self.idade = idade\n",
    "        self.descrever_cachorro()\n",
    "        self.jovem_ou_idoso()\n",
    "        \n",
    "    def descrever_cachorro(self):\n",
    "        print(f'\\nO cachorro se chama {self.nome}, tem cor {self.cor}'\n",
    "              f' e tem {self.idade} anos de idade.')\n",
    "        \n",
    "    def jovem_ou_idoso(self):\n",
    "        if self.idade < 8:\n",
    "            print(f'{self.nome} é um cachorro jovem.')\n",
    "        else:\n",
    "            print(f'{self.nome} está ficando idoso.')"
   ]
  },
  {
   "cell_type": "markdown",
   "metadata": {},
   "source": [
    "Ela tem os atributos nome, cor e idade, e os métodos descrever_cachorro e jovem_ou_idoso.\n",
    "\n",
    "Agora eu quero trabalhar com uma raça de cachorro: Pinscher.\n",
    "\n",
    "Todo Pinscher é cachorro, mas nem todo cachorro é Pinscher (ainda bem né).\n",
    "\n",
    "Então, na minha nova classe Pinscher, eu vou ter os **mesmos atributos** que eu tenho para um cachorro qualquer: nome, cor e idade.\n",
    "\n",
    "Ou seja, eu posso **aproveitar** tudo que está na classe Cachorro.\n",
    "\n",
    "Além desses atributos, eu quero criar o atributo tamanho e nervosismo.\n",
    "\n",
    "Então nós vamos criar uma classe Pinscher que vai **herdar** a classe Cachorro.\n",
    "\n",
    "A classe mãe é Cachorro e a classe filha é Pinscher. A classe mãe aparece na definição da classe filha.\n",
    "\n",
    "((A classe mãe também pode ser chamada de base e a filha de derivada.))"
   ]
  },
  {
   "cell_type": "code",
   "execution_count": 261,
   "metadata": {},
   "outputs": [
    {
     "name": "stdout",
     "output_type": "stream",
     "text": [
      "\n",
      "O cachorro se chama Bob, tem cor preta e tem 7 anos de idade.\n",
      "Bob é um cachorro jovem.\n",
      "\n",
      "O cachorro se chama Pretinha, tem cor preta e tem 10 anos de idade.\n",
      "Pretinha está ficando idoso(a).\n"
     ]
    }
   ],
   "source": [
    "class Cachorro: \n",
    "    \n",
    "    def __init__(self, nome, cor, idade):\n",
    "        self.nome = nome\n",
    "        self.cor = cor\n",
    "        self.idade = idade\n",
    "        self.descrever_cachorro()\n",
    "        self.jovem_ou_idoso()\n",
    "        \n",
    "    def descrever_cachorro(self):\n",
    "        print(f'\\nO cachorro se chama {self.nome}, tem cor {self.cor}'\n",
    "              f' e tem {self.idade} anos de idade.')\n",
    "        \n",
    "    def jovem_ou_idoso(self):\n",
    "        if self.idade < 8:\n",
    "            print(f'{self.nome} é um cachorro jovem.')\n",
    "        else:\n",
    "            print(f'{self.nome} está ficando idoso(a).')\n",
    "            \n",
    "\n",
    "class Pinscher(Cachorro):    # Passamos a classe mãe entre parênteses na definição.\n",
    "    \n",
    "    def __init__(self, nome, cor, idade, tamanho, nervosismo):\n",
    "        self.tamanho = tamanho\n",
    "        self.nervosismo = nervosismo\n",
    "        \n",
    "        # As duas linhas abaixo fazem a mesma coisa.\n",
    "        # Ambas chamam o método __init__ da classe mãe. \n",
    "        \n",
    "        #Cachorro.__init__(self, nome, cor, idade)\n",
    "        super().__init__(nome, cor, idade)\n",
    "        \n",
    "bob = Cachorro('Bob', 'preta', 7)    # bob é da classe Cachorro.\n",
    "\n",
    "pretinha = Pinscher('Pretinha', 'preta', 10, 0, 10)    # pretinha é da classe Pinscher."
   ]
  },
  {
   "cell_type": "markdown",
   "metadata": {},
   "source": [
    "Quando criamos o objeto _pretinha_ estamos executando automaticamente o _init_ da classe Pinscher. \n",
    "\n",
    "Mas precisamos executar também o _init_ da classe Cachorro, para que os atributos sejam definidos corretamente. \n",
    "\n",
    "Para executar o _init_ da classe Cachorro temos duas opções: ou usamos o nome da classe mãe explicitamente ou usamos o _super()_ do Python.\n",
    "\n",
    "O mais recomendado é usar o _super()_, pois deixa o código mais geral.\n",
    "\n",
    "Temos três atributos que já existiam em Cachorro: nome, cor e idade. \n",
    "\n",
    "Também adicionamos dois atributos: tamanho e nervosismo.\n",
    "\n",
    "Podemos ver que esses atributos existem usando o _dir_."
   ]
  },
  {
   "cell_type": "code",
   "execution_count": 147,
   "metadata": {},
   "outputs": [
    {
     "data": {
      "text/plain": [
       "['__class__',\n",
       " '__delattr__',\n",
       " '__dict__',\n",
       " '__dir__',\n",
       " '__doc__',\n",
       " '__eq__',\n",
       " '__format__',\n",
       " '__ge__',\n",
       " '__getattribute__',\n",
       " '__gt__',\n",
       " '__hash__',\n",
       " '__init__',\n",
       " '__init_subclass__',\n",
       " '__le__',\n",
       " '__lt__',\n",
       " '__module__',\n",
       " '__ne__',\n",
       " '__new__',\n",
       " '__reduce__',\n",
       " '__reduce_ex__',\n",
       " '__repr__',\n",
       " '__setattr__',\n",
       " '__sizeof__',\n",
       " '__str__',\n",
       " '__subclasshook__',\n",
       " '__weakref__',\n",
       " 'cor',\n",
       " 'descrever_cachorro',\n",
       " 'idade',\n",
       " 'jovem_ou_idoso',\n",
       " 'nervosismo',\n",
       " 'nome',\n",
       " 'tamanho']"
      ]
     },
     "execution_count": 147,
     "metadata": {},
     "output_type": "execute_result"
    }
   ],
   "source": [
    "dir(pretinha)"
   ]
  },
  {
   "cell_type": "markdown",
   "metadata": {},
   "source": [
    "Agora vamos ver uma propriedade muito útil quando estamos trabalhando com classes e objetos.\n",
    "\n",
    "Na classe Cachorro nós temos o método _descrever_cachorro_.\n",
    "\n",
    "No entanto, agora no caso da classe Pinscher, eu quero **mudar esse método**.\n",
    "\n",
    "Eu quero mudar, na classe filha, um método que existe na classe mãe.\n",
    "\n",
    "Eu quero acrescentar na descrição as informações sobre tamanho e grau de nervosismo.\n",
    "\n",
    "Como fazer isso???\n",
    "\n",
    "Temos que entrar na classe mãe e modificar o método????\n",
    "\n",
    "E se eu não tiver acesso à classe mãe?? ((Isso é muito comum.))\n",
    "\n",
    "É aí que entra o **polimorfismo**.\n",
    "\n",
    "Podemos escrever um método, na classe filha, com **exatamente o mesmo nome** do método que aparece na classe mãe.\n",
    "\n",
    "O que o Python faz???\n",
    "\n",
    "Na hora de chamar um método, ele procura **primeiro** na classe filha.\n",
    "\n",
    "Se o método não existe na classe filha, aí ele procura na classe mãe.\n",
    "\n",
    "Vamos incluir um método _descrever_cachorro_ na classe Pinscher."
   ]
  },
  {
   "cell_type": "code",
   "execution_count": 268,
   "metadata": {},
   "outputs": [
    {
     "name": "stdout",
     "output_type": "stream",
     "text": [
      "\n",
      "O cachorro se chama Bob, tem cor preta e tem 7 anos de idade.\n",
      "Bob é um cachorro jovem.\n",
      "\n",
      "O Pinscher se chama Pretinha, tem cor preta e tem 10 anos de idade.\n",
      "O tamanho é 0 e o grau de nervosismo é 10.\n",
      "Pretinha está ficando idoso(a).\n"
     ]
    }
   ],
   "source": [
    "class Cachorro: \n",
    "    \n",
    "    def __init__(self, nome, cor, idade):\n",
    "        self.nome = nome\n",
    "        self.cor = cor\n",
    "        self.idade = idade\n",
    "        self.descrever_cachorro()\n",
    "        self.jovem_ou_idoso()\n",
    "        \n",
    "    def descrever_cachorro(self):\n",
    "        print(f'\\nO cachorro se chama {self.nome}, tem cor {self.cor}'\n",
    "              f' e tem {self.idade} anos de idade.')\n",
    "        \n",
    "    def jovem_ou_idoso(self):\n",
    "        if self.idade < 8:\n",
    "            print(f'{self.nome} é um cachorro jovem.')\n",
    "        else:\n",
    "            print(f'{self.nome} está ficando idoso(a).')\n",
    "            \n",
    "\n",
    "class Pinscher(Cachorro):\n",
    "    \n",
    "    def __init__(self, nome, cor, idade, tamanho, nervosismo):\n",
    "        self.tamanho = tamanho\n",
    "        self.nervosismo = nervosismo\n",
    "        super().__init__(nome, cor, idade)\n",
    "        \n",
    "    def descrever_cachorro(self):\n",
    "        print(f'\\nO Pinscher se chama {self.nome}, tem cor {self.cor} '\n",
    "              f'e tem {self.idade} anos de idade.'\n",
    "              f'\\nO tamanho é {self.tamanho} e o grau de ' \n",
    "              f'nervosismo é {self.nervosismo}.')    \n",
    "    \n",
    "    def bravo_ou_manso(self):\n",
    "        if self.nervosismo <= 5:\n",
    "            print(f'Pode ficar tranquilo, {self.nome} é manso(a).')\n",
    "        else:\n",
    "            print(f'Cuidado!!! {self.nome} é nervoso(a).')\n",
    "    \n",
    "    \n",
    "bob = Cachorro('Bob', 'preta', 7)\n",
    "\n",
    "pretinha = Pinscher('Pretinha', 'preta', 10, 0, 10)"
   ]
  },
  {
   "cell_type": "markdown",
   "metadata": {},
   "source": [
    "Note que a descrição mudou: bob é da classe Cachorro e pretinha é da classe Pinscher.\n",
    "\n",
    "Note também que estamos chamando a função _descrever_cachorro_ de dentro da classe Cachorro.\n",
    "\n",
    "Mesmo assim, no caso da pretinha, o método chamado foi o método da classe Pinscher.\n",
    "\n",
    "Podemos chamar o método _bravo_ou_manso_ a partir do objeto pretinha."
   ]
  },
  {
   "cell_type": "code",
   "execution_count": 264,
   "metadata": {},
   "outputs": [
    {
     "name": "stdout",
     "output_type": "stream",
     "text": [
      "Cuidado!!! Pretinha é nervoso(a).\n"
     ]
    }
   ],
   "source": [
    "pretinha.bravo_ou_manso()"
   ]
  },
  {
   "cell_type": "markdown",
   "metadata": {},
   "source": [
    "Mas não podemos chamar esse método para o Bob."
   ]
  },
  {
   "cell_type": "code",
   "execution_count": 265,
   "metadata": {},
   "outputs": [
    {
     "ename": "AttributeError",
     "evalue": "'Cachorro' object has no attribute 'bravo_ou_manso'",
     "output_type": "error",
     "traceback": [
      "\u001b[0;31m---------------------------------------------------------------------------\u001b[0m",
      "\u001b[0;31mAttributeError\u001b[0m                            Traceback (most recent call last)",
      "\u001b[0;32m<ipython-input-265-2564ada33a9c>\u001b[0m in \u001b[0;36m<module>\u001b[0;34m\u001b[0m\n\u001b[0;32m----> 1\u001b[0;31m \u001b[0mbob\u001b[0m\u001b[0;34m.\u001b[0m\u001b[0mbravo_ou_manso\u001b[0m\u001b[0;34m(\u001b[0m\u001b[0;34m)\u001b[0m\u001b[0;34m\u001b[0m\u001b[0;34m\u001b[0m\u001b[0m\n\u001b[0m",
      "\u001b[0;31mAttributeError\u001b[0m: 'Cachorro' object has no attribute 'bravo_ou_manso'"
     ]
    }
   ],
   "source": [
    "bob.bravo_ou_manso()"
   ]
  },
  {
   "cell_type": "markdown",
   "metadata": {},
   "source": [
    "Podemos usar o _dir_ para ver que bob não possui o método _bravo_ou_manso."
   ]
  },
  {
   "cell_type": "code",
   "execution_count": 267,
   "metadata": {},
   "outputs": [
    {
     "data": {
      "text/plain": [
       "['__class__',\n",
       " '__delattr__',\n",
       " '__dict__',\n",
       " '__dir__',\n",
       " '__doc__',\n",
       " '__eq__',\n",
       " '__format__',\n",
       " '__ge__',\n",
       " '__getattribute__',\n",
       " '__gt__',\n",
       " '__hash__',\n",
       " '__init__',\n",
       " '__init_subclass__',\n",
       " '__le__',\n",
       " '__lt__',\n",
       " '__module__',\n",
       " '__ne__',\n",
       " '__new__',\n",
       " '__reduce__',\n",
       " '__reduce_ex__',\n",
       " '__repr__',\n",
       " '__setattr__',\n",
       " '__sizeof__',\n",
       " '__str__',\n",
       " '__subclasshook__',\n",
       " '__weakref__',\n",
       " 'cor',\n",
       " 'descrever_cachorro',\n",
       " 'idade',\n",
       " 'jovem_ou_idoso',\n",
       " 'nome']"
      ]
     },
     "execution_count": 267,
     "metadata": {},
     "output_type": "execute_result"
    }
   ],
   "source": [
    "#dir(pretinha)\n",
    "dir(bob)"
   ]
  },
  {
   "cell_type": "markdown",
   "metadata": {},
   "source": [
    "Pra fechar essa parte, vamos fazer uma pequena modificação no código. \n",
    "\n",
    "Vamos chamar o método bravo_ou_manso automaticamente quando um objeto de Pinscher é criado."
   ]
  },
  {
   "cell_type": "code",
   "execution_count": 270,
   "metadata": {},
   "outputs": [
    {
     "name": "stdout",
     "output_type": "stream",
     "text": [
      "\n",
      "O cachorro se chama Bob, tem cor preta e tem 7 anos de idade.\n",
      "Bob é um cachorro jovem.\n",
      "\n",
      "O Pinscher se chama Pretinha, tem cor preta e tem 10 anos de idade.\n",
      "O tamanho é 0 e o grau de nervosismo é 10.\n",
      "Pretinha está ficando idoso(a).\n",
      "Cuidado!!! Pretinha é nervoso(a).\n"
     ]
    }
   ],
   "source": [
    "class Cachorro: \n",
    "    \n",
    "    def __init__(self, nome, cor, idade):\n",
    "        self.nome = nome\n",
    "        self.cor = cor\n",
    "        self.idade = idade\n",
    "        self.descrever_cachorro()\n",
    "        self.jovem_ou_idoso()\n",
    "        \n",
    "    def descrever_cachorro(self):\n",
    "        print(f'\\nO cachorro se chama {self.nome}, tem cor {self.cor}'\n",
    "              f' e tem {self.idade} anos de idade.')\n",
    "        \n",
    "    def jovem_ou_idoso(self):\n",
    "        if self.idade < 8:\n",
    "            print(f'{self.nome} é um cachorro jovem.')\n",
    "        else:\n",
    "            print(f'{self.nome} está ficando idoso(a).')\n",
    "            \n",
    "\n",
    "class Pinscher(Cachorro):\n",
    "    \n",
    "    def __init__(self, nome, cor, idade, tamanho, nervosismo):\n",
    "        self.tamanho = tamanho\n",
    "        self.nervosismo = nervosismo\n",
    "        super().__init__(nome, cor, idade)\n",
    "        self.bravo_ou_manso()\n",
    "        \n",
    "    def descrever_cachorro(self):\n",
    "        print(f'\\nO Pinscher se chama {self.nome}, tem cor {self.cor} '\n",
    "              f'e tem {self.idade} anos de idade.'\n",
    "              f'\\nO tamanho é {self.tamanho} e o grau de ' \n",
    "              f'nervosismo é {self.nervosismo}.')    \n",
    "    \n",
    "    def bravo_ou_manso(self):\n",
    "        if self.nervosismo <= 5:\n",
    "            print(f'Pode ficar tranquilo, {self.nome} é manso(a).')\n",
    "        else:\n",
    "            print(f'Cuidado!!! {self.nome} é nervoso(a).')\n",
    "    \n",
    "    \n",
    "bob = Cachorro('Bob', 'preta', 7)\n",
    "\n",
    "pretinha = Pinscher('Pretinha', 'preta', 10, 0, 10)"
   ]
  },
  {
   "cell_type": "markdown",
   "metadata": {},
   "source": [
    "Agora, pra mostrar o poder que o Python nos dá, vamos agora mudar o significado do sinal de mais +.\n",
    "\n",
    "((\"Com grandes poderes vêm grandes responsabilidades.\" Tio Ben.))\n",
    "\n",
    "Temos os tipos de dados.\n",
    "\n",
    "_int_, _float_, _list_, _string_, ....\n",
    "\n",
    "Para saber se um determinado objeto pertence a uma classe podemos usar a função _isinstance_."
   ]
  },
  {
   "cell_type": "code",
   "execution_count": 273,
   "metadata": {},
   "outputs": [
    {
     "data": {
      "text/plain": [
       "True"
      ]
     },
     "execution_count": 273,
     "metadata": {},
     "output_type": "execute_result"
    }
   ],
   "source": [
    "a = 1\n",
    "\n",
    "isinstance(a, int)"
   ]
  },
  {
   "cell_type": "code",
   "execution_count": 274,
   "metadata": {},
   "outputs": [
    {
     "data": {
      "text/plain": [
       "False"
      ]
     },
     "execution_count": 274,
     "metadata": {},
     "output_type": "execute_result"
    }
   ],
   "source": [
    "a = 1.0\n",
    "\n",
    "isinstance(a, int)"
   ]
  },
  {
   "cell_type": "code",
   "execution_count": 275,
   "metadata": {},
   "outputs": [
    {
     "data": {
      "text/plain": [
       "True"
      ]
     },
     "execution_count": 275,
     "metadata": {},
     "output_type": "execute_result"
    }
   ],
   "source": [
    "a = [1, 2, 3]\n",
    "\n",
    "isinstance(a, list)"
   ]
  },
  {
   "cell_type": "markdown",
   "metadata": {},
   "source": [
    "Nem precisaríamos definir as variáveis."
   ]
  },
  {
   "cell_type": "code",
   "execution_count": 276,
   "metadata": {
    "scrolled": false
   },
   "outputs": [
    {
     "data": {
      "text/plain": [
       "True"
      ]
     },
     "execution_count": 276,
     "metadata": {},
     "output_type": "execute_result"
    }
   ],
   "source": [
    "isinstance(1.0, float)"
   ]
  },
  {
   "cell_type": "markdown",
   "metadata": {},
   "source": [
    "O sinal de + é definido na classe pelo método especial _add_.\n",
    "\n",
    "Na verdade, os dois comandos abaixo são análogos."
   ]
  },
  {
   "cell_type": "code",
   "execution_count": 277,
   "metadata": {},
   "outputs": [
    {
     "data": {
      "text/plain": [
       "2.0"
      ]
     },
     "execution_count": 277,
     "metadata": {},
     "output_type": "execute_result"
    }
   ],
   "source": [
    "1.0 + 1.0"
   ]
  },
  {
   "cell_type": "code",
   "execution_count": 278,
   "metadata": {},
   "outputs": [
    {
     "data": {
      "text/plain": [
       "2.0"
      ]
     },
     "execution_count": 278,
     "metadata": {},
     "output_type": "execute_result"
    }
   ],
   "source": [
    "1.0.__add__(1.0)"
   ]
  },
  {
   "cell_type": "markdown",
   "metadata": {},
   "source": [
    "Vamos usar a classe _float_ como classe mãe. Vamos herdar todos os seus métodos. \n",
    "\n",
    "Mas vamos modificar o método especial _add_, que define o sinal de +."
   ]
  },
  {
   "cell_type": "code",
   "execution_count": 280,
   "metadata": {
    "scrolled": true
   },
   "outputs": [
    {
     "name": "stdout",
     "output_type": "stream",
     "text": [
      "Esse é o valor do float: 4.0\n",
      "Resposta: -6.0\n"
     ]
    }
   ],
   "source": [
    "class NewFloat(float):\n",
    "    \n",
    "    def __add__(self, y):    # Para quando o NewFloat está à esquerda do sinal de +.\n",
    "        print('Esse é o valor do float:', self)\n",
    "        return self - y\n",
    "    \n",
    "a = NewFloat(4)\n",
    "\n",
    "b = 10\n",
    "\n",
    "print('Resposta:', a + b)"
   ]
  },
  {
   "cell_type": "markdown",
   "metadata": {},
   "source": [
    "Esse exemplo acima mostra o controle que temos sobre tudo no Python.\n",
    "\n",
    "((Não é muito útil, mas é divertido. Se você entende o que está acontecendo aí, você já está entendendo muita coisa de Python.))"
   ]
  },
  {
   "cell_type": "markdown",
   "metadata": {},
   "source": [
    "Vamos ver agora um exemplo de **várias gerações de classes**.\n",
    "\n",
    "Temos a classe inicial (avó, nesse caso). Ela é a mais geral de todas. É a classe Pessoa.\n",
    "\n",
    "Depois temos a classe intermediária (mãe). É a classe Jovem. Já é uma classe mais restrita. Nem todas as pessoas são jovens (temos crianças, adultos, idosos), mas todos os jovens são pessoas. \n",
    "\n",
    "Por fim temos a classe final (filha). É a classe Estudante. Entre os jovens, temos aqueles que são estudantes. \n",
    "\n",
    "Funciona assim: \n",
    "\n",
    "* Todo Jovem é Pessoa, então queremos 'herdar' todos os atributos e métodos que já existem na classe Pessoa e queremos adicionar mais alguns, específicos aos jovens. Essa é a primeira etapa.\n",
    "* Depois, todo Estudante é Jovem. Então queremos 'herdar' tudo que já tem na classe Jovem e adicionar mais algumas informações ou funções específicas aos estudantes. \n",
    "\n",
    "Isso é muito útil, pois podemos aproveitar códigos que já estão prontos, e apenas acrescentar o que queremos.\n",
    "\n",
    "Vamos ver o código."
   ]
  },
  {
   "cell_type": "code",
   "execution_count": 281,
   "metadata": {
    "scrolled": true
   },
   "outputs": [
    {
     "name": "stdout",
     "output_type": "stream",
     "text": [
      "\n",
      "Este é  John .\n",
      "\n",
      "Este é  Bob . Ele é jovem.\n",
      "O estilo de música favorito é: Rock\n",
      "\n",
      "Este é  Paul . Ele é jovem.\n",
      "O estilo de música favorito é: módão\n",
      "Este jovem cursa agronomia .\n"
     ]
    }
   ],
   "source": [
    "class Pessoa:\n",
    "    def __init__(self, nome, idade):\n",
    "        self.nome = nome\n",
    "        self.idade = idade\n",
    "        self.printar_info()\n",
    "        \n",
    "    def printar_info(self):\n",
    "        print('\\nEste é ', self.nome, '.')\n",
    "        \n",
    "class Jovem(Pessoa):\n",
    "    def __init__(self, nome, idade, musica):\n",
    "        self.musica = musica\n",
    "        super().__init__(nome, idade)\n",
    "        \n",
    "    def printar_info(self):\n",
    "        print('\\nEste é ', self.nome, '. Ele é jovem.')\n",
    "        print('O estilo de música favorito é:', self.musica)\n",
    "\n",
    "class Estudante(Jovem):\n",
    "    def __init__(self, nome, idade, musica, curso):\n",
    "        self.curso = curso\n",
    "        super().__init__(nome, idade, musica)\n",
    "        \n",
    "    def printar_info(self):\n",
    "        print('\\nEste é ', self.nome, '. Ele é jovem.')\n",
    "        print('O estilo de música favorito é:', self.musica)\n",
    "        print('Este jovem cursa', self.curso, '.')\n",
    "\n",
    "        \n",
    "john = Pessoa('John', 35)\n",
    "ringo = Jovem('Bob', 23, 'Rock')\n",
    "paul = Estudante('Paul', 22, 'módão', 'agronomia')"
   ]
  },
  {
   "cell_type": "markdown",
   "metadata": {},
   "source": [
    "Pra finalizar essa parte de **Classes e Objetos**, vamos dar uma olhada no exemplo abaixo, que usa o conceito de **heranças múltiplas**.\n",
    "\n",
    "Temos as classes Corrida, Natação e Ciclismo, cada uma com seus atributos e métodos. \n",
    "\n",
    "Queremos criar a modalidade Triathlon, que vai usar as propriedades dessas três classes."
   ]
  },
  {
   "cell_type": "code",
   "execution_count": 289,
   "metadata": {
    "scrolled": true
   },
   "outputs": [
    {
     "data": {
      "text/plain": [
       "['__class__',\n",
       " '__delattr__',\n",
       " '__dict__',\n",
       " '__dir__',\n",
       " '__doc__',\n",
       " '__eq__',\n",
       " '__format__',\n",
       " '__ge__',\n",
       " '__getattribute__',\n",
       " '__gt__',\n",
       " '__hash__',\n",
       " '__init__',\n",
       " '__init_subclass__',\n",
       " '__le__',\n",
       " '__lt__',\n",
       " '__module__',\n",
       " '__ne__',\n",
       " '__new__',\n",
       " '__reduce__',\n",
       " '__reduce_ex__',\n",
       " '__repr__',\n",
       " '__setattr__',\n",
       " '__sizeof__',\n",
       " '__str__',\n",
       " '__subclasshook__',\n",
       " '__weakref__',\n",
       " 'calcular_velocidade_media_corrida',\n",
       " 'distancia_ciclismo',\n",
       " 'distancia_corrida',\n",
       " 'distancia_natacao',\n",
       " 'tempo_corrida']"
      ]
     },
     "execution_count": 289,
     "metadata": {},
     "output_type": "execute_result"
    }
   ],
   "source": [
    "class Corrida:\n",
    "    def __init__(self, distancia_corrida):\n",
    "        self.distancia_corrida =  distancia_corrida\n",
    "        self.tempo_corrida = 20.0\n",
    "        \n",
    "    def calcular_velocidade_media_corrida(self):\n",
    "        self.velocidade_media = self.distancia_corrida/self.tempo_corrida\n",
    "        \n",
    "class Natacao:\n",
    "    def __init__(self, distancia_natacao):\n",
    "        self.distancia_natacao =  distancia_natacao\n",
    "\n",
    "class Ciclismo:\n",
    "    def __init__(self, distancia_ciclismo):\n",
    "        self.distancia_ciclismo =  distancia_ciclismo\n",
    "\n",
    "# Atenção: a ordem das classes entre parênteses aqui é importante, \n",
    "# pois na hora de chamar os métodos, o Python vai começar a procurar\n",
    "# na própria classe, e depois na classe mãe à esquerda, e depois nas próximas,\n",
    "# seguindo a ordem.    \n",
    "class Triathlon(Corrida, Natacao, Ciclismo):  \n",
    "    \n",
    "    def __init__(self, distancia_corrida, distancia_natacao, distancia_ciclismo):\n",
    "        Corrida.__init__(self, distancia_corrida)\n",
    "        Natacao.__init__(self, distancia_natacao)\n",
    "        Ciclismo.__init__(self, distancia_ciclismo)\n",
    "        \n",
    "        \n",
    "olimpico = Triathlon(10.0, 1.5, 40.0)\n",
    "\n",
    "sprint = Triathlon(5.0, 0.75, 20.0)\n",
    "\n",
    "dir(olimpico)"
   ]
  },
  {
   "cell_type": "markdown",
   "metadata": {},
   "source": [
    "Nesse exemplo temos **heranças múltiplas**.\n",
    "\n",
    "Temos uma classe filha com três mães.\n",
    "\n",
    "A Classe Triathlon (filha) herda as propriedades das Classes mãe Corrida, Natacao e Ciclismo.\n",
    "\n",
    "Note que não é possível usar _super()_ nesse caso. ((Talvez seja, mas eu não descobri como.))\n",
    "\n",
    "Por isso usamos o próprio nome da Classe mãe na hora de chamar o _init_ de cada Classe.\n",
    "\n",
    "O comando _dir_ acima mostra que o objeto Triathlon tem os atributos e métodos das três classes mãe.\n",
    "\n",
    "Tem muito mais coisa relacionada a herança e a herança múltipla, mas acho que já está bom por aqui. \n",
    "\n",
    "O objetivo principal era mostrar que isso também é possível.\n",
    "\n",
    "Vamos fechar essa aula por aqui."
   ]
  },
  {
   "cell_type": "markdown",
   "metadata": {},
   "source": [
    "## Tarefa de Casa"
   ]
  },
  {
   "cell_type": "markdown",
   "metadata": {},
   "source": [
    "1. Escreva uma classe chamada Circulo. O raio do círculo é dado como entrada no momento de criar um novo objeto. A classe tem dois métodos: um que calcula a área e outro que calcula a circunferência.\n",
    "1. Crie a classe Complexo, que lida com números complexos. Na criação do objeto devem ser passados a parte real e a parte imaginária do número complexo. Adicione, na classe, o  métodos conjugado e modulo, que retornam o conjugado do número original e o seu módulo, respectivamente.\n",
    "1. Crie a classe ContaCorrente. Os dados de entrada, no momento de criação do objeto, devem ser número da conta, nome do correntista e saldo. Os métodos devem ser alterar_nome, depósito e saque. Depois de cada operação de depósito e saque o saldo atual deve ser impresso na tela. O saldo na criação da conta deve ser _default_, com valor igual a zero. Você não deve permitir que o saldo da conta fique negativo. Caso haja tentativa de saque com valor maior que o saldo, você deve printar a mensagem de saldo insuficiente, e a operação não será realizada.\n",
    "1. Agora você vai usar herança entre classes. Crie uma classe mãe chamada ContaBancaria. Os objetos dessa classe possuem alguns atributos gerais, como nome, número da conta e data de nascimento. Depois, crie a classe ContaCorrente e a classe ContaPoupanca, ambas filhas da classe ContaBancaria. Com a conta corrente, podemos fazer saques, depósitos, aplicação (e resgate) na poupança. Com a conta poupança podemos ter aumento do saldo, com aplicações feitas a partir da conta corrente, e diminuição do saldo, com os resgates, além de termos um rendimento mensal. Printe na tela, a cada operação, o saldo da conta corrente e o saldo da poupança. Inclua um simulador de saldo da poupança após determinado número de meses."
   ]
  },
  {
   "cell_type": "markdown",
   "metadata": {},
   "source": [
    "---"
   ]
  },
  {
   "cell_type": "markdown",
   "metadata": {},
   "source": [
    "---"
   ]
  },
  {
   "cell_type": "markdown",
   "metadata": {},
   "source": [
    "---"
   ]
  },
  {
   "cell_type": "markdown",
   "metadata": {},
   "source": [
    "# Curso de Python: Dia 5 (Bibliotecas, Numpy, Plot, Próximos Passos)"
   ]
  },
  {
   "cell_type": "markdown",
   "metadata": {},
   "source": [
    "## Revisão"
   ]
  },
  {
   "cell_type": "markdown",
   "metadata": {},
   "source": [
    "Resolvendo um dos exercícios da tarefa de casa da aula anterior."
   ]
  },
  {
   "cell_type": "code",
   "execution_count": 308,
   "metadata": {},
   "outputs": [
    {
     "name": "stdout",
     "output_type": "stream",
     "text": [
      "O saldo da conta de João é de R$ 0.00.\n",
      "O saldo da conta de João é de R$ 20.00.\n",
      "O saldo da conta de João é de R$ 10.00.\n",
      "Operação não permitida. Saldo insuficiente.\n",
      "O saldo da conta de João é de R$ 10.00.\n",
      "O nome do dono da conta foi alterado de João para José.\n",
      "O saldo da conta de José é de R$ 40.00.\n"
     ]
    }
   ],
   "source": [
    "class ContaCorrente:\n",
    "    \n",
    "    def __init__(self, nome, conta, saldo = 0):\n",
    "        self.nome = nome\n",
    "        self.conta = conta\n",
    "        self.saldo = saldo\n",
    "        self.printar_saldo()\n",
    "        \n",
    "    def alterar_nome(self, novo_nome):\n",
    "        print(f'O nome do dono da conta foi alterado de {self.nome} para {novo_nome}.')\n",
    "        self.nome = novo_nome\n",
    "        \n",
    "    def printar_saldo(self):\n",
    "        print(f'O saldo da conta de {self.nome} é de R$ {self.saldo:.2f}.')\n",
    "        \n",
    "    def deposito(self, valor_deposito):\n",
    "        self.saldo += valor_deposito\n",
    "        self.printar_saldo()\n",
    "        \n",
    "    def saque(self, valor_saque):\n",
    "        saldo_novo = self.saldo - valor_saque\n",
    "        if saldo_novo < 0:\n",
    "            print(\"Operação não permitida. Saldo insuficiente.\")\n",
    "            self.printar_saldo()\n",
    "        else:\n",
    "            self.saldo = saldo_novo\n",
    "            self.printar_saldo()\n",
    "        \n",
    "conta1 = ContaCorrente('João', 1234)\n",
    "\n",
    "conta1.deposito(20)\n",
    "\n",
    "conta1.saque(10)\n",
    "\n",
    "conta1.saque(20)\n",
    "\n",
    "conta1.alterar_nome('José')\n",
    "\n",
    "conta1.deposito(30)"
   ]
  },
  {
   "cell_type": "markdown",
   "metadata": {},
   "source": [
    "## Bibliotecas Externas"
   ]
  },
  {
   "cell_type": "markdown",
   "metadata": {},
   "source": [
    "O Python possui algumas funções internas, como vimos nas aulas anteriores. \n",
    "\n",
    "Essas funções podem ser usadas diretamente no seu código.\n",
    "\n",
    "A grande vantagem do Python, porém, é o vasto repertório de **bibliotecas externas** que podem ser utilizadas.\n",
    "\n",
    "((Obs.: temos que saber usar primeiro o que já tem no Python, para entender o seu funcionamento. Depois fica muito mais fácil entender essas bibliotecas externas.))\n",
    "\n",
    "**Bibliotecas** são conjuntos de variáveis, classes e funções que podemos usar em nossos códigos.\n",
    "\n",
    "Para usar funções dessas bibliotecas em nossos programas, usamos _import BIBLIOTECA_ no início do código.\n",
    "\n",
    "O Python possui muitas (milhares) bibliotecas externas. \n",
    "\n",
    "Essas bibliotecas são desenvolvidas por terceiros e por empresas.\n",
    "\n",
    "Algumas bibliotecas muito utilizadas são:\n",
    "\n",
    "1. sys\n",
    "1. os\n",
    "1. Numpy\n",
    "1. Matplotlib\n",
    "1. Plotly\n",
    "1. Pandas\n",
    "1. OpenCV\n",
    "1. TensorFlow\n",
    "1. Scipy\n",
    "1. PyGame"
   ]
  },
  {
   "cell_type": "markdown",
   "metadata": {},
   "source": [
    "Algumas bibliotecas já vêm instaladas no Python, então basta dar o _import_.\n",
    "\n",
    "Essas são as chamadas **Bibliotecas Padrão** do Python.\n",
    "\n",
    "Dê uma olhada nesse site:\n",
    "\n",
    "> https://docs.python.org/pt-br/3/tutorial/stdlib.html"
   ]
  },
  {
   "cell_type": "markdown",
   "metadata": {},
   "source": [
    "A maioria das bibliotecas, no entanto, precisa ser instalada. Mas isso é tranquilo.\n",
    "\n",
    "((Pesquise no Google \"Python instalar biblioteca NOME DA BIBLIOTECA\" e divirta-se.))\n",
    "\n",
    "Você desenvolve o seu código e usa as funções dessas bibliotecas.\n",
    "\n",
    "Também temos vários frameworks em Python, sendo o Django o mais famoso, principalmente para desenvolvimento web.\n",
    "\n",
    "Diferença entre **biblioteca** e **framework**. \n",
    "\n",
    "* A biblioteca você usa no seu código, ou seja, você faz o seu código e usa métodos dessa biblioteca dentro do seu código. \n",
    "\n",
    "* No caso do framework, você constroi o seu código em cima do framework. O framework já tem uma estrutura pronta, você usa essa estrutura e monta o que você quer em cima."
   ]
  },
  {
   "cell_type": "markdown",
   "metadata": {},
   "source": [
    "Vamos ver aqui alguns exemplos com duas bibliotecas muito usadas na programação científica: a ***Numpy*** e a ***Matplotlib***."
   ]
  },
  {
   "cell_type": "markdown",
   "metadata": {},
   "source": [
    "## Numpy"
   ]
  },
  {
   "cell_type": "code",
   "execution_count": 1,
   "metadata": {},
   "outputs": [],
   "source": [
    "import numpy as np"
   ]
  },
  {
   "cell_type": "markdown",
   "metadata": {},
   "source": [
    "No código acima estamos importando a biblioteca _numpy_ e estamos dando a ela o apelido _np_.\n",
    "\n",
    "Ou seja, aqui no nosso código ela será chamada por _np_.\n",
    "\n",
    "Pra conhecer as funções do _numpy_, podemos dar um _dir_.\n",
    "\n",
    "((Dê uma olhada com calma nas funções abaixo.))"
   ]
  },
  {
   "cell_type": "code",
   "execution_count": 3,
   "metadata": {},
   "outputs": [
    {
     "data": {
      "text/plain": [
       "['ALLOW_THREADS',\n",
       " 'AxisError',\n",
       " 'BUFSIZE',\n",
       " 'CLIP',\n",
       " 'ComplexWarning',\n",
       " 'DataSource',\n",
       " 'ERR_CALL',\n",
       " 'ERR_DEFAULT',\n",
       " 'ERR_IGNORE',\n",
       " 'ERR_LOG',\n",
       " 'ERR_PRINT',\n",
       " 'ERR_RAISE',\n",
       " 'ERR_WARN',\n",
       " 'FLOATING_POINT_SUPPORT',\n",
       " 'FPE_DIVIDEBYZERO',\n",
       " 'FPE_INVALID',\n",
       " 'FPE_OVERFLOW',\n",
       " 'FPE_UNDERFLOW',\n",
       " 'False_',\n",
       " 'Inf',\n",
       " 'Infinity',\n",
       " 'MAXDIMS',\n",
       " 'MAY_SHARE_BOUNDS',\n",
       " 'MAY_SHARE_EXACT',\n",
       " 'MachAr',\n",
       " 'ModuleDeprecationWarning',\n",
       " 'NAN',\n",
       " 'NINF',\n",
       " 'NZERO',\n",
       " 'NaN',\n",
       " 'PINF',\n",
       " 'PZERO',\n",
       " 'RAISE',\n",
       " 'RankWarning',\n",
       " 'SHIFT_DIVIDEBYZERO',\n",
       " 'SHIFT_INVALID',\n",
       " 'SHIFT_OVERFLOW',\n",
       " 'SHIFT_UNDERFLOW',\n",
       " 'ScalarType',\n",
       " 'Tester',\n",
       " 'TooHardError',\n",
       " 'True_',\n",
       " 'UFUNC_BUFSIZE_DEFAULT',\n",
       " 'UFUNC_PYVALS_NAME',\n",
       " 'VisibleDeprecationWarning',\n",
       " 'WRAP',\n",
       " '_NoValue',\n",
       " '_UFUNC_API',\n",
       " '__NUMPY_SETUP__',\n",
       " '__all__',\n",
       " '__builtins__',\n",
       " '__cached__',\n",
       " '__config__',\n",
       " '__dir__',\n",
       " '__doc__',\n",
       " '__file__',\n",
       " '__getattr__',\n",
       " '__git_revision__',\n",
       " '__loader__',\n",
       " '__mkl_version__',\n",
       " '__name__',\n",
       " '__package__',\n",
       " '__path__',\n",
       " '__spec__',\n",
       " '__version__',\n",
       " '_add_newdoc_ufunc',\n",
       " '_distributor_init',\n",
       " '_globals',\n",
       " '_mat',\n",
       " '_pytesttester',\n",
       " 'abs',\n",
       " 'absolute',\n",
       " 'add',\n",
       " 'add_docstring',\n",
       " 'add_newdoc',\n",
       " 'add_newdoc_ufunc',\n",
       " 'alen',\n",
       " 'all',\n",
       " 'allclose',\n",
       " 'alltrue',\n",
       " 'amax',\n",
       " 'amin',\n",
       " 'angle',\n",
       " 'any',\n",
       " 'append',\n",
       " 'apply_along_axis',\n",
       " 'apply_over_axes',\n",
       " 'arange',\n",
       " 'arccos',\n",
       " 'arccosh',\n",
       " 'arcsin',\n",
       " 'arcsinh',\n",
       " 'arctan',\n",
       " 'arctan2',\n",
       " 'arctanh',\n",
       " 'argmax',\n",
       " 'argmin',\n",
       " 'argpartition',\n",
       " 'argsort',\n",
       " 'argwhere',\n",
       " 'around',\n",
       " 'array',\n",
       " 'array2string',\n",
       " 'array_equal',\n",
       " 'array_equiv',\n",
       " 'array_repr',\n",
       " 'array_split',\n",
       " 'array_str',\n",
       " 'asanyarray',\n",
       " 'asarray',\n",
       " 'asarray_chkfinite',\n",
       " 'ascontiguousarray',\n",
       " 'asfarray',\n",
       " 'asfortranarray',\n",
       " 'asmatrix',\n",
       " 'asscalar',\n",
       " 'atleast_1d',\n",
       " 'atleast_2d',\n",
       " 'atleast_3d',\n",
       " 'average',\n",
       " 'bartlett',\n",
       " 'base_repr',\n",
       " 'binary_repr',\n",
       " 'bincount',\n",
       " 'bitwise_and',\n",
       " 'bitwise_not',\n",
       " 'bitwise_or',\n",
       " 'bitwise_xor',\n",
       " 'blackman',\n",
       " 'block',\n",
       " 'bmat',\n",
       " 'bool',\n",
       " 'bool8',\n",
       " 'bool_',\n",
       " 'broadcast',\n",
       " 'broadcast_arrays',\n",
       " 'broadcast_to',\n",
       " 'busday_count',\n",
       " 'busday_offset',\n",
       " 'busdaycalendar',\n",
       " 'byte',\n",
       " 'byte_bounds',\n",
       " 'bytes0',\n",
       " 'bytes_',\n",
       " 'c_',\n",
       " 'can_cast',\n",
       " 'cast',\n",
       " 'cbrt',\n",
       " 'cdouble',\n",
       " 'ceil',\n",
       " 'cfloat',\n",
       " 'char',\n",
       " 'character',\n",
       " 'chararray',\n",
       " 'choose',\n",
       " 'clip',\n",
       " 'clongdouble',\n",
       " 'clongfloat',\n",
       " 'column_stack',\n",
       " 'common_type',\n",
       " 'compare_chararrays',\n",
       " 'compat',\n",
       " 'complex',\n",
       " 'complex128',\n",
       " 'complex256',\n",
       " 'complex64',\n",
       " 'complex_',\n",
       " 'complexfloating',\n",
       " 'compress',\n",
       " 'concatenate',\n",
       " 'conj',\n",
       " 'conjugate',\n",
       " 'convolve',\n",
       " 'copy',\n",
       " 'copysign',\n",
       " 'copyto',\n",
       " 'core',\n",
       " 'corrcoef',\n",
       " 'correlate',\n",
       " 'cos',\n",
       " 'cosh',\n",
       " 'count_nonzero',\n",
       " 'cov',\n",
       " 'cross',\n",
       " 'csingle',\n",
       " 'ctypeslib',\n",
       " 'cumprod',\n",
       " 'cumproduct',\n",
       " 'cumsum',\n",
       " 'datetime64',\n",
       " 'datetime_as_string',\n",
       " 'datetime_data',\n",
       " 'deg2rad',\n",
       " 'degrees',\n",
       " 'delete',\n",
       " 'deprecate',\n",
       " 'deprecate_with_doc',\n",
       " 'diag',\n",
       " 'diag_indices',\n",
       " 'diag_indices_from',\n",
       " 'diagflat',\n",
       " 'diagonal',\n",
       " 'diff',\n",
       " 'digitize',\n",
       " 'disp',\n",
       " 'divide',\n",
       " 'divmod',\n",
       " 'dot',\n",
       " 'double',\n",
       " 'dsplit',\n",
       " 'dstack',\n",
       " 'dtype',\n",
       " 'e',\n",
       " 'ediff1d',\n",
       " 'einsum',\n",
       " 'einsum_path',\n",
       " 'emath',\n",
       " 'empty',\n",
       " 'empty_like',\n",
       " 'equal',\n",
       " 'errstate',\n",
       " 'euler_gamma',\n",
       " 'exp',\n",
       " 'exp2',\n",
       " 'expand_dims',\n",
       " 'expm1',\n",
       " 'extract',\n",
       " 'eye',\n",
       " 'fabs',\n",
       " 'fastCopyAndTranspose',\n",
       " 'fft',\n",
       " 'fill_diagonal',\n",
       " 'find_common_type',\n",
       " 'finfo',\n",
       " 'fix',\n",
       " 'flatiter',\n",
       " 'flatnonzero',\n",
       " 'flexible',\n",
       " 'flip',\n",
       " 'fliplr',\n",
       " 'flipud',\n",
       " 'float',\n",
       " 'float128',\n",
       " 'float16',\n",
       " 'float32',\n",
       " 'float64',\n",
       " 'float_',\n",
       " 'float_power',\n",
       " 'floating',\n",
       " 'floor',\n",
       " 'floor_divide',\n",
       " 'fmax',\n",
       " 'fmin',\n",
       " 'fmod',\n",
       " 'format_float_positional',\n",
       " 'format_float_scientific',\n",
       " 'format_parser',\n",
       " 'frexp',\n",
       " 'frombuffer',\n",
       " 'fromfile',\n",
       " 'fromfunction',\n",
       " 'fromiter',\n",
       " 'frompyfunc',\n",
       " 'fromregex',\n",
       " 'fromstring',\n",
       " 'full',\n",
       " 'full_like',\n",
       " 'fv',\n",
       " 'gcd',\n",
       " 'generic',\n",
       " 'genfromtxt',\n",
       " 'geomspace',\n",
       " 'get_array_wrap',\n",
       " 'get_include',\n",
       " 'get_printoptions',\n",
       " 'getbufsize',\n",
       " 'geterr',\n",
       " 'geterrcall',\n",
       " 'geterrobj',\n",
       " 'gradient',\n",
       " 'greater',\n",
       " 'greater_equal',\n",
       " 'half',\n",
       " 'hamming',\n",
       " 'hanning',\n",
       " 'heaviside',\n",
       " 'histogram',\n",
       " 'histogram2d',\n",
       " 'histogram_bin_edges',\n",
       " 'histogramdd',\n",
       " 'hsplit',\n",
       " 'hstack',\n",
       " 'hypot',\n",
       " 'i0',\n",
       " 'identity',\n",
       " 'iinfo',\n",
       " 'imag',\n",
       " 'in1d',\n",
       " 'index_exp',\n",
       " 'indices',\n",
       " 'inexact',\n",
       " 'inf',\n",
       " 'info',\n",
       " 'infty',\n",
       " 'inner',\n",
       " 'insert',\n",
       " 'int',\n",
       " 'int0',\n",
       " 'int16',\n",
       " 'int32',\n",
       " 'int64',\n",
       " 'int8',\n",
       " 'int_',\n",
       " 'intc',\n",
       " 'integer',\n",
       " 'interp',\n",
       " 'intersect1d',\n",
       " 'intp',\n",
       " 'invert',\n",
       " 'ipmt',\n",
       " 'irr',\n",
       " 'is_busday',\n",
       " 'isclose',\n",
       " 'iscomplex',\n",
       " 'iscomplexobj',\n",
       " 'isfinite',\n",
       " 'isfortran',\n",
       " 'isin',\n",
       " 'isinf',\n",
       " 'isnan',\n",
       " 'isnat',\n",
       " 'isneginf',\n",
       " 'isposinf',\n",
       " 'isreal',\n",
       " 'isrealobj',\n",
       " 'isscalar',\n",
       " 'issctype',\n",
       " 'issubclass_',\n",
       " 'issubdtype',\n",
       " 'issubsctype',\n",
       " 'iterable',\n",
       " 'ix_',\n",
       " 'kaiser',\n",
       " 'kernel_version',\n",
       " 'kron',\n",
       " 'lcm',\n",
       " 'ldexp',\n",
       " 'left_shift',\n",
       " 'less',\n",
       " 'less_equal',\n",
       " 'lexsort',\n",
       " 'lib',\n",
       " 'linalg',\n",
       " 'linspace',\n",
       " 'little_endian',\n",
       " 'load',\n",
       " 'loads',\n",
       " 'loadtxt',\n",
       " 'log',\n",
       " 'log10',\n",
       " 'log1p',\n",
       " 'log2',\n",
       " 'logaddexp',\n",
       " 'logaddexp2',\n",
       " 'logical_and',\n",
       " 'logical_not',\n",
       " 'logical_or',\n",
       " 'logical_xor',\n",
       " 'logspace',\n",
       " 'long',\n",
       " 'longcomplex',\n",
       " 'longdouble',\n",
       " 'longfloat',\n",
       " 'longlong',\n",
       " 'lookfor',\n",
       " 'ma',\n",
       " 'mafromtxt',\n",
       " 'mask_indices',\n",
       " 'mat',\n",
       " 'math',\n",
       " 'matmul',\n",
       " 'matrix',\n",
       " 'matrixlib',\n",
       " 'max',\n",
       " 'maximum',\n",
       " 'maximum_sctype',\n",
       " 'may_share_memory',\n",
       " 'mean',\n",
       " 'median',\n",
       " 'memmap',\n",
       " 'meshgrid',\n",
       " 'mgrid',\n",
       " 'min',\n",
       " 'min_scalar_type',\n",
       " 'minimum',\n",
       " 'mintypecode',\n",
       " 'mirr',\n",
       " 'mkl',\n",
       " 'mod',\n",
       " 'modf',\n",
       " 'moveaxis',\n",
       " 'msort',\n",
       " 'multiply',\n",
       " 'nan',\n",
       " 'nan_to_num',\n",
       " 'nanargmax',\n",
       " 'nanargmin',\n",
       " 'nancumprod',\n",
       " 'nancumsum',\n",
       " 'nanmax',\n",
       " 'nanmean',\n",
       " 'nanmedian',\n",
       " 'nanmin',\n",
       " 'nanpercentile',\n",
       " 'nanprod',\n",
       " 'nanquantile',\n",
       " 'nanstd',\n",
       " 'nansum',\n",
       " 'nanvar',\n",
       " 'nbytes',\n",
       " 'ndarray',\n",
       " 'ndenumerate',\n",
       " 'ndfromtxt',\n",
       " 'ndim',\n",
       " 'ndindex',\n",
       " 'nditer',\n",
       " 'negative',\n",
       " 'nested_iters',\n",
       " 'newaxis',\n",
       " 'nextafter',\n",
       " 'nonzero',\n",
       " 'not_equal',\n",
       " 'nper',\n",
       " 'npv',\n",
       " 'numarray',\n",
       " 'number',\n",
       " 'obj2sctype',\n",
       " 'object',\n",
       " 'object0',\n",
       " 'object_',\n",
       " 'ogrid',\n",
       " 'oldnumeric',\n",
       " 'ones',\n",
       " 'ones_like',\n",
       " 'os',\n",
       " 'outer',\n",
       " 'packbits',\n",
       " 'pad',\n",
       " 'partition',\n",
       " 'percentile',\n",
       " 'pi',\n",
       " 'piecewise',\n",
       " 'place',\n",
       " 'pmt',\n",
       " 'poly',\n",
       " 'poly1d',\n",
       " 'polyadd',\n",
       " 'polyder',\n",
       " 'polydiv',\n",
       " 'polyfit',\n",
       " 'polyint',\n",
       " 'polymul',\n",
       " 'polynomial',\n",
       " 'polysub',\n",
       " 'polyval',\n",
       " 'positive',\n",
       " 'power',\n",
       " 'ppmt',\n",
       " 'printoptions',\n",
       " 'prod',\n",
       " 'product',\n",
       " 'promote_types',\n",
       " 'ptp',\n",
       " 'put',\n",
       " 'put_along_axis',\n",
       " 'putmask',\n",
       " 'pv',\n",
       " 'quantile',\n",
       " 'r_',\n",
       " 'rad2deg',\n",
       " 'radians',\n",
       " 'random',\n",
       " 'rate',\n",
       " 'ravel',\n",
       " 'ravel_multi_index',\n",
       " 'real',\n",
       " 'real_if_close',\n",
       " 'rec',\n",
       " 'recarray',\n",
       " 'recfromcsv',\n",
       " 'recfromtxt',\n",
       " 'reciprocal',\n",
       " 'record',\n",
       " 'remainder',\n",
       " 'repeat',\n",
       " 'require',\n",
       " 'reshape',\n",
       " 'resize',\n",
       " 'result_type',\n",
       " 'right_shift',\n",
       " 'rint',\n",
       " 'roll',\n",
       " 'rollaxis',\n",
       " 'roots',\n",
       " 'rot90',\n",
       " 'round',\n",
       " 'round_',\n",
       " 'row_stack',\n",
       " 's_',\n",
       " 'safe_eval',\n",
       " 'save',\n",
       " 'savetxt',\n",
       " 'savez',\n",
       " 'savez_compressed',\n",
       " 'sctype2char',\n",
       " 'sctypeDict',\n",
       " 'sctypeNA',\n",
       " 'sctypes',\n",
       " 'searchsorted',\n",
       " 'select',\n",
       " 'set_numeric_ops',\n",
       " 'set_printoptions',\n",
       " 'set_string_function',\n",
       " 'setbufsize',\n",
       " 'setdiff1d',\n",
       " 'seterr',\n",
       " 'seterrcall',\n",
       " 'seterrobj',\n",
       " 'setxor1d',\n",
       " 'shape',\n",
       " 'shares_memory',\n",
       " 'short',\n",
       " 'show_config',\n",
       " 'sign',\n",
       " 'signbit',\n",
       " 'signedinteger',\n",
       " 'sin',\n",
       " 'sinc',\n",
       " 'single',\n",
       " 'singlecomplex',\n",
       " 'sinh',\n",
       " 'size',\n",
       " 'sometrue',\n",
       " 'sort',\n",
       " 'sort_complex',\n",
       " 'source',\n",
       " 'spacing',\n",
       " 'split',\n",
       " 'sqrt',\n",
       " 'square',\n",
       " 'squeeze',\n",
       " 'stack',\n",
       " 'std',\n",
       " 'str',\n",
       " 'str0',\n",
       " 'str_',\n",
       " 'string_',\n",
       " 'subtract',\n",
       " 'sum',\n",
       " 'swapaxes',\n",
       " 'sys',\n",
       " 'take',\n",
       " 'take_along_axis',\n",
       " 'tan',\n",
       " 'tanh',\n",
       " 'tensordot',\n",
       " 'test',\n",
       " 'testing',\n",
       " 'tile',\n",
       " 'timedelta64',\n",
       " 'trace',\n",
       " 'tracemalloc_domain',\n",
       " 'transpose',\n",
       " 'trapz',\n",
       " 'tri',\n",
       " 'tril',\n",
       " 'tril_indices',\n",
       " 'tril_indices_from',\n",
       " 'trim_zeros',\n",
       " 'triu',\n",
       " 'triu_indices',\n",
       " 'triu_indices_from',\n",
       " 'true_divide',\n",
       " 'trunc',\n",
       " 'typeDict',\n",
       " 'typeNA',\n",
       " 'typecodes',\n",
       " 'typename',\n",
       " 'ubyte',\n",
       " 'ufunc',\n",
       " 'uint',\n",
       " 'uint0',\n",
       " 'uint16',\n",
       " 'uint32',\n",
       " 'uint64',\n",
       " 'uint8',\n",
       " 'uintc',\n",
       " 'uintp',\n",
       " 'ulonglong',\n",
       " 'unicode',\n",
       " 'unicode_',\n",
       " 'union1d',\n",
       " 'unique',\n",
       " 'unpackbits',\n",
       " 'unravel_index',\n",
       " 'unsignedinteger',\n",
       " 'unwrap',\n",
       " 'use_hugepage',\n",
       " 'ushort',\n",
       " 'vander',\n",
       " 'var',\n",
       " 'vdot',\n",
       " 'vectorize',\n",
       " 'version',\n",
       " 'void',\n",
       " 'void0',\n",
       " 'vsplit',\n",
       " 'vstack',\n",
       " 'warnings',\n",
       " 'where',\n",
       " 'who',\n",
       " 'zeros',\n",
       " 'zeros_like']"
      ]
     },
     "execution_count": 3,
     "metadata": {},
     "output_type": "execute_result"
    }
   ],
   "source": [
    "dir(np)"
   ]
  },
  {
   "cell_type": "markdown",
   "metadata": {},
   "source": [
    "Acima, primeiro temos os métodos com inicial maiúscula. Esses são avisos de erro. ((Ou algo assim.))\n",
    "\n",
    "Depois temos os métodos especiais, iniciados por um ou dois underscores. \n",
    "\n",
    "Muito raramente nós usamos esses métodos. \n",
    "\n",
    "Nós vamos usar mesmo as funções _abs_ e todas que estão abaixo.\n",
    "\n",
    "Note quantas funções temos.\n",
    "\n",
    "Essa biblioteca é **muito poderosa** e muito usada na programação cientifíca.\n",
    "\n",
    "Vou mostrar aqui algumas funções apenas. ((Para saber mais, https://numpy.org/ .))\n",
    "\n",
    "Para usar essas funções devemos escrever _np.NOME_DA_FUNÇÃO_ .\n",
    "\n",
    "Pra saber um pouco mais sobre uma determinada função, podemos dar um _help_."
   ]
  },
  {
   "cell_type": "code",
   "execution_count": 311,
   "metadata": {},
   "outputs": [
    {
     "name": "stdout",
     "output_type": "stream",
     "text": [
      "Help on built-in function array in module numpy:\n",
      "\n",
      "array(...)\n",
      "    array(object, dtype=None, *, copy=True, order='K', subok=False, ndmin=0)\n",
      "    \n",
      "    Create an array.\n",
      "    \n",
      "    Parameters\n",
      "    ----------\n",
      "    object : array_like\n",
      "        An array, any object exposing the array interface, an object whose\n",
      "        __array__ method returns an array, or any (nested) sequence.\n",
      "    dtype : data-type, optional\n",
      "        The desired data-type for the array.  If not given, then the type will\n",
      "        be determined as the minimum type required to hold the objects in the\n",
      "        sequence.\n",
      "    copy : bool, optional\n",
      "        If true (default), then the object is copied.  Otherwise, a copy will\n",
      "        only be made if __array__ returns a copy, if obj is a nested sequence,\n",
      "        or if a copy is needed to satisfy any of the other requirements\n",
      "        (`dtype`, `order`, etc.).\n",
      "    order : {'K', 'A', 'C', 'F'}, optional\n",
      "        Specify the memory layout of the array. If object is not an array, the\n",
      "        newly created array will be in C order (row major) unless 'F' is\n",
      "        specified, in which case it will be in Fortran order (column major).\n",
      "        If object is an array the following holds.\n",
      "    \n",
      "        ===== ========= ===================================================\n",
      "        order  no copy                     copy=True\n",
      "        ===== ========= ===================================================\n",
      "        'K'   unchanged F & C order preserved, otherwise most similar order\n",
      "        'A'   unchanged F order if input is F and not C, otherwise C order\n",
      "        'C'   C order   C order\n",
      "        'F'   F order   F order\n",
      "        ===== ========= ===================================================\n",
      "    \n",
      "        When ``copy=False`` and a copy is made for other reasons, the result is\n",
      "        the same as if ``copy=True``, with some exceptions for `A`, see the\n",
      "        Notes section. The default order is 'K'.\n",
      "    subok : bool, optional\n",
      "        If True, then sub-classes will be passed-through, otherwise\n",
      "        the returned array will be forced to be a base-class array (default).\n",
      "    ndmin : int, optional\n",
      "        Specifies the minimum number of dimensions that the resulting\n",
      "        array should have.  Ones will be pre-pended to the shape as\n",
      "        needed to meet this requirement.\n",
      "    \n",
      "    Returns\n",
      "    -------\n",
      "    out : ndarray\n",
      "        An array object satisfying the specified requirements.\n",
      "    \n",
      "    See Also\n",
      "    --------\n",
      "    empty_like : Return an empty array with shape and type of input.\n",
      "    ones_like : Return an array of ones with shape and type of input.\n",
      "    zeros_like : Return an array of zeros with shape and type of input.\n",
      "    full_like : Return a new array with shape of input filled with value.\n",
      "    empty : Return a new uninitialized array.\n",
      "    ones : Return a new array setting values to one.\n",
      "    zeros : Return a new array setting values to zero.\n",
      "    full : Return a new array of given shape filled with value.\n",
      "    \n",
      "    \n",
      "    Notes\n",
      "    -----\n",
      "    When order is 'A' and `object` is an array in neither 'C' nor 'F' order,\n",
      "    and a copy is forced by a change in dtype, then the order of the result is\n",
      "    not necessarily 'C' as expected. This is likely a bug.\n",
      "    \n",
      "    Examples\n",
      "    --------\n",
      "    >>> np.array([1, 2, 3])\n",
      "    array([1, 2, 3])\n",
      "    \n",
      "    Upcasting:\n",
      "    \n",
      "    >>> np.array([1, 2, 3.0])\n",
      "    array([ 1.,  2.,  3.])\n",
      "    \n",
      "    More than one dimension:\n",
      "    \n",
      "    >>> np.array([[1, 2], [3, 4]])\n",
      "    array([[1, 2],\n",
      "           [3, 4]])\n",
      "    \n",
      "    Minimum dimensions 2:\n",
      "    \n",
      "    >>> np.array([1, 2, 3], ndmin=2)\n",
      "    array([[1, 2, 3]])\n",
      "    \n",
      "    Type provided:\n",
      "    \n",
      "    >>> np.array([1, 2, 3], dtype=complex)\n",
      "    array([ 1.+0.j,  2.+0.j,  3.+0.j])\n",
      "    \n",
      "    Data-type consisting of more than one element:\n",
      "    \n",
      "    >>> x = np.array([(1,2),(3,4)],dtype=[('a','<i4'),('b','<i4')])\n",
      "    >>> x['a']\n",
      "    array([1, 3])\n",
      "    \n",
      "    Creating an array from sub-classes:\n",
      "    \n",
      "    >>> np.array(np.mat('1 2; 3 4'))\n",
      "    array([[1, 2],\n",
      "           [3, 4]])\n",
      "    \n",
      "    >>> np.array(np.mat('1 2; 3 4'), subok=True)\n",
      "    matrix([[1, 2],\n",
      "            [3, 4]])\n",
      "\n"
     ]
    }
   ],
   "source": [
    "#help(np.abs)\n",
    "#help(np.zeros)\n",
    "#help(np.linalg)\n",
    "help(np.array)"
   ]
  },
  {
   "cell_type": "markdown",
   "metadata": {},
   "source": [
    "O _help_ da _numpy_ é muito detalhado, tem até alguns exemplos. \n",
    "\n",
    "Com o _numpy_ podemos criar vetores e matrizes.\n",
    "\n",
    "Vamos usar essa função _array_."
   ]
  },
  {
   "cell_type": "code",
   "execution_count": 312,
   "metadata": {},
   "outputs": [
    {
     "name": "stdout",
     "output_type": "stream",
     "text": [
      "[ 7. -3. 29.]\n",
      "\n",
      "\n",
      "7.0\n",
      "-3.0\n",
      "29.0\n",
      "\n",
      "\n",
      "<class 'numpy.ndarray'>\n"
     ]
    }
   ],
   "source": [
    "a = np.array([7.0, -3.0, 29.0])\n",
    "\n",
    "print(a)\n",
    "\n",
    "print('\\n')\n",
    "\n",
    "print(a[0])\n",
    "print(a[1])\n",
    "print(a[2])\n",
    "\n",
    "print('\\n')\n",
    "\n",
    "print(type(a))"
   ]
  },
  {
   "cell_type": "code",
   "execution_count": 314,
   "metadata": {},
   "outputs": [
    {
     "name": "stdout",
     "output_type": "stream",
     "text": [
      "[[ 5.  1.  0.]\n",
      " [ 1.  7.  2.]\n",
      " [ 0.  2. 10.]]\n",
      "\n",
      "\n",
      "2.0\n",
      "10.0\n",
      "5.0\n",
      "\n",
      "\n",
      "5.0\n",
      "1.0\n",
      "0.0\n",
      "1.0\n",
      "7.0\n",
      "2.0\n",
      "0.0\n",
      "2.0\n",
      "10.0\n"
     ]
    }
   ],
   "source": [
    "b = np.array([[5.0, 1.0, 0.0], [1.0, 7.0, 2.0], [0.0, 2.0, 10.0]])\n",
    "\n",
    "print(b)\n",
    "\n",
    "print('\\n')\n",
    "\n",
    "print(b[1,2])\n",
    "print(b[2,2])\n",
    "print(b[0,0])\n",
    "\n",
    "print('\\n')\n",
    "\n",
    "for i in range(3):\n",
    "    for j in range(3):\n",
    "        print(b[i,j])"
   ]
  },
  {
   "cell_type": "markdown",
   "metadata": {},
   "source": [
    "A vantagem de usar uma matriz do _numpy_ em vez de uma lista do Python é podemos fazer muitas coisas com essa matriz do _numpy_."
   ]
  },
  {
   "cell_type": "code",
   "execution_count": 315,
   "metadata": {},
   "outputs": [
    {
     "data": {
      "text/plain": [
       "['T',\n",
       " '__abs__',\n",
       " '__add__',\n",
       " '__and__',\n",
       " '__array__',\n",
       " '__array_finalize__',\n",
       " '__array_function__',\n",
       " '__array_interface__',\n",
       " '__array_prepare__',\n",
       " '__array_priority__',\n",
       " '__array_struct__',\n",
       " '__array_ufunc__',\n",
       " '__array_wrap__',\n",
       " '__bool__',\n",
       " '__class__',\n",
       " '__complex__',\n",
       " '__contains__',\n",
       " '__copy__',\n",
       " '__deepcopy__',\n",
       " '__delattr__',\n",
       " '__delitem__',\n",
       " '__dir__',\n",
       " '__divmod__',\n",
       " '__doc__',\n",
       " '__eq__',\n",
       " '__float__',\n",
       " '__floordiv__',\n",
       " '__format__',\n",
       " '__ge__',\n",
       " '__getattribute__',\n",
       " '__getitem__',\n",
       " '__gt__',\n",
       " '__hash__',\n",
       " '__iadd__',\n",
       " '__iand__',\n",
       " '__ifloordiv__',\n",
       " '__ilshift__',\n",
       " '__imatmul__',\n",
       " '__imod__',\n",
       " '__imul__',\n",
       " '__index__',\n",
       " '__init__',\n",
       " '__init_subclass__',\n",
       " '__int__',\n",
       " '__invert__',\n",
       " '__ior__',\n",
       " '__ipow__',\n",
       " '__irshift__',\n",
       " '__isub__',\n",
       " '__iter__',\n",
       " '__itruediv__',\n",
       " '__ixor__',\n",
       " '__le__',\n",
       " '__len__',\n",
       " '__lshift__',\n",
       " '__lt__',\n",
       " '__matmul__',\n",
       " '__mod__',\n",
       " '__mul__',\n",
       " '__ne__',\n",
       " '__neg__',\n",
       " '__new__',\n",
       " '__or__',\n",
       " '__pos__',\n",
       " '__pow__',\n",
       " '__radd__',\n",
       " '__rand__',\n",
       " '__rdivmod__',\n",
       " '__reduce__',\n",
       " '__reduce_ex__',\n",
       " '__repr__',\n",
       " '__rfloordiv__',\n",
       " '__rlshift__',\n",
       " '__rmatmul__',\n",
       " '__rmod__',\n",
       " '__rmul__',\n",
       " '__ror__',\n",
       " '__rpow__',\n",
       " '__rrshift__',\n",
       " '__rshift__',\n",
       " '__rsub__',\n",
       " '__rtruediv__',\n",
       " '__rxor__',\n",
       " '__setattr__',\n",
       " '__setitem__',\n",
       " '__setstate__',\n",
       " '__sizeof__',\n",
       " '__str__',\n",
       " '__sub__',\n",
       " '__subclasshook__',\n",
       " '__truediv__',\n",
       " '__xor__',\n",
       " 'all',\n",
       " 'any',\n",
       " 'argmax',\n",
       " 'argmin',\n",
       " 'argpartition',\n",
       " 'argsort',\n",
       " 'astype',\n",
       " 'base',\n",
       " 'byteswap',\n",
       " 'choose',\n",
       " 'clip',\n",
       " 'compress',\n",
       " 'conj',\n",
       " 'conjugate',\n",
       " 'copy',\n",
       " 'ctypes',\n",
       " 'cumprod',\n",
       " 'cumsum',\n",
       " 'data',\n",
       " 'diagonal',\n",
       " 'dot',\n",
       " 'dtype',\n",
       " 'dump',\n",
       " 'dumps',\n",
       " 'fill',\n",
       " 'flags',\n",
       " 'flat',\n",
       " 'flatten',\n",
       " 'getfield',\n",
       " 'imag',\n",
       " 'item',\n",
       " 'itemset',\n",
       " 'itemsize',\n",
       " 'max',\n",
       " 'mean',\n",
       " 'min',\n",
       " 'nbytes',\n",
       " 'ndim',\n",
       " 'newbyteorder',\n",
       " 'nonzero',\n",
       " 'partition',\n",
       " 'prod',\n",
       " 'ptp',\n",
       " 'put',\n",
       " 'ravel',\n",
       " 'real',\n",
       " 'repeat',\n",
       " 'reshape',\n",
       " 'resize',\n",
       " 'round',\n",
       " 'searchsorted',\n",
       " 'setfield',\n",
       " 'setflags',\n",
       " 'shape',\n",
       " 'size',\n",
       " 'sort',\n",
       " 'squeeze',\n",
       " 'std',\n",
       " 'strides',\n",
       " 'sum',\n",
       " 'swapaxes',\n",
       " 'take',\n",
       " 'tobytes',\n",
       " 'tofile',\n",
       " 'tolist',\n",
       " 'tostring',\n",
       " 'trace',\n",
       " 'transpose',\n",
       " 'var',\n",
       " 'view']"
      ]
     },
     "execution_count": 315,
     "metadata": {},
     "output_type": "execute_result"
    }
   ],
   "source": [
    "dir(b)"
   ]
  },
  {
   "cell_type": "markdown",
   "metadata": {},
   "source": [
    "Além disso, as operações com as matrizes do _numpy_ são muito mais rápidas do que as operações com as listas do Python.\n",
    "\n",
    "Podemos calcular o produto escalar entre dois vetores usando _np.dot_ ."
   ]
  },
  {
   "cell_type": "code",
   "execution_count": 320,
   "metadata": {},
   "outputs": [
    {
     "name": "stdout",
     "output_type": "stream",
     "text": [
      "2.0\n",
      "2.0\n"
     ]
    }
   ],
   "source": [
    "x = np.array([1.0, 1.0, 0.0])\n",
    "\n",
    "y = np.array([0.0, 2.0, 0.0])\n",
    "\n",
    "# Os dois comandos abaixo fazem a mesma coisa.\n",
    "z = np.dot(x, y)\n",
    "zz = x.dot(y)\n",
    "\n",
    "print(z)\n",
    "print(zz)"
   ]
  },
  {
   "cell_type": "markdown",
   "metadata": {},
   "source": [
    "Podemos calcular o produto vetorial entre esses vetores usando o _np.cross_ ."
   ]
  },
  {
   "cell_type": "code",
   "execution_count": 30,
   "metadata": {
    "scrolled": true
   },
   "outputs": [
    {
     "name": "stdout",
     "output_type": "stream",
     "text": [
      "[0. 0. 2.]\n"
     ]
    }
   ],
   "source": [
    "w = np.cross(x, y)\n",
    "\n",
    "print(w)"
   ]
  },
  {
   "cell_type": "markdown",
   "metadata": {},
   "source": [
    "Podemos pegar o valor máximo (ou o mínimo) de um vetor ou matriz."
   ]
  },
  {
   "cell_type": "code",
   "execution_count": 321,
   "metadata": {},
   "outputs": [
    {
     "name": "stdout",
     "output_type": "stream",
     "text": [
      "O valor máximo de a é 29.0 .\n",
      "O valor mínimo de a é -3.0 .\n"
     ]
    }
   ],
   "source": [
    "a = np.array([7.0, -3.0, 29.0])\n",
    "\n",
    "maximo = np.max(a)\n",
    "\n",
    "minimo = np.min(a)\n",
    "\n",
    "print(f'O valor máximo de a é {maximo} .')\n",
    "\n",
    "print(f'O valor mínimo de a é {minimo} .')"
   ]
  },
  {
   "cell_type": "markdown",
   "metadata": {},
   "source": [
    "E podemos também colocar os elementos do vetor em ordem crescente."
   ]
  },
  {
   "cell_type": "code",
   "execution_count": 323,
   "metadata": {},
   "outputs": [
    {
     "name": "stdout",
     "output_type": "stream",
     "text": [
      "[-3.  7. 29.]\n"
     ]
    }
   ],
   "source": [
    "b = np.sort(a)\n",
    "\n",
    "print(b)"
   ]
  },
  {
   "cell_type": "markdown",
   "metadata": {},
   "source": [
    "Dentro do _numpy_ temos a biblioteca _linalg_, de álgebra linear.\n",
    "\n",
    "Essa biblioteca tem muitas funções importantes, vamos dar uma olhada."
   ]
  },
  {
   "cell_type": "code",
   "execution_count": 324,
   "metadata": {},
   "outputs": [
    {
     "data": {
      "text/plain": [
       "['LinAlgError',\n",
       " '__builtins__',\n",
       " '__cached__',\n",
       " '__doc__',\n",
       " '__file__',\n",
       " '__loader__',\n",
       " '__name__',\n",
       " '__package__',\n",
       " '__path__',\n",
       " '__spec__',\n",
       " '_umath_linalg',\n",
       " 'cholesky',\n",
       " 'cond',\n",
       " 'det',\n",
       " 'eig',\n",
       " 'eigh',\n",
       " 'eigvals',\n",
       " 'eigvalsh',\n",
       " 'inv',\n",
       " 'lapack_lite',\n",
       " 'linalg',\n",
       " 'lstsq',\n",
       " 'matrix_power',\n",
       " 'matrix_rank',\n",
       " 'multi_dot',\n",
       " 'norm',\n",
       " 'pinv',\n",
       " 'qr',\n",
       " 'slogdet',\n",
       " 'solve',\n",
       " 'svd',\n",
       " 'tensorinv',\n",
       " 'tensorsolve',\n",
       " 'test']"
      ]
     },
     "execution_count": 324,
     "metadata": {},
     "output_type": "execute_result"
    }
   ],
   "source": [
    "dir(np.linalg)"
   ]
  },
  {
   "cell_type": "markdown",
   "metadata": {},
   "source": [
    "Considere a matriz $A$ 4x4 abaixo."
   ]
  },
  {
   "cell_type": "code",
   "execution_count": 325,
   "metadata": {
    "scrolled": true
   },
   "outputs": [
    {
     "name": "stdout",
     "output_type": "stream",
     "text": [
      "[[ 5.  1.  0.  2.]\n",
      " [ 1.  7.  2.  1.]\n",
      " [ 0.  2. 10.  3.]\n",
      " [ 1. -1.  3.  8.]]\n"
     ]
    }
   ],
   "source": [
    "A = np.array([[5.0, 1.0, 0.0, 2.0], \n",
    "              [1.0, 7.0, 2.0, 1.0], \n",
    "              [0.0, 2.0, 10.0, 3.0],\n",
    "              [1.0, -1.0, 3.0, 8.0]])\n",
    "\n",
    "print(A)"
   ]
  },
  {
   "cell_type": "markdown",
   "metadata": {},
   "source": [
    "Podemos encontar o seu determinante."
   ]
  },
  {
   "cell_type": "code",
   "execution_count": 326,
   "metadata": {},
   "outputs": [
    {
     "name": "stdout",
     "output_type": "stream",
     "text": [
      "2143.999999999998\n"
     ]
    }
   ],
   "source": [
    "determinante = np.linalg.det(A)\n",
    "\n",
    "print(determinante)"
   ]
  },
  {
   "cell_type": "markdown",
   "metadata": {},
   "source": [
    "Note que pra usar o determinante nós escrevemos _np_ PONTO _linalg_ PONTO _det_ .\n",
    "\n",
    "Isso porque a _det_ é uma função da biblioteca _linalg_ que por sua vez é uma biblioteca da _numpy_.\n",
    "\n",
    "Podemos calcular os autovalores e autovetores da matriz $A$."
   ]
  },
  {
   "cell_type": "code",
   "execution_count": 327,
   "metadata": {},
   "outputs": [
    {
     "name": "stdout",
     "output_type": "stream",
     "text": [
      "Autovalores\n",
      "\n",
      "(12.712074908877456+0j) \n",
      "\n",
      "(3.56409320416069+0j) \n",
      "\n",
      "(6.861915943480913+0.4854841334440346j) \n",
      "\n",
      "(6.861915943480913-0.4854841334440346j) \n",
      "\n",
      "\n",
      "Autovetores\n",
      "\n",
      "[0.16766911+0.j         0.80409104+0.j         0.46902609-0.26509053j\n",
      " 0.46902609+0.26509053j] \n",
      "\n",
      "[ 0.38412234+0.j         -0.27512405+0.j         -0.21654879-0.26587157j\n",
      " -0.21654879+0.26587157j] \n",
      "\n",
      "[ 0.78599463+0.j          0.29047371+0.j         -0.45965716+0.09833608j\n",
      " -0.45965716-0.09833608j] \n",
      "\n",
      "[ 0.45447721+0.j -0.43973787+0.j  0.60926659+0.j  0.60926659-0.j] \n",
      "\n"
     ]
    }
   ],
   "source": [
    "autovalores, autovetores = np.linalg.eig(A)\n",
    "\n",
    "print('Autovalores\\n')\n",
    "for autovalor in autovalores:\n",
    "    print(autovalor, '\\n')\n",
    "\n",
    "print('\\nAutovetores\\n')\n",
    "for autovetor in autovetores:\n",
    "    print(autovetor, '\\n')"
   ]
  },
  {
   "cell_type": "markdown",
   "metadata": {},
   "source": [
    "Podemos calcular a inversa da matriz $A$."
   ]
  },
  {
   "cell_type": "code",
   "execution_count": 328,
   "metadata": {},
   "outputs": [
    {
     "name": "stdout",
     "output_type": "stream",
     "text": [
      "[[ 0.22154851 -0.04804104  0.02751866 -0.05970149]\n",
      " [-0.03125     0.15625    -0.03125     0.        ]\n",
      " [ 0.01772388 -0.04384328  0.12220149 -0.04477612]\n",
      " [-0.03824627  0.04197761 -0.05317164  0.14925373]]\n"
     ]
    }
   ],
   "source": [
    "A_inversa = np.linalg.inv(A)\n",
    "\n",
    "print(A_inversa)"
   ]
  },
  {
   "cell_type": "markdown",
   "metadata": {},
   "source": [
    "Para verificarmos que essa é realmente a inversa, podemos fazer o produto entre as matrizes A e A_inversa. O resultado tem que ser a matriz identidade."
   ]
  },
  {
   "cell_type": "code",
   "execution_count": 329,
   "metadata": {},
   "outputs": [
    {
     "name": "stdout",
     "output_type": "stream",
     "text": [
      "[[ 1.00000000e+00  0.00000000e+00  0.00000000e+00  0.00000000e+00]\n",
      " [-5.55111512e-17  1.00000000e+00  0.00000000e+00  0.00000000e+00]\n",
      " [ 0.00000000e+00  0.00000000e+00  1.00000000e+00  0.00000000e+00]\n",
      " [-5.55111512e-17  2.77555756e-17 -1.11022302e-16  1.00000000e+00]]\n"
     ]
    }
   ],
   "source": [
    "produto = np.matmul(A, A_inversa)\n",
    "\n",
    "print(produto)"
   ]
  },
  {
   "cell_type": "markdown",
   "metadata": {},
   "source": [
    "E agora? Deu certo? E esses números que aparecem com e-17?\n",
    "\n",
    "Isso para o Python é zero. O Python tem uma precisão de 16 casas decimais. \n",
    "\n",
    "Então pra ele esses valores pequenos (estamos falando de 0.00000000000000001) são iguais a zero.\n",
    "\n",
    "Para deixar o print mais elegante, podemos usar a opção abaixo da _numpy_.\n",
    "\n",
    "((Os valores continuam os mesmos, estamos apenas arredondando na hora de printar.))"
   ]
  },
  {
   "cell_type": "code",
   "execution_count": 330,
   "metadata": {
    "scrolled": false
   },
   "outputs": [
    {
     "name": "stdout",
     "output_type": "stream",
     "text": [
      "[[ 1.  0.  0.  0.]\n",
      " [-0.  1.  0.  0.]\n",
      " [ 0.  0.  1.  0.]\n",
      " [-0.  0. -0.  1.]]\n"
     ]
    }
   ],
   "source": [
    "np.set_printoptions(suppress=True)\n",
    "\n",
    "print(produto)"
   ]
  },
  {
   "cell_type": "markdown",
   "metadata": {},
   "source": [
    "Vamos agora resolver o seguinte sistema de equações lineares:\n",
    "\n",
    "\\begin{equation}\n",
    "\\begin{array}{ccccc} \n",
    "5x + y + 0z + 2w & = & 9 \\\\\n",
    "1x + 7y + 2z + 1w & = & 20 \\\\\n",
    "0x + 2y + 10z + 3w & = & 27 \\\\\n",
    "1x - 1y + 3z + 8w & = & 13 \n",
    "\\end{array}\n",
    "\\end{equation}\n",
    "\n",
    "Queremos encontrar os valores de $x$, $y$, $z$ e $w$ que satisfazem essas $4$ equações simultaneamente.\n",
    "\n",
    "Esse sistema pode ser representado na forma matricial\n",
    "\n",
    "\\begin{equation}\n",
    "Ax = b \\, \\, ,\n",
    "\\end{equation}\n",
    "\n",
    "com\n",
    "\n",
    "\\begin{equation}\n",
    "A = \\left[ \\begin{array}{cccc}\n",
    "5.0 & 1.0 & 0.0 & 2.0 \\\\\n",
    "1.0 & 7.0 & 2.0 & 1.0 \\\\\n",
    "0.0 & 2.0 & 10.0 & 3.0 \\\\\n",
    "1.0 & -1.0 & 3.0 & 8.0\n",
    "\\end{array} \\right]\n",
    "\\end{equation}\n",
    "\n",
    "\\begin{equation}\n",
    "x = \\left[ \\begin{array}{c}\n",
    "x \\\\\n",
    "y \\\\\n",
    "z \\\\\n",
    "w \n",
    "\\end{array} \\right]\n",
    "\\end{equation}\n",
    "\n",
    "e\n",
    "\n",
    "\\begin{equation}\n",
    "b = \\left[ \\begin{array}{c}\n",
    "9 \\\\\n",
    "20 \\\\\n",
    "27 \\\\\n",
    "13 \n",
    "\\end{array} \\right]\n",
    "\\end{equation}"
   ]
  },
  {
   "cell_type": "markdown",
   "metadata": {},
   "source": [
    "Podemos resolver esse sistema usando a _numpy_."
   ]
  },
  {
   "cell_type": "code",
   "execution_count": 333,
   "metadata": {},
   "outputs": [
    {
     "name": "stdout",
     "output_type": "stream",
     "text": [
      "[1. 2. 2. 1.]\n"
     ]
    }
   ],
   "source": [
    "A = np.array([[5.0, 1.0, 0.0, 2.0], \n",
    "              [1.0, 7.0, 2.0, 1.0], \n",
    "              [0.0, 2.0, 10.0, 3.0],\n",
    "              [1.0, -1.0, 3.0, 8.0]])\n",
    "\n",
    "b = np.array([9.0, 20.0, 27.0, 13.0])\n",
    "\n",
    "x = np.linalg.solve(A,b)\n",
    "\n",
    "print(x)"
   ]
  },
  {
   "cell_type": "markdown",
   "metadata": {},
   "source": [
    "A solução desse sistema é \n",
    "\n",
    "\\begin{equation}\n",
    "x = \\left[ \\begin{array}{c}\n",
    "1 \\\\\n",
    "2 \\\\\n",
    "2 \\\\\n",
    "1 \n",
    "\\end{array} \\right]\n",
    "\\end{equation}"
   ]
  },
  {
   "cell_type": "markdown",
   "metadata": {},
   "source": [
    "Com o _numpy_ podemos criar matrizes grandes, com um formato predefinido.\n",
    "\n",
    "Por exemplo, se quisermos uma matriz 10x10 de zeros, podemos usar a função _zeros_."
   ]
  },
  {
   "cell_type": "code",
   "execution_count": 334,
   "metadata": {},
   "outputs": [
    {
     "name": "stdout",
     "output_type": "stream",
     "text": [
      "[[0. 0. 0. 0. 0. 0. 0. 0. 0. 0.]\n",
      " [0. 0. 0. 0. 0. 0. 0. 0. 0. 0.]\n",
      " [0. 0. 0. 0. 0. 0. 0. 0. 0. 0.]\n",
      " [0. 0. 0. 0. 0. 0. 0. 0. 0. 0.]\n",
      " [0. 0. 0. 0. 0. 0. 0. 0. 0. 0.]\n",
      " [0. 0. 0. 0. 0. 0. 0. 0. 0. 0.]\n",
      " [0. 0. 0. 0. 0. 0. 0. 0. 0. 0.]\n",
      " [0. 0. 0. 0. 0. 0. 0. 0. 0. 0.]\n",
      " [0. 0. 0. 0. 0. 0. 0. 0. 0. 0.]\n",
      " [0. 0. 0. 0. 0. 0. 0. 0. 0. 0.]]\n"
     ]
    }
   ],
   "source": [
    "A = np.zeros((10, 10))\n",
    "\n",
    "print(A)"
   ]
  },
  {
   "cell_type": "markdown",
   "metadata": {},
   "source": [
    "Agora uma matriz preenchida com o número um."
   ]
  },
  {
   "cell_type": "code",
   "execution_count": 335,
   "metadata": {},
   "outputs": [
    {
     "name": "stdout",
     "output_type": "stream",
     "text": [
      "[[1. 1. 1. 1. 1. 1. 1. 1. 1. 1.]\n",
      " [1. 1. 1. 1. 1. 1. 1. 1. 1. 1.]\n",
      " [1. 1. 1. 1. 1. 1. 1. 1. 1. 1.]\n",
      " [1. 1. 1. 1. 1. 1. 1. 1. 1. 1.]\n",
      " [1. 1. 1. 1. 1. 1. 1. 1. 1. 1.]\n",
      " [1. 1. 1. 1. 1. 1. 1. 1. 1. 1.]\n",
      " [1. 1. 1. 1. 1. 1. 1. 1. 1. 1.]\n",
      " [1. 1. 1. 1. 1. 1. 1. 1. 1. 1.]\n",
      " [1. 1. 1. 1. 1. 1. 1. 1. 1. 1.]\n",
      " [1. 1. 1. 1. 1. 1. 1. 1. 1. 1.]]\n"
     ]
    }
   ],
   "source": [
    "A = np.ones((10, 10))\n",
    "\n",
    "print(A)"
   ]
  },
  {
   "cell_type": "markdown",
   "metadata": {},
   "source": [
    "A matriz identidade."
   ]
  },
  {
   "cell_type": "code",
   "execution_count": 336,
   "metadata": {},
   "outputs": [
    {
     "name": "stdout",
     "output_type": "stream",
     "text": [
      "[[1. 1. 1. 1. 1. 1. 1. 1. 1. 1.]\n",
      " [1. 1. 1. 1. 1. 1. 1. 1. 1. 1.]\n",
      " [1. 1. 1. 1. 1. 1. 1. 1. 1. 1.]\n",
      " [1. 1. 1. 1. 1. 1. 1. 1. 1. 1.]\n",
      " [1. 1. 1. 1. 1. 1. 1. 1. 1. 1.]\n",
      " [1. 1. 1. 1. 1. 1. 1. 1. 1. 1.]\n",
      " [1. 1. 1. 1. 1. 1. 1. 1. 1. 1.]\n",
      " [1. 1. 1. 1. 1. 1. 1. 1. 1. 1.]\n",
      " [1. 1. 1. 1. 1. 1. 1. 1. 1. 1.]\n",
      " [1. 1. 1. 1. 1. 1. 1. 1. 1. 1.]]\n"
     ]
    }
   ],
   "source": [
    "I = np.eye(10)\n",
    "\n",
    "print(A)"
   ]
  },
  {
   "cell_type": "markdown",
   "metadata": {},
   "source": [
    "Vamos somar a matriz identidade com a matriz de uns."
   ]
  },
  {
   "cell_type": "code",
   "execution_count": 338,
   "metadata": {},
   "outputs": [
    {
     "name": "stdout",
     "output_type": "stream",
     "text": [
      "[[2. 1. 1. 1. 1. 1. 1. 1. 1. 1.]\n",
      " [1. 2. 1. 1. 1. 1. 1. 1. 1. 1.]\n",
      " [1. 1. 2. 1. 1. 1. 1. 1. 1. 1.]\n",
      " [1. 1. 1. 2. 1. 1. 1. 1. 1. 1.]\n",
      " [1. 1. 1. 1. 2. 1. 1. 1. 1. 1.]\n",
      " [1. 1. 1. 1. 1. 2. 1. 1. 1. 1.]\n",
      " [1. 1. 1. 1. 1. 1. 2. 1. 1. 1.]\n",
      " [1. 1. 1. 1. 1. 1. 1. 2. 1. 1.]\n",
      " [1. 1. 1. 1. 1. 1. 1. 1. 2. 1.]\n",
      " [1. 1. 1. 1. 1. 1. 1. 1. 1. 2.]]\n"
     ]
    }
   ],
   "source": [
    "A = np.ones((10, 10))\n",
    "\n",
    "I = np.eye(10)\n",
    "\n",
    "B = A + I\n",
    "\n",
    "print(B)"
   ]
  },
  {
   "cell_type": "markdown",
   "metadata": {},
   "source": [
    "Deu pra perceber como a _numpy_ é poderosa?\n",
    "\n",
    "Uma ferramenta legal é a biblioteca _numpy_ chamada _random_, de **geração de números aleatórios**. "
   ]
  },
  {
   "cell_type": "code",
   "execution_count": 339,
   "metadata": {},
   "outputs": [
    {
     "data": {
      "text/plain": [
       "['BitGenerator',\n",
       " 'Generator',\n",
       " 'MT19937',\n",
       " 'PCG64',\n",
       " 'Philox',\n",
       " 'RandomState',\n",
       " 'SFC64',\n",
       " 'SeedSequence',\n",
       " '__RandomState_ctor',\n",
       " '__all__',\n",
       " '__builtins__',\n",
       " '__cached__',\n",
       " '__doc__',\n",
       " '__file__',\n",
       " '__loader__',\n",
       " '__name__',\n",
       " '__package__',\n",
       " '__path__',\n",
       " '__spec__',\n",
       " '_bounded_integers',\n",
       " '_common',\n",
       " '_generator',\n",
       " '_mt19937',\n",
       " '_pcg64',\n",
       " '_philox',\n",
       " '_pickle',\n",
       " '_sfc64',\n",
       " 'beta',\n",
       " 'binomial',\n",
       " 'bit_generator',\n",
       " 'bytes',\n",
       " 'chisquare',\n",
       " 'choice',\n",
       " 'default_rng',\n",
       " 'dirichlet',\n",
       " 'exponential',\n",
       " 'f',\n",
       " 'gamma',\n",
       " 'geometric',\n",
       " 'get_state',\n",
       " 'gumbel',\n",
       " 'hypergeometric',\n",
       " 'laplace',\n",
       " 'logistic',\n",
       " 'lognormal',\n",
       " 'logseries',\n",
       " 'mtrand',\n",
       " 'multinomial',\n",
       " 'multivariate_normal',\n",
       " 'negative_binomial',\n",
       " 'noncentral_chisquare',\n",
       " 'noncentral_f',\n",
       " 'normal',\n",
       " 'pareto',\n",
       " 'permutation',\n",
       " 'poisson',\n",
       " 'power',\n",
       " 'rand',\n",
       " 'randint',\n",
       " 'randn',\n",
       " 'random',\n",
       " 'random_integers',\n",
       " 'random_sample',\n",
       " 'ranf',\n",
       " 'rayleigh',\n",
       " 'sample',\n",
       " 'seed',\n",
       " 'set_state',\n",
       " 'shuffle',\n",
       " 'standard_cauchy',\n",
       " 'standard_exponential',\n",
       " 'standard_gamma',\n",
       " 'standard_normal',\n",
       " 'standard_t',\n",
       " 'test',\n",
       " 'triangular',\n",
       " 'uniform',\n",
       " 'vonmises',\n",
       " 'wald',\n",
       " 'weibull',\n",
       " 'zipf']"
      ]
     },
     "execution_count": 339,
     "metadata": {},
     "output_type": "execute_result"
    }
   ],
   "source": [
    "dir(np.random)"
   ]
  },
  {
   "cell_type": "markdown",
   "metadata": {},
   "source": [
    "Com ela podemos gerar números aleatórios com diferentes distribuições.\n",
    "\n",
    "Queremos 5 números aleatórios entre 0 e 1."
   ]
  },
  {
   "cell_type": "code",
   "execution_count": 346,
   "metadata": {},
   "outputs": [
    {
     "data": {
      "text/plain": [
       "array([0.27323435, 0.15670734, 0.56869924, 0.2717823 , 0.43340903])"
      ]
     },
     "execution_count": 346,
     "metadata": {},
     "output_type": "execute_result"
    }
   ],
   "source": [
    "np.random.random(5)"
   ]
  },
  {
   "cell_type": "markdown",
   "metadata": {},
   "source": [
    "((Cada vez que executamos o código são gerados números diferentes. Esses números estão entre 0 e 1 e têm uma distribuição uniforme.))\n",
    "\n",
    "Agora queremos 5 números inteiros aleatórios entre 1 e 60 (inclusive)."
   ]
  },
  {
   "cell_type": "code",
   "execution_count": 351,
   "metadata": {},
   "outputs": [
    {
     "data": {
      "text/plain": [
       "array([31, 31, 10, 32, 34, 24])"
      ]
     },
     "execution_count": 351,
     "metadata": {},
     "output_type": "execute_result"
    }
   ],
   "source": [
    "np.random.randint(1, 61, 6)"
   ]
  },
  {
   "cell_type": "markdown",
   "metadata": {},
   "source": [
    "Agora em ordem crescente."
   ]
  },
  {
   "cell_type": "code",
   "execution_count": 355,
   "metadata": {},
   "outputs": [
    {
     "data": {
      "text/plain": [
       "array([15, 18, 20, 21, 33, 47])"
      ]
     },
     "execution_count": 355,
     "metadata": {},
     "output_type": "execute_result"
    }
   ],
   "source": [
    "np.sort(np.random.randint(1, 61, 6))"
   ]
  },
  {
   "cell_type": "markdown",
   "metadata": {},
   "source": [
    "Também podemos gerar números aleatórios com distribuição normal."
   ]
  },
  {
   "cell_type": "code",
   "execution_count": 356,
   "metadata": {},
   "outputs": [
    {
     "data": {
      "text/plain": [
       "0.18389683490809083"
      ]
     },
     "execution_count": 356,
     "metadata": {},
     "output_type": "execute_result"
    }
   ],
   "source": [
    "np.random.normal()"
   ]
  },
  {
   "cell_type": "markdown",
   "metadata": {},
   "source": [
    "Pra fechar aqui essa parte, vou apresentar formar de criar vetores com um intervalo igual usando o ***arange*** e o ***linspace*** . \n",
    "\n",
    "((Isso vai ser importante na próxima seção, de plotar gráficos.))\n",
    "\n",
    "Queremos um vetor com valores entre zero e dez e com intervalo de 0.1 entre os números."
   ]
  },
  {
   "cell_type": "code",
   "execution_count": 357,
   "metadata": {},
   "outputs": [
    {
     "name": "stdout",
     "output_type": "stream",
     "text": [
      "[0.  0.1 0.2 0.3 0.4 0.5 0.6 0.7 0.8 0.9 1.  1.1 1.2 1.3 1.4 1.5 1.6 1.7\n",
      " 1.8 1.9 2.  2.1 2.2 2.3 2.4 2.5 2.6 2.7 2.8 2.9 3.  3.1 3.2 3.3 3.4 3.5\n",
      " 3.6 3.7 3.8 3.9 4.  4.1 4.2 4.3 4.4 4.5 4.6 4.7 4.8 4.9 5.  5.1 5.2 5.3\n",
      " 5.4 5.5 5.6 5.7 5.8 5.9 6.  6.1 6.2 6.3 6.4 6.5 6.6 6.7 6.8 6.9 7.  7.1\n",
      " 7.2 7.3 7.4 7.5 7.6 7.7 7.8 7.9 8.  8.1 8.2 8.3 8.4 8.5 8.6 8.7 8.8 8.9\n",
      " 9.  9.1 9.2 9.3 9.4 9.5 9.6 9.7 9.8 9.9]\n"
     ]
    }
   ],
   "source": [
    "x = np.arange(0.0, 10.0, 0.1)\n",
    "\n",
    "print(x)"
   ]
  },
  {
   "cell_type": "markdown",
   "metadata": {},
   "source": [
    "Veja outros exemplos."
   ]
  },
  {
   "cell_type": "code",
   "execution_count": 125,
   "metadata": {},
   "outputs": [
    {
     "name": "stdout",
     "output_type": "stream",
     "text": [
      "[5.  5.1 5.2 5.3 5.4 5.5 5.6 5.7 5.8 5.9 6.  6.1 6.2 6.3 6.4 6.5 6.6 6.7\n",
      " 6.8 6.9 7.  7.1 7.2 7.3 7.4 7.5 7.6 7.7 7.8 7.9 8.  8.1 8.2 8.3 8.4 8.5\n",
      " 8.6 8.7 8.8 8.9 9.  9.1 9.2 9.3 9.4 9.5 9.6 9.7 9.8 9.9]\n"
     ]
    }
   ],
   "source": [
    "x = np.arange(5.0, 10.0, 0.1)\n",
    "\n",
    "print(x)"
   ]
  },
  {
   "cell_type": "code",
   "execution_count": 126,
   "metadata": {},
   "outputs": [
    {
     "name": "stdout",
     "output_type": "stream",
     "text": [
      "[-3.  -2.7 -2.4 -2.1 -1.8 -1.5 -1.2 -0.9 -0.6 -0.3 -0.   0.3  0.6  0.9\n",
      "  1.2  1.5  1.8  2.1  2.4  2.7  3.   3.3  3.6  3.9  4.2  4.5  4.8  5.1\n",
      "  5.4  5.7  6.   6.3  6.6  6.9  7.2  7.5  7.8  8.1  8.4  8.7  9.   9.3\n",
      "  9.6  9.9 10.2 10.5 10.8 11.1 11.4 11.7 12.  12.3 12.6 12.9 13.2 13.5\n",
      " 13.8 14.1 14.4 14.7 15.  15.3 15.6 15.9 16.2 16.5 16.8 17.1 17.4 17.7\n",
      " 18.  18.3 18.6 18.9 19.2 19.5 19.8]\n"
     ]
    }
   ],
   "source": [
    "x = np.arange(-3.0, 20.0, 0.3)\n",
    "\n",
    "print(x)"
   ]
  },
  {
   "cell_type": "markdown",
   "metadata": {},
   "source": [
    "O _linspace_ é muito parecido. A diferença é que não falamos o intervalo, e sim o número de pontos.\n",
    "\n",
    "Por exemplo, quero um vetor com 11 números entre 0 e 10, igualmente espaçados."
   ]
  },
  {
   "cell_type": "code",
   "execution_count": 359,
   "metadata": {},
   "outputs": [
    {
     "name": "stdout",
     "output_type": "stream",
     "text": [
      "[ 0.  1.  2.  3.  4.  5.  6.  7.  8.  9. 10.]\n"
     ]
    }
   ],
   "source": [
    "x = np.linspace(0.0, 10.0, 11)\n",
    "\n",
    "print(x)"
   ]
  },
  {
   "cell_type": "markdown",
   "metadata": {},
   "source": [
    "Veja mais alguns exemplos."
   ]
  },
  {
   "cell_type": "code",
   "execution_count": 360,
   "metadata": {},
   "outputs": [
    {
     "name": "stdout",
     "output_type": "stream",
     "text": [
      "[0.     0.0025 0.005  0.0075 0.01   0.0125 0.015  0.0175 0.02   0.0225\n",
      " 0.025  0.0275 0.03   0.0325 0.035  0.0375 0.04   0.0425 0.045  0.0475\n",
      " 0.05   0.0525 0.055  0.0575 0.06   0.0625 0.065  0.0675 0.07   0.0725\n",
      " 0.075  0.0775 0.08   0.0825 0.085  0.0875 0.09   0.0925 0.095  0.0975\n",
      " 0.1   ]\n"
     ]
    }
   ],
   "source": [
    "x = np.linspace(0.0, 0.1, 41)\n",
    "\n",
    "print(x)"
   ]
  },
  {
   "cell_type": "code",
   "execution_count": 361,
   "metadata": {},
   "outputs": [
    {
     "name": "stdout",
     "output_type": "stream",
     "text": [
      "[-5.   -4.98 -4.96 -4.94 -4.92 -4.9  -4.88 -4.86 -4.84 -4.82 -4.8  -4.78\n",
      " -4.76 -4.74 -4.72 -4.7  -4.68 -4.66 -4.64 -4.62 -4.6  -4.58 -4.56 -4.54\n",
      " -4.52 -4.5  -4.48 -4.46 -4.44 -4.42 -4.4  -4.38 -4.36 -4.34 -4.32 -4.3\n",
      " -4.28 -4.26 -4.24 -4.22 -4.2  -4.18 -4.16 -4.14 -4.12 -4.1  -4.08 -4.06\n",
      " -4.04 -4.02 -4.   -3.98 -3.96 -3.94 -3.92 -3.9  -3.88 -3.86 -3.84 -3.82\n",
      " -3.8  -3.78 -3.76 -3.74 -3.72 -3.7  -3.68 -3.66 -3.64 -3.62 -3.6  -3.58\n",
      " -3.56 -3.54 -3.52 -3.5  -3.48 -3.46 -3.44 -3.42 -3.4  -3.38 -3.36 -3.34\n",
      " -3.32 -3.3  -3.28 -3.26 -3.24 -3.22 -3.2  -3.18 -3.16 -3.14 -3.12 -3.1\n",
      " -3.08 -3.06 -3.04 -3.02 -3.  ]\n"
     ]
    }
   ],
   "source": [
    "x = np.linspace(-5.0, -3.0, 101)\n",
    "\n",
    "print(x)"
   ]
  },
  {
   "cell_type": "code",
   "execution_count": 363,
   "metadata": {},
   "outputs": [
    {
     "name": "stdout",
     "output_type": "stream",
     "text": [
      "[ 1.  2.  3.  4.  5.  6.  7.  8.  9. 10. 11. 12. 13. 14. 15.]\n"
     ]
    }
   ],
   "source": [
    "x = np.linspace(1.0, 15.0, 15)\n",
    "\n",
    "print(x)"
   ]
  },
  {
   "cell_type": "markdown",
   "metadata": {},
   "source": [
    "A _numpy_ permite fazer operações diretamente com esses vetores.\n",
    "\n",
    "Podemos criar um vetor com os elementos sendo o quadrado dos elementos de um outro vetor."
   ]
  },
  {
   "cell_type": "code",
   "execution_count": 364,
   "metadata": {},
   "outputs": [
    {
     "name": "stdout",
     "output_type": "stream",
     "text": [
      "[  1.   4.   9.  16.  25.  36.  49.  64.  81. 100. 121. 144. 169. 196.\n",
      " 225.]\n"
     ]
    }
   ],
   "source": [
    "y = x**2.0\n",
    "\n",
    "print(y)"
   ]
  },
  {
   "cell_type": "markdown",
   "metadata": {},
   "source": [
    "Ou o seno."
   ]
  },
  {
   "cell_type": "code",
   "execution_count": 366,
   "metadata": {},
   "outputs": [
    {
     "name": "stdout",
     "output_type": "stream",
     "text": [
      "[ 0.84147098  0.90929743  0.14112001 -0.7568025  -0.95892427 -0.2794155\n",
      "  0.6569866   0.98935825  0.41211849 -0.54402111 -0.99999021 -0.53657292\n",
      "  0.42016704  0.99060736  0.65028784]\n"
     ]
    }
   ],
   "source": [
    "y = np.sin(x)\n",
    "\n",
    "print(y)"
   ]
  },
  {
   "cell_type": "markdown",
   "metadata": {},
   "source": [
    "Ou o logaritmo."
   ]
  },
  {
   "cell_type": "code",
   "execution_count": 139,
   "metadata": {},
   "outputs": [
    {
     "name": "stdout",
     "output_type": "stream",
     "text": [
      "[0.         0.69314718 1.09861229 1.38629436 1.60943791 1.79175947\n",
      " 1.94591015 2.07944154 2.19722458 2.30258509 2.39789527 2.48490665\n",
      " 2.56494936 2.63905733 2.7080502 ]\n"
     ]
    }
   ],
   "source": [
    "y = np.log(x)\n",
    "\n",
    "print(y)"
   ]
  },
  {
   "cell_type": "markdown",
   "metadata": {},
   "source": [
    "Vou fechar essa parte da _numpy_ por aqui. \n",
    "\n",
    "Como eu falei, a _numpy_ tem muito mais ferramentas do que essas poucas que foram mostradas aqui.\n",
    "\n",
    "Com certeza uma delas vai resolver o seu problema. É só procurar com calma.\n",
    "\n",
    "Vamos plotar gráficos agora."
   ]
  },
  {
   "cell_type": "markdown",
   "metadata": {},
   "source": [
    "## Plotando Gráficos com o Matplotlib"
   ]
  },
  {
   "cell_type": "markdown",
   "metadata": {},
   "source": [
    "Primeiro vamos importar a bilioteca _matplotlib_."
   ]
  },
  {
   "cell_type": "code",
   "execution_count": 2,
   "metadata": {},
   "outputs": [],
   "source": [
    "import matplotlib.pyplot as plt"
   ]
  },
  {
   "cell_type": "markdown",
   "metadata": {},
   "source": [
    "Note que o nome dessa biblioteca é muito grande. \n",
    "\n",
    "Por isso demos o apelido _plt_ a ela.\n",
    "\n",
    "Para podermos conhecer essa bilioteca, vamos ver as funções que ela possui com o _dir_ e vamos dar um _help_ também."
   ]
  },
  {
   "cell_type": "code",
   "execution_count": 368,
   "metadata": {},
   "outputs": [
    {
     "name": "stdout",
     "output_type": "stream",
     "text": [
      "Help on function plot in module matplotlib.pyplot:\n",
      "\n",
      "plot(*args, scalex=True, scaley=True, data=None, **kwargs)\n",
      "    Plot y versus x as lines and/or markers.\n",
      "    \n",
      "    Call signatures::\n",
      "    \n",
      "        plot([x], y, [fmt], *, data=None, **kwargs)\n",
      "        plot([x], y, [fmt], [x2], y2, [fmt2], ..., **kwargs)\n",
      "    \n",
      "    The coordinates of the points or line nodes are given by *x*, *y*.\n",
      "    \n",
      "    The optional parameter *fmt* is a convenient way for defining basic\n",
      "    formatting like color, marker and linestyle. It's a shortcut string\n",
      "    notation described in the *Notes* section below.\n",
      "    \n",
      "    >>> plot(x, y)        # plot x and y using default line style and color\n",
      "    >>> plot(x, y, 'bo')  # plot x and y using blue circle markers\n",
      "    >>> plot(y)           # plot y using x as index array 0..N-1\n",
      "    >>> plot(y, 'r+')     # ditto, but with red plusses\n",
      "    \n",
      "    You can use `.Line2D` properties as keyword arguments for more\n",
      "    control on the appearance. Line properties and *fmt* can be mixed.\n",
      "    The following two calls yield identical results:\n",
      "    \n",
      "    >>> plot(x, y, 'go--', linewidth=2, markersize=12)\n",
      "    >>> plot(x, y, color='green', marker='o', linestyle='dashed',\n",
      "    ...      linewidth=2, markersize=12)\n",
      "    \n",
      "    When conflicting with *fmt*, keyword arguments take precedence.\n",
      "    \n",
      "    \n",
      "    **Plotting labelled data**\n",
      "    \n",
      "    There's a convenient way for plotting objects with labelled data (i.e.\n",
      "    data that can be accessed by index ``obj['y']``). Instead of giving\n",
      "    the data in *x* and *y*, you can provide the object in the *data*\n",
      "    parameter and just give the labels for *x* and *y*::\n",
      "    \n",
      "    >>> plot('xlabel', 'ylabel', data=obj)\n",
      "    \n",
      "    All indexable objects are supported. This could e.g. be a `dict`, a\n",
      "    `pandas.DataFrame` or a structured numpy array.\n",
      "    \n",
      "    \n",
      "    **Plotting multiple sets of data**\n",
      "    \n",
      "    There are various ways to plot multiple sets of data.\n",
      "    \n",
      "    - The most straight forward way is just to call `plot` multiple times.\n",
      "      Example:\n",
      "    \n",
      "      >>> plot(x1, y1, 'bo')\n",
      "      >>> plot(x2, y2, 'go')\n",
      "    \n",
      "    - Alternatively, if your data is already a 2d array, you can pass it\n",
      "      directly to *x*, *y*. A separate data set will be drawn for every\n",
      "      column.\n",
      "    \n",
      "      Example: an array ``a`` where the first column represents the *x*\n",
      "      values and the other columns are the *y* columns::\n",
      "    \n",
      "      >>> plot(a[0], a[1:])\n",
      "    \n",
      "    - The third way is to specify multiple sets of *[x]*, *y*, *[fmt]*\n",
      "      groups::\n",
      "    \n",
      "      >>> plot(x1, y1, 'g^', x2, y2, 'g-')\n",
      "    \n",
      "      In this case, any additional keyword argument applies to all\n",
      "      datasets. Also this syntax cannot be combined with the *data*\n",
      "      parameter.\n",
      "    \n",
      "    By default, each line is assigned a different style specified by a\n",
      "    'style cycle'. The *fmt* and line property parameters are only\n",
      "    necessary if you want explicit deviations from these defaults.\n",
      "    Alternatively, you can also change the style cycle using\n",
      "    :rc:`axes.prop_cycle`.\n",
      "    \n",
      "    \n",
      "    Parameters\n",
      "    ----------\n",
      "    x, y : array-like or scalar\n",
      "        The horizontal / vertical coordinates of the data points.\n",
      "        *x* values are optional and default to ``range(len(y))``.\n",
      "    \n",
      "        Commonly, these parameters are 1D arrays.\n",
      "    \n",
      "        They can also be scalars, or two-dimensional (in that case, the\n",
      "        columns represent separate data sets).\n",
      "    \n",
      "        These arguments cannot be passed as keywords.\n",
      "    \n",
      "    fmt : str, optional\n",
      "        A format string, e.g. 'ro' for red circles. See the *Notes*\n",
      "        section for a full description of the format strings.\n",
      "    \n",
      "        Format strings are just an abbreviation for quickly setting\n",
      "        basic line properties. All of these and more can also be\n",
      "        controlled by keyword arguments.\n",
      "    \n",
      "        This argument cannot be passed as keyword.\n",
      "    \n",
      "    data : indexable object, optional\n",
      "        An object with labelled data. If given, provide the label names to\n",
      "        plot in *x* and *y*.\n",
      "    \n",
      "        .. note::\n",
      "            Technically there's a slight ambiguity in calls where the\n",
      "            second label is a valid *fmt*. ``plot('n', 'o', data=obj)``\n",
      "            could be ``plt(x, y)`` or ``plt(y, fmt)``. In such cases,\n",
      "            the former interpretation is chosen, but a warning is issued.\n",
      "            You may suppress the warning by adding an empty format string\n",
      "            ``plot('n', 'o', '', data=obj)``.\n",
      "    \n",
      "    Returns\n",
      "    -------\n",
      "    list of `.Line2D`\n",
      "        A list of lines representing the plotted data.\n",
      "    \n",
      "    Other Parameters\n",
      "    ----------------\n",
      "    scalex, scaley : bool, default: True\n",
      "        These parameters determine if the view limits are adapted to the\n",
      "        data limits. The values are passed on to `autoscale_view`.\n",
      "    \n",
      "    **kwargs : `.Line2D` properties, optional\n",
      "        *kwargs* are used to specify properties like a line label (for\n",
      "        auto legends), linewidth, antialiasing, marker face color.\n",
      "        Example::\n",
      "    \n",
      "        >>> plot([1, 2, 3], [1, 2, 3], 'go-', label='line 1', linewidth=2)\n",
      "        >>> plot([1, 2, 3], [1, 4, 9], 'rs', label='line 2')\n",
      "    \n",
      "        If you make multiple lines with one plot call, the kwargs\n",
      "        apply to all those lines.\n",
      "    \n",
      "        Here is a list of available `.Line2D` properties:\n",
      "    \n",
      "        Properties:\n",
      "        agg_filter: a filter function, which takes a (m, n, 3) float array and a dpi value, and returns a (m, n, 3) array\n",
      "        alpha: float or None\n",
      "        animated: bool\n",
      "        antialiased or aa: bool\n",
      "        clip_box: `.Bbox`\n",
      "        clip_on: bool\n",
      "        clip_path: Patch or (Path, Transform) or None\n",
      "        color or c: color\n",
      "        contains: unknown\n",
      "        dash_capstyle: {'butt', 'round', 'projecting'}\n",
      "        dash_joinstyle: {'miter', 'round', 'bevel'}\n",
      "        dashes: sequence of floats (on/off ink in points) or (None, None)\n",
      "        data: (2, N) array or two 1D arrays\n",
      "        drawstyle or ds: {'default', 'steps', 'steps-pre', 'steps-mid', 'steps-post'}, default: 'default'\n",
      "        figure: `.Figure`\n",
      "        fillstyle: {'full', 'left', 'right', 'bottom', 'top', 'none'}\n",
      "        gid: str\n",
      "        in_layout: bool\n",
      "        label: object\n",
      "        linestyle or ls: {'-', '--', '-.', ':', '', (offset, on-off-seq), ...}\n",
      "        linewidth or lw: float\n",
      "        marker: marker style string, `~.path.Path` or `~.markers.MarkerStyle`\n",
      "        markeredgecolor or mec: color\n",
      "        markeredgewidth or mew: float\n",
      "        markerfacecolor or mfc: color\n",
      "        markerfacecoloralt or mfcalt: color\n",
      "        markersize or ms: float\n",
      "        markevery: None or int or (int, int) or slice or List[int] or float or (float, float) or List[bool]\n",
      "        path_effects: `.AbstractPathEffect`\n",
      "        picker: unknown\n",
      "        pickradius: float\n",
      "        rasterized: bool or None\n",
      "        sketch_params: (scale: float, length: float, randomness: float)\n",
      "        snap: bool or None\n",
      "        solid_capstyle: {'butt', 'round', 'projecting'}\n",
      "        solid_joinstyle: {'miter', 'round', 'bevel'}\n",
      "        transform: `matplotlib.transforms.Transform`\n",
      "        url: str\n",
      "        visible: bool\n",
      "        xdata: 1D array\n",
      "        ydata: 1D array\n",
      "        zorder: float\n",
      "    \n",
      "    See Also\n",
      "    --------\n",
      "    scatter : XY scatter plot with markers of varying size and/or color (\n",
      "        sometimes also called bubble chart).\n",
      "    \n",
      "    Notes\n",
      "    -----\n",
      "    **Format Strings**\n",
      "    \n",
      "    A format string consists of a part for color, marker and line::\n",
      "    \n",
      "        fmt = '[marker][line][color]'\n",
      "    \n",
      "    Each of them is optional. If not provided, the value from the style\n",
      "    cycle is used. Exception: If ``line`` is given, but no ``marker``,\n",
      "    the data will be a line without markers.\n",
      "    \n",
      "    Other combinations such as ``[color][marker][line]`` are also\n",
      "    supported, but note that their parsing may be ambiguous.\n",
      "    \n",
      "    **Markers**\n",
      "    \n",
      "    =============    ===============================\n",
      "    character        description\n",
      "    =============    ===============================\n",
      "    ``'.'``          point marker\n",
      "    ``','``          pixel marker\n",
      "    ``'o'``          circle marker\n",
      "    ``'v'``          triangle_down marker\n",
      "    ``'^'``          triangle_up marker\n",
      "    ``'<'``          triangle_left marker\n",
      "    ``'>'``          triangle_right marker\n",
      "    ``'1'``          tri_down marker\n",
      "    ``'2'``          tri_up marker\n",
      "    ``'3'``          tri_left marker\n",
      "    ``'4'``          tri_right marker\n",
      "    ``'s'``          square marker\n",
      "    ``'p'``          pentagon marker\n",
      "    ``'*'``          star marker\n",
      "    ``'h'``          hexagon1 marker\n",
      "    ``'H'``          hexagon2 marker\n",
      "    ``'+'``          plus marker\n",
      "    ``'x'``          x marker\n",
      "    ``'D'``          diamond marker\n",
      "    ``'d'``          thin_diamond marker\n",
      "    ``'|'``          vline marker\n",
      "    ``'_'``          hline marker\n",
      "    =============    ===============================\n",
      "    \n",
      "    **Line Styles**\n",
      "    \n",
      "    =============    ===============================\n",
      "    character        description\n",
      "    =============    ===============================\n",
      "    ``'-'``          solid line style\n",
      "    ``'--'``         dashed line style\n",
      "    ``'-.'``         dash-dot line style\n",
      "    ``':'``          dotted line style\n",
      "    =============    ===============================\n",
      "    \n",
      "    Example format strings::\n",
      "    \n",
      "        'b'    # blue markers with default shape\n",
      "        'or'   # red circles\n",
      "        '-g'   # green solid line\n",
      "        '--'   # dashed line with default color\n",
      "        '^k:'  # black triangle_up markers connected by a dotted line\n",
      "    \n",
      "    **Colors**\n",
      "    \n",
      "    The supported color abbreviations are the single letter codes\n",
      "    \n",
      "    =============    ===============================\n",
      "    character        color\n",
      "    =============    ===============================\n",
      "    ``'b'``          blue\n",
      "    ``'g'``          green\n",
      "    ``'r'``          red\n",
      "    ``'c'``          cyan\n",
      "    ``'m'``          magenta\n",
      "    ``'y'``          yellow\n",
      "    ``'k'``          black\n",
      "    ``'w'``          white\n",
      "    =============    ===============================\n",
      "    \n",
      "    and the ``'CN'`` colors that index into the default property cycle.\n",
      "    \n",
      "    If the color is the only part of the format string, you can\n",
      "    additionally use any  `matplotlib.colors` spec, e.g. full names\n",
      "    (``'green'``) or hex strings (``'#008000'``).\n",
      "\n"
     ]
    }
   ],
   "source": [
    "#dir(plt)\n",
    "#help(plt)\n",
    "help(plt.plot)\n",
    "#help(plt.subplots)"
   ]
  },
  {
   "cell_type": "markdown",
   "metadata": {},
   "source": [
    "Vamos começar com um gráfico simples.\n",
    "\n",
    "Primeiro nós vamos criar dois objetos: uma figura (_fig_), que representa a figura como um todo, e um objeto plot (_ax_), representado pelos eixos, que é onde serão acrescentados os dados."
   ]
  },
  {
   "cell_type": "code",
   "execution_count": 369,
   "metadata": {
    "scrolled": true
   },
   "outputs": [
    {
     "data": {
      "text/plain": [
       "[<matplotlib.lines.Line2D at 0x7fa3437b8d30>]"
      ]
     },
     "execution_count": 369,
     "metadata": {},
     "output_type": "execute_result"
    },
    {
     "data": {
      "image/png": "[encoded data removed]",
      "text/plain": [
       "<Figure size 432x288 with 1 Axes>"
      ]
     },
     "metadata": {
      "needs_background": "light"
     },
     "output_type": "display_data"
    }
   ],
   "source": [
    "fig, ax = plt.subplots()    # Criando os objetos.\n",
    "\n",
    "ax.plot(1.0, 1.0, 'ro')    # Plotando o ponto 1.0, 1.0 como um círculo vermelho."
   ]
  },
  {
   "cell_type": "markdown",
   "metadata": {},
   "source": [
    "No código acima estamos criando os objetos _fig_ e _ax_ e estamos adicionando os pontos que queremos plotar ao objeto _ax_.\n",
    "\n",
    "Estamos plotando o ponto (1,1) usando um círculo vermelho.\n",
    "\n",
    "((Ver o final do help(plt.plot) para mais opções de cores e formas.))\n",
    "\n",
    "Vamos adicionar mais um ponto."
   ]
  },
  {
   "cell_type": "code",
   "execution_count": 370,
   "metadata": {},
   "outputs": [
    {
     "data": {
      "text/plain": [
       "[<matplotlib.lines.Line2D at 0x7fa34369a280>]"
      ]
     },
     "execution_count": 370,
     "metadata": {},
     "output_type": "execute_result"
    },
    {
     "data": {
      "image/png": "[encoded data removed]",
      "text/plain": [
       "<Figure size 432x288 with 1 Axes>"
      ]
     },
     "metadata": {
      "needs_background": "light"
     },
     "output_type": "display_data"
    }
   ],
   "source": [
    "fig, ax = plt.subplots()  \n",
    "\n",
    "ax.plot(1.0, 1.0, 'ro')   \n",
    "\n",
    "ax.plot(2.0, 1.0, 'xb')   "
   ]
  },
  {
   "cell_type": "markdown",
   "metadata": {},
   "source": [
    "Mais pontos."
   ]
  },
  {
   "cell_type": "code",
   "execution_count": 371,
   "metadata": {},
   "outputs": [
    {
     "data": {
      "text/plain": [
       "[<matplotlib.lines.Line2D at 0x7fa3436870d0>]"
      ]
     },
     "execution_count": 371,
     "metadata": {},
     "output_type": "execute_result"
    },
    {
     "data": {
      "image/png": "[encoded data removed]",
      "text/plain": [
       "<Figure size 432x288 with 1 Axes>"
      ]
     },
     "metadata": {
      "needs_background": "light"
     },
     "output_type": "display_data"
    }
   ],
   "source": [
    "fig, ax = plt.subplots()  \n",
    "\n",
    "ax.plot(1.0, 1.0, 'ro')   \n",
    "\n",
    "ax.plot(2.0, 1.0, 'xb')   \n",
    "\n",
    "ax.plot(0.0, 0.0, 'k2', markersize = 20)   \n",
    "\n",
    "ax.plot(4.0, 4.0, 'Dg')\n",
    "\n",
    "ax.plot(3.0, 3.0, 'ms')"
   ]
  },
  {
   "cell_type": "markdown",
   "metadata": {},
   "source": [
    "E se quisermos plotar 100 pontos? Ou 1000?\n",
    "\n",
    "A função plot aceita listas como entrada.\n",
    "\n",
    "((Atenção: as duas listas devem ter o mesmo tamanho.))"
   ]
  },
  {
   "cell_type": "code",
   "execution_count": 372,
   "metadata": {
    "scrolled": true
   },
   "outputs": [
    {
     "data": {
      "text/plain": [
       "[<matplotlib.lines.Line2D at 0x7fa3435e3c40>]"
      ]
     },
     "execution_count": 372,
     "metadata": {},
     "output_type": "execute_result"
    },
    {
     "data": {
      "image/png": "[encoded data removed]",
      "text/plain": [
       "<Figure size 432x288 with 1 Axes>"
      ]
     },
     "metadata": {
      "needs_background": "light"
     },
     "output_type": "display_data"
    }
   ],
   "source": [
    "fig, ax = plt.subplots()  \n",
    "\n",
    "x = [1, 2, 3, 4, 5, 6]\n",
    "\n",
    "y = [1, 4, 9, 16, 25, 36]\n",
    "\n",
    "ax.plot(x, y, 'ro') "
   ]
  },
  {
   "cell_type": "markdown",
   "metadata": {},
   "source": [
    "E é aí que podemos usar a _numpy_.\n",
    "\n",
    "Vamos plotar o quadrado de $x$."
   ]
  },
  {
   "cell_type": "code",
   "execution_count": 373,
   "metadata": {},
   "outputs": [
    {
     "data": {
      "text/plain": [
       "[<matplotlib.lines.Line2D at 0x7fa3435beca0>]"
      ]
     },
     "execution_count": 373,
     "metadata": {},
     "output_type": "execute_result"
    },
    {
     "data": {
      "image/png": "[encoded data removed]",
      "text/plain": [
       "<Figure size 432x288 with 1 Axes>"
      ]
     },
     "metadata": {
      "needs_background": "light"
     },
     "output_type": "display_data"
    }
   ],
   "source": [
    "fig, ax = plt.subplots()  \n",
    "\n",
    "x = np.linspace(0.0, 5.0, 101)\n",
    "\n",
    "ax.plot(x, x**2.0, 'ro') "
   ]
  },
  {
   "cell_type": "markdown",
   "metadata": {},
   "source": [
    "Agora o seno."
   ]
  },
  {
   "cell_type": "code",
   "execution_count": 374,
   "metadata": {
    "scrolled": true
   },
   "outputs": [
    {
     "data": {
      "text/plain": [
       "[<matplotlib.lines.Line2D at 0x7fa34351c400>]"
      ]
     },
     "execution_count": 374,
     "metadata": {},
     "output_type": "execute_result"
    },
    {
     "data": {
      "image/png": "[encoded data removed]",
      "text/plain": [
       "<Figure size 432x288 with 1 Axes>"
      ]
     },
     "metadata": {
      "needs_background": "light"
     },
     "output_type": "display_data"
    }
   ],
   "source": [
    "fig, ax = plt.subplots()  \n",
    "\n",
    "x = np.linspace(0.0, 20.0, 201)\n",
    "\n",
    "ax.plot(x, np.sin(x), 'ro') "
   ]
  },
  {
   "cell_type": "markdown",
   "metadata": {},
   "source": [
    "E podemos usar linha em vez de ponto."
   ]
  },
  {
   "cell_type": "code",
   "execution_count": 375,
   "metadata": {},
   "outputs": [
    {
     "data": {
      "text/plain": [
       "[<matplotlib.lines.Line2D at 0x7fa3434fab20>]"
      ]
     },
     "execution_count": 375,
     "metadata": {},
     "output_type": "execute_result"
    },
    {
     "data": {
      "image/png": "[encoded data removed]",
      "text/plain": [
       "<Figure size 432x288 with 1 Axes>"
      ]
     },
     "metadata": {
      "needs_background": "light"
     },
     "output_type": "display_data"
    }
   ],
   "source": [
    "fig, ax = plt.subplots()  \n",
    "\n",
    "x = np.linspace(0.0, 20.0, 201)\n",
    "\n",
    "ax.plot(x, np.sin(x), 'r-') "
   ]
  },
  {
   "cell_type": "markdown",
   "metadata": {},
   "source": [
    "Ou os dois."
   ]
  },
  {
   "cell_type": "code",
   "execution_count": 376,
   "metadata": {},
   "outputs": [
    {
     "data": {
      "text/plain": [
       "[<matplotlib.lines.Line2D at 0x7fa343464880>]"
      ]
     },
     "execution_count": 376,
     "metadata": {},
     "output_type": "execute_result"
    },
    {
     "data": {
      "image/png": "[encoded data removed]",
      "text/plain": [
       "<Figure size 432x288 with 1 Axes>"
      ]
     },
     "metadata": {
      "needs_background": "light"
     },
     "output_type": "display_data"
    }
   ],
   "source": [
    "fig, ax = plt.subplots()  \n",
    "\n",
    "x = np.linspace(0.0, 20.0, 201)\n",
    "\n",
    "ax.plot(x, np.sin(x), 'ro') \n",
    "\n",
    "ax.plot(x, np.sin(x), 'k-') "
   ]
  },
  {
   "cell_type": "markdown",
   "metadata": {},
   "source": [
    "Agora vamos plotar vários funções de $x$ e vamos adicionar várias opções.\n",
    "\n",
    "No final, vamos salvar a figura externamente. Isso é importante quando você quer usar a figura em um artigo ou relatório.\n",
    "\n",
    "Podemos exportar como pdf, png, ps, eps e jpg (e outros formatos).\n",
    "\n",
    "A figura vai aparecer na pasta onde está o seu código.\n",
    "\n",
    "((Para exportar com o Google Colab eu ainda não sei muito bem como fazer, pois a figura vai para o seu Drive.))"
   ]
  },
  {
   "cell_type": "code",
   "execution_count": 12,
   "metadata": {
    "scrolled": true
   },
   "outputs": [
    {
     "data": {
      "image/png": "[encoded data removed]",
      "text/plain": [
       "<Figure size 432x288 with 1 Axes>"
      ]
     },
     "metadata": {
      "needs_background": "light"
     },
     "output_type": "display_data"
    }
   ],
   "source": [
    "fig, ax = plt.subplots()  \n",
    "\n",
    "x = np.linspace(0.0, 2.0, 201)\n",
    "\n",
    "ax.plot(x, x, 'r-', label='função linear')    # Label dá o nome que vai aparecer na legenda.\n",
    "ax.plot(x, x**2.0, 'b--', label='função quadrática') \n",
    "ax.plot(x, x**3.0, 'k-.', label='função cúbica') \n",
    "\n",
    "ax.set_title(\"Funções de x\")    # Título do gráfico.\n",
    "ax.set_xlabel(\"x\")    # Nome do eixo x.\n",
    "ax.set_ylabel(\"y\")    # Nome do eixo y.\n",
    "ax.set_xlim(0.0, 2.0)    # Intervalo no eixo x.\n",
    "ax.set_ylim(0.0, 8.0)    # Intervalo no eixo y.\n",
    "\n",
    "ax.grid(\"on\")    # Mostrando o grid, que são esses quadrados que aparecem no gráfico.\n",
    "\n",
    "ax.legend()    # Criando a legenda.\n",
    "\n",
    "# Exportando a figura em pdf. O bbox_inches tira todo o espaço branco em volta \n",
    "# da figura e o pad_inches ajusta esse recorte. \n",
    "fig.savefig(\"figura1.pdf\", format = \"pdf\", bbox_inches = 'tight', pad_inches = 0.2)\n",
    "fig.savefig(\"figura1.png\", format = \"png\", bbox_inches = 'tight', pad_inches = 0.2)\n",
    "\n",
    "# Se você está usando o Google Colab, tem que rodar os comandos\n",
    "# abaixo para fazer o download da figura.\n",
    "# from google.colab import files\n",
    "# files.download('figura1.pdf')\n",
    "# files.download('figura1.png')"
   ]
  },
  {
   "cell_type": "markdown",
   "metadata": {},
   "source": [
    "Pra quem usar _Latex_, podemos deixar todas as fontes de acordo com o _Latex_ também. \n",
    "\n",
    "Além disso, podemos escrever equações na figura."
   ]
  },
  {
   "cell_type": "code",
   "execution_count": 4,
   "metadata": {
    "scrolled": true
   },
   "outputs": [
    {
     "data": {
      "image/png": "[encoded data removed]",
      "text/plain": [
       "<Figure size 432x288 with 1 Axes>"
      ]
     },
     "metadata": {
      "needs_background": "light"
     },
     "output_type": "display_data"
    }
   ],
   "source": [
    "# Atenção: para dar certo no Google Colab, precisei rodar\n",
    "# a linha abaixo (leva um tempinho).\n",
    "#!apt install texlive-fonts-recommended texlive-fonts-extra cm-super dvipng\n",
    "\n",
    "plt.rcParams['text.usetex'] = True    # Esse comando deixa as fontes no padrão Latex.\n",
    "\n",
    "fig, ax = plt.subplots()  \n",
    "\n",
    "x = np.linspace(0.0, 2.0, 201)\n",
    "\n",
    "ax.plot(x, x, 'r-', label='função linear')    \n",
    "ax.plot(x, x**2.0, 'b--', label='função quadrática') \n",
    "ax.plot(x, x**3.0, 'k-.', label='função cúbica') \n",
    "\n",
    "ax.set_title(r\"Equação: $y = x^n$\", fontsize=20)   \n",
    "ax.set_xlabel(\"$x$\", fontsize=20)    \n",
    "ax.set_ylabel(\"$y$\", fontsize=20)    \n",
    "ax.set_xlim(0.0, 2.0)   \n",
    "ax.set_ylim(0.0, 8.0)   \n",
    "\n",
    "ax.grid(\"on\")\n",
    "\n",
    "ax.legend()    \n",
    "\n",
    "fig.savefig(\"figura1.pdf\", format = \"pdf\", bbox_inches = 'tight', pad_inches = 0.2)\n",
    "fig.savefig(\"figura1.png\", format = \"png\", bbox_inches = 'tight', pad_inches = 0.2)"
   ]
  },
  {
   "cell_type": "markdown",
   "metadata": {},
   "source": [
    "Essa é a configuração básica, temos várias outras opções de configuração e de tipos de gráficos. \n",
    "\n",
    "Para mais informações sobre configuração, dê uma olhada nos _helps_ abaixo."
   ]
  },
  {
   "cell_type": "code",
   "execution_count": 383,
   "metadata": {},
   "outputs": [],
   "source": [
    "#help(axs.text)\n",
    "#help(axs.set_xlabel)\n",
    "#help(axs.set_title)"
   ]
  },
  {
   "cell_type": "markdown",
   "metadata": {},
   "source": [
    "Veja os exemplos abaixo. Faça experimentos com eles. Mude os parâmetros para entender como eles funcionam."
   ]
  },
  {
   "cell_type": "markdown",
   "metadata": {},
   "source": [
    "**Exemplo 1:**"
   ]
  },
  {
   "cell_type": "code",
   "execution_count": 5,
   "metadata": {},
   "outputs": [
    {
     "data": {
      "image/png": "[encoded data removed]",
      "text/plain": [
       "<Figure size 1080x504 with 1 Axes>"
      ]
     },
     "metadata": {
      "needs_background": "light"
     },
     "output_type": "display_data"
    }
   ],
   "source": [
    "plt.rcParams['text.usetex'] = True\n",
    "\n",
    "fig, axs = plt.subplots(figsize = (15, 7))\n",
    "\n",
    "data1 = np.random.normal(0, 1, 100)\n",
    "data2 = np.random.normal(0, 1, 100)\n",
    "data3 = np.random.normal(0, 1, 100)\n",
    "\n",
    "x_ax = np.arange(0, 100, 10)\n",
    "y_ax = np.arange(-3, 3, 1)\n",
    "\n",
    "axs.plot(data1, marker = \"o\")\n",
    "axs.plot(data2, marker = \"*\")\n",
    "axs.plot(data3, marker = \"^\")\n",
    "\n",
    "axs.set_xticks(x_ax)\n",
    "axs.set_xticklabels(labels = x_ax, rotation = 45, fontsize = 12)\n",
    "axs.set_yticks(y_ax)\n",
    "axs.set_yticklabels(labels = y_ax, rotation = 45, fontsize = 12)\n",
    "\n",
    "axs.set_xlabel(r\"$x$\", fontsize = 20)\n",
    "axs.set_ylabel(r\"$y$\", fontsize = 20)\n",
    "\n",
    "axs.set_title(r\"Equação $\\frac{\\partial \\rho}{\\partial t} + \"+\n",
    "              r\"\\nabla \\cdot (\\rho\\mathbf{u}) = 0$\", \n",
    "              fontsize = 40, pad = 25,\n",
    "              bbox = dict(facecolor = 'blue', alpha = 0.1),\n",
    "              animated = True)\n",
    "\n",
    "axs.grid(\"on\")\n",
    "\n",
    "fig.savefig(\"figura1.pdf\", format = \"pdf\", bbox_inches = 'tight', pad_inches = 0.2)"
   ]
  },
  {
   "cell_type": "markdown",
   "metadata": {},
   "source": [
    "**Exemplo 2:** coordenadas polares."
   ]
  },
  {
   "cell_type": "code",
   "execution_count": 386,
   "metadata": {
    "scrolled": true
   },
   "outputs": [
    {
     "data": {
      "text/plain": [
       "[<matplotlib.lines.Line2D at 0x7fa343435c70>]"
      ]
     },
     "execution_count": 386,
     "metadata": {},
     "output_type": "execute_result"
    },
    {
     "data": {
      "image/png": "[encoded data removed]",
      "text/plain": [
       "<Figure size 432x288 with 4 Axes>"
      ]
     },
     "metadata": {
      "needs_background": "light"
     },
     "output_type": "display_data"
    }
   ],
   "source": [
    "x = np.linspace(0.0, 2.0*np.pi, 400)\n",
    "y = np.sin(x**2)\n",
    "\n",
    "# Criando quatro subplots.\n",
    "f, axs = plt.subplots(2, 2, subplot_kw = dict(polar = True))\n",
    "\n",
    "axs[0,0].plot(x, y) \n",
    "axs[0,1].scatter(x, y)\n",
    "axs[1,1].plot(x, y**2.0)"
   ]
  },
  {
   "cell_type": "markdown",
   "metadata": {},
   "source": [
    "**Exemplo 3:** usando números aleatórios para criar os pontos, as cores e os tamanhos dos pontos."
   ]
  },
  {
   "cell_type": "code",
   "execution_count": 387,
   "metadata": {},
   "outputs": [
    {
     "data": {
      "image/png": "[encoded data removed]",
      "text/plain": [
       "<Figure size 432x288 with 1 Axes>"
      ]
     },
     "metadata": {
      "needs_background": "light"
     },
     "output_type": "display_data"
    }
   ],
   "source": [
    "data = {'a': np.arange(50),\n",
    "        'c': np.random.randint(0, 50, 50),\n",
    "        'd': np.random.randn(50)}\n",
    "\n",
    "data['b'] = data['a'] + 10 * np.random.randn(50)\n",
    "data['d'] = np.abs(data['d']) * 100\n",
    "\n",
    "fig, ax = plt.subplots()\n",
    "\n",
    "ax = plt.scatter('a', 'b', c = 'c', s = 'd', data = data)"
   ]
  },
  {
   "cell_type": "markdown",
   "metadata": {},
   "source": [
    "**Exemplo 4:**"
   ]
  },
  {
   "cell_type": "code",
   "execution_count": 388,
   "metadata": {
    "scrolled": true
   },
   "outputs": [
    {
     "data": {
      "image/png": "[encoded data removed]",
      "text/plain": [
       "<Figure size 1080x504 with 3 Axes>"
      ]
     },
     "metadata": {
      "needs_background": "light"
     },
     "output_type": "display_data"
    }
   ],
   "source": [
    "names = ['Athos', 'Porthos', 'Aramis']\n",
    "values = [5, 25, 125]\n",
    "\n",
    "fig, ax = plt.subplots(1, 3, figsize=(15, 7))\n",
    "\n",
    "ax[0].bar(names, values, color=\"red\", label=\"Gráfico de barras.\")\n",
    "ax[0].legend()\n",
    "\n",
    "ax[1].scatter(names, values, color=\"orange\", label=\"Gráfico de pontos.\")\n",
    "ax[1].legend()\n",
    "\n",
    "ax[2].plot(names, values, color=\"green\", label=\"Gráfico de linha.\")\n",
    "ax[2].legend()\n",
    "\n",
    "fig.savefig(\"figura1.pdf\", format = \"pdf\", bbox_inches = 'tight', pad_inches = 0.2)"
   ]
  },
  {
   "cell_type": "markdown",
   "metadata": {},
   "source": [
    "**Exemplo 5:**"
   ]
  },
  {
   "cell_type": "code",
   "execution_count": 389,
   "metadata": {},
   "outputs": [
    {
     "data": {
      "image/png": "[encoded data removed]",
      "text/plain": [
       "<Figure size 432x288 with 1 Axes>"
      ]
     },
     "metadata": {
      "needs_background": "light"
     },
     "output_type": "display_data"
    }
   ],
   "source": [
    "mu, sigma = 100, 15\n",
    "x = mu + sigma * np.random.randn(10000)\n",
    "\n",
    "fig, ax = plt.subplots()\n",
    "\n",
    "ax.hist(x, 50, density=1, facecolor='g', alpha=0.75)\n",
    "\n",
    "#n, bins, patches = plt.\n",
    "\n",
    "ax.set_xlabel(r'$x$', fontsize=20)\n",
    "ax.set_ylabel(r'Probabilidade', fontsize=20)\n",
    "\n",
    "ax.set_title(r'Histograma', fontsize=20)\n",
    "\n",
    "ax.text(45, .025, r'$\\mu=100,\\ \\sigma=15$', size = 20)\n",
    "\n",
    "ax.axis([40, 160, 0, 0.03])\n",
    "\n",
    "ax.grid(True)"
   ]
  },
  {
   "cell_type": "markdown",
   "metadata": {},
   "source": [
    "**Exemplo 6:** podemos colocar desenhos no gráfico, e texto também."
   ]
  },
  {
   "cell_type": "code",
   "execution_count": 9,
   "metadata": {
    "scrolled": true
   },
   "outputs": [
    {
     "data": {
      "text/plain": [
       "(-2.0, 2.0)"
      ]
     },
     "execution_count": 9,
     "metadata": {},
     "output_type": "execute_result"
    },
    {
     "data": {
      "image/png": "[encoded data removed]",
      "text/plain": [
       "<Figure size 432x288 with 1 Axes>"
      ]
     },
     "metadata": {
      "needs_background": "light"
     },
     "output_type": "display_data"
    }
   ],
   "source": [
    "fig, ax = plt.subplots()\n",
    "\n",
    "x = np.arange(0.0, 5.0, 0.01)\n",
    "\n",
    "y = np.cos(2*np.pi*x)\n",
    "\n",
    "ax.plot(x, y, lw=2)\n",
    "\n",
    "ax.annotate(r'Máximo Local', xy=(2.05, 1.05), xytext=(3, 1.5),\n",
    "             arrowprops=dict(facecolor='black', shrink=0.05),\n",
    "             fontsize = 15)   \n",
    "\n",
    "ax.set_ylim(-2.0, 2.0)"
   ]
  },
  {
   "cell_type": "markdown",
   "metadata": {},
   "source": [
    "Para mais informações e exemplos, dê uma olhada no site oficial da _matplotlib_ (https://matplotlib.org/) e também em tutoriais na internet."
   ]
  },
  {
   "cell_type": "markdown",
   "metadata": {},
   "source": [
    "## Tarefa de Casa"
   ]
  },
  {
   "cell_type": "markdown",
   "metadata": {},
   "source": [
    "1. Faça um gráfico com o preço do bitcoin nos últimos 20 dias. \n",
    "1. Crie uma função que plote o gráfico $y = ax^3 + bx^2 + cx + d$, dados $a$, $b$, $c$ e $d$ e o intervalo de $x$ para plotar.\n",
    "1. Cria uma matriz 5x5 de números aleatórios e calcule a média desses números. \n",
    "1. Vamos desenvolver o jogo Pedra, Papel e Tesoura. Você vai pedir para o usuário entrar a escolha dele. Em seguida você vai gerar a escolha do computador. Use números aleatórios do Python para gerar essa escolha. Primeiro faça um jogo justo, no qual o usuário e o computador têm a mesma chance de ganhar. Depois faça um jogo no qual o computador tem uma chance maior de ganhar. Atenção: nesse segundo jogo o computador não vai ganhar todos os jogos, mas no final ele vai ganhar mais do que o usuário. (Dica: dê um _dir_ na biblioteca _numpy_ e procure por números aleatórios, ou _random numbers_.)"
   ]
  },
  {
   "cell_type": "markdown",
   "metadata": {},
   "source": [
    "---"
   ]
  },
  {
   "cell_type": "markdown",
   "metadata": {},
   "source": [
    "## Comentário Final"
   ]
  },
  {
   "cell_type": "markdown",
   "metadata": {},
   "source": [
    "Não abordei aqui no curso um assunto muito importante, que é **manipulação de arquivos externos**.\n",
    "\n",
    "Com o Python podemos **criar** arquivos externos e **escrever** dados nesses arquivos.\n",
    "\n",
    "Também podemos **ler** dados existentes em arquivos externos.\n",
    "\n",
    "Uma biblioteca muito usada para isso é a _pandas_.\n",
    "\n",
    "Deixo aqui um tutorial e um vídeo explicando como fazer essas manipulações.\n",
    "\n",
    "http://devfuria.com.br/python/manipulando-arquivos-de-texto/\n",
    "\n",
    "https://youtu.be/UCOJWSnKCT0\n",
    "\n",
    "((Não sei como fazer isso no Google Colab, ainda estou aprendendo.))"
   ]
  },
  {
   "cell_type": "markdown",
   "metadata": {},
   "source": [
    "## Próximos Passos"
   ]
  },
  {
   "cell_type": "markdown",
   "metadata": {},
   "source": [
    "O mais **importante** agora é: **escolha um projeto.** Algo que te motive. \n",
    "\n",
    "Pode ter alguma utilidade para você, ou não. Execute esse projeto usando Python. \n",
    "\n",
    "É assim, e somente assim, que você vai aprender a programar: **programando**, resolvendo problemas.\n",
    "\n",
    "Seu primeiro código vai ficar feio? Vai. Vai ser o mais eficiente do mundo? Com certeza não. \n",
    "\n",
    "Mas vai funcionar e você vai aprender muito criando esse código. \n",
    "\n",
    "Depois de colocar esse projeto pra funcionar, aí você começa a pensar em maneiras para deixá-lo mais organizado e mais eficiente."
   ]
  },
  {
   "cell_type": "markdown",
   "metadata": {},
   "source": [
    "**Ideias para projetos em Python (escolha um e só passe para o próximo depois de conluir o primeiro):**\n",
    "\n",
    "1. Exporte uma animação (gif ou vídeo), usando matplotlib, da colisão de duas partículas (easy: 2D; hard: 3D). \n",
    "1. Programe o seu jogo da velha. Primeiro sem interface gráfica, na própria janela de comando. Depois com interface gráfica (ver tkinter).\n",
    "1. Faça um jogo usando o pygame ou o turtle (hard: transforme em um app).\n",
    "1. Desenvolva um relógio de desktop usando o tkinter.\n",
    "1. Crie uma agenda usando o Django."
   ]
  },
  {
   "cell_type": "markdown",
   "metadata": {},
   "source": [
    "**Github.** Faça uma conta AGORA! Entre nas contas dos usuários e veja como eles programam (estilo do código, arquivos, comentários...). Assista a esses dois vídeos:\n",
    "\n",
    "1. https://www.youtube.com/watch?v=DqTITcMq68k\n",
    "1. https://www.youtube.com/watch?v=UBAX-13g8OM"
   ]
  },
  {
   "cell_type": "markdown",
   "metadata": {},
   "source": [
    "**Canais no youtube.** Comece a ver conteúdos sobre Python para ir se ambientando com os termos utilizados e com a atmosfera de programação. Dê uma olhada nesses canais:\n",
    "\n",
    "1. https://www.youtube.com/c/FilipeDeschamps\n",
    "1. https://www.youtube.com/c/rafaellaballerini\n",
    "1. https://www.youtube.com/c/PythonProBr\n",
    "1. https://www.youtube.com/c/DevAprender\n",
    "1. https://www.youtube.com/c/realpython"
   ]
  },
  {
   "cell_type": "markdown",
   "metadata": {},
   "source": [
    "**Tutorial oficial do Python, em português:**\n",
    "\n",
    "* https://docs.python.org/pt-br/3/tutorial/"
   ]
  },
  {
   "cell_type": "markdown",
   "metadata": {},
   "source": [
    "**Guia de estilo para programar em Python (PEP 8):**\n",
    "\n",
    "* https://wiki.python.org.br/GuiaDeEstilo"
   ]
  },
  {
   "cell_type": "markdown",
   "metadata": {},
   "source": [
    "**Livros:**\n",
    "\n",
    "1. Introdução à Programação com Python. Nilo Ney Coutinho Menezes. (Programação geral)\n",
    "1. Aprenda Python 3 do Jeito Certo. Zed Shaw. (Python geral, baseado em exercícios)\n",
    "1. Use a Cabeça! Python. Paul Barry. (Livro bem prático)\n",
    "1. Python Crash Course. Eric Matthes. (Python geral, com muitos projetos)\n",
    "1. Matplotlib Plotting Cookbook. Alexandre Devert. (Fazer gráficos com o matplotlib)\n",
    "1. Effective Computation in Physics. Anthony Scopatz e Kathryn D. Huff. (Programação científica)\n",
    "1. Numerical Methods in Engineering with Python 3. Jaan Kiusalaas. (Programação científica, voltado para engenharia)\n",
    "\n",
    "Existem também muitas apostilas excelentes na internet. "
   ]
  },
  {
   "cell_type": "markdown",
   "metadata": {},
   "source": [
    "---"
   ]
  },
  {
   "cell_type": "markdown",
   "metadata": {},
   "source": [
    "---"
   ]
  },
  {
   "cell_type": "markdown",
   "metadata": {},
   "source": [
    "---"
   ]
  },
  {
   "cell_type": "markdown",
   "metadata": {},
   "source": [
    "**Aqui acaba o nosso curso.**\n",
    "\n",
    "Espero que vocês tenham gostado. Eu aprendi muito aqui!!\n",
    "\n",
    "**Muito Obrigado!!!**\n",
    "\n",
    "Adriano Possebon Rosa (possebon.adriano@gmail.com)"
   ]
  },
  {
   "cell_type": "markdown",
   "metadata": {},
   "source": [
    "---"
   ]
  },
  {
   "cell_type": "markdown",
   "metadata": {},
   "source": [
    "---"
   ]
  },
  {
   "cell_type": "markdown",
   "metadata": {},
   "source": [
    "---"
   ]
  }
 ],
 "metadata": {
  "kernelspec": {
   "display_name": "Python 3",
   "language": "python",
   "name": "python3"
  },
  "language_info": {
   "codemirror_mode": {
    "name": "ipython",
    "version": 3
   },
   "file_extension": ".py",
   "mimetype": "text/x-python",
   "name": "python",
   "nbconvert_exporter": "python",
   "pygments_lexer": "ipython3",
   "version": "3.8.5"
  }
 },
 "nbformat": 4,
 "nbformat_minor": 4
}
